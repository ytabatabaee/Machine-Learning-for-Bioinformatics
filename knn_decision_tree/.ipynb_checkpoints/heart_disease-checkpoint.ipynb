{
 "cells": [
  {
   "cell_type": "markdown",
   "metadata": {},
   "source": [
    "<div style=\"direction:rtl;line-height:300%;\"><font face=\"XB Zar\" size=5>\n",
    "<div align=center>\n",
    "<font face=\"B Titr\" size=15>\n",
    "<p></p><p></p>\n",
    "به نام خدا\n",
    "</font>\n",
    "<p></p>\n",
    "<font color=blue>\n",
    "<br>\n",
    " تحلیل داده های قلب با knn و درخت تصمیم \n",
    "<br>\n",
    "تمرین اول یادگیری ماشین برای بایوانفورماتیک\n",
    "</font>\n",
    "<p></p>\n",
    "<p></p>\n",
    "<font color=#FF7500>\n",
    "سیده یاسمین طباطبایی - 95104866 \n",
    "</font>\n",
    "</div>\n",
    "</font>\n",
    "</div>"
   ]
  },
  {
   "cell_type": "markdown",
   "metadata": {},
   "source": [
    "<div style=\"direction:rtl;line-height:300%;text-align:justify\"><font face=\"XB Zar\" size=4>\n",
    "\n",
    "<hr>\n",
    "ابتدا کتاب خانه های لازم و سه فایل utils و KNN و DecisionTree را import می کنیم.\n",
    "</font></div>"
   ]
  },
  {
   "cell_type": "code",
   "execution_count": 1,
   "metadata": {},
   "outputs": [],
   "source": [
    "import pandas as pd\n",
    "import numpy as np\n",
    "import matplotlib.pyplot as plt\n",
    "from scipy.stats import t, stats\n",
    "\n",
    "from utils import *\n",
    "import KNN\n",
    "from KNN import *\n",
    "from DecisionTree import *"
   ]
  },
  {
   "cell_type": "markdown",
   "metadata": {},
   "source": [
    "<div style=\"direction:rtl;line-height:300%;text-align:justify\"><font face=\"XB Zar\" size=4>\n",
    "<hr>\n",
    " سپس دیتاست را در دو دیتافریم x و y می ریزیم که y حاوی لیبل های نهایی است. \n",
    "</font></div>"
   ]
  },
  {
   "cell_type": "code",
   "execution_count": 2,
   "metadata": {},
   "outputs": [
    {
     "name": "stdout",
     "output_type": "stream",
     "text": [
      "303\n"
     ]
    }
   ],
   "source": [
    "x, y = read_data('heart.csv', 'target')\n",
    "print(x.shape[0])"
   ]
  },
  {
   "cell_type": "markdown",
   "metadata": {},
   "source": [
    "<div style=\"direction:rtl;line-height:300%;text-align:justify\"><font face=\"XB Zar\" size=4>\n",
    "<hr> \n",
    " این دیتاست 303 داده دارد که بخشی از آن را در زیر مشاهده می کنید.  \n",
    "</font></div>"
   ]
  },
  {
   "cell_type": "code",
   "execution_count": 3,
   "metadata": {},
   "outputs": [
    {
     "data": {
      "text/html": [
       "<div>\n",
       "<style scoped>\n",
       "    .dataframe tbody tr th:only-of-type {\n",
       "        vertical-align: middle;\n",
       "    }\n",
       "\n",
       "    .dataframe tbody tr th {\n",
       "        vertical-align: top;\n",
       "    }\n",
       "\n",
       "    .dataframe thead th {\n",
       "        text-align: right;\n",
       "    }\n",
       "</style>\n",
       "<table border=\"1\" class=\"dataframe\">\n",
       "  <thead>\n",
       "    <tr style=\"text-align: right;\">\n",
       "      <th></th>\n",
       "      <th>age</th>\n",
       "      <th>sex</th>\n",
       "      <th>cp</th>\n",
       "      <th>trestbps</th>\n",
       "      <th>chol</th>\n",
       "      <th>fbs</th>\n",
       "      <th>restecg</th>\n",
       "      <th>thalach</th>\n",
       "      <th>exang</th>\n",
       "      <th>oldpeak</th>\n",
       "      <th>slope</th>\n",
       "      <th>ca</th>\n",
       "      <th>thal</th>\n",
       "    </tr>\n",
       "  </thead>\n",
       "  <tbody>\n",
       "    <tr>\n",
       "      <th>0</th>\n",
       "      <td>63</td>\n",
       "      <td>1</td>\n",
       "      <td>3</td>\n",
       "      <td>145</td>\n",
       "      <td>233</td>\n",
       "      <td>1</td>\n",
       "      <td>0</td>\n",
       "      <td>150</td>\n",
       "      <td>0</td>\n",
       "      <td>2.3</td>\n",
       "      <td>0</td>\n",
       "      <td>0</td>\n",
       "      <td>1</td>\n",
       "    </tr>\n",
       "    <tr>\n",
       "      <th>1</th>\n",
       "      <td>37</td>\n",
       "      <td>1</td>\n",
       "      <td>2</td>\n",
       "      <td>130</td>\n",
       "      <td>250</td>\n",
       "      <td>0</td>\n",
       "      <td>1</td>\n",
       "      <td>187</td>\n",
       "      <td>0</td>\n",
       "      <td>3.5</td>\n",
       "      <td>0</td>\n",
       "      <td>0</td>\n",
       "      <td>2</td>\n",
       "    </tr>\n",
       "    <tr>\n",
       "      <th>2</th>\n",
       "      <td>41</td>\n",
       "      <td>0</td>\n",
       "      <td>1</td>\n",
       "      <td>130</td>\n",
       "      <td>204</td>\n",
       "      <td>0</td>\n",
       "      <td>0</td>\n",
       "      <td>172</td>\n",
       "      <td>0</td>\n",
       "      <td>1.4</td>\n",
       "      <td>2</td>\n",
       "      <td>0</td>\n",
       "      <td>2</td>\n",
       "    </tr>\n",
       "    <tr>\n",
       "      <th>3</th>\n",
       "      <td>56</td>\n",
       "      <td>1</td>\n",
       "      <td>1</td>\n",
       "      <td>120</td>\n",
       "      <td>236</td>\n",
       "      <td>0</td>\n",
       "      <td>1</td>\n",
       "      <td>178</td>\n",
       "      <td>0</td>\n",
       "      <td>0.8</td>\n",
       "      <td>2</td>\n",
       "      <td>0</td>\n",
       "      <td>2</td>\n",
       "    </tr>\n",
       "    <tr>\n",
       "      <th>4</th>\n",
       "      <td>57</td>\n",
       "      <td>0</td>\n",
       "      <td>0</td>\n",
       "      <td>120</td>\n",
       "      <td>354</td>\n",
       "      <td>0</td>\n",
       "      <td>1</td>\n",
       "      <td>163</td>\n",
       "      <td>1</td>\n",
       "      <td>0.6</td>\n",
       "      <td>2</td>\n",
       "      <td>0</td>\n",
       "      <td>2</td>\n",
       "    </tr>\n",
       "  </tbody>\n",
       "</table>\n",
       "</div>"
      ],
      "text/plain": [
       "   age  sex  cp  trestbps  chol  fbs  restecg  thalach  exang  oldpeak  slope  \\\n",
       "0   63    1   3       145   233    1        0      150      0      2.3      0   \n",
       "1   37    1   2       130   250    0        1      187      0      3.5      0   \n",
       "2   41    0   1       130   204    0        0      172      0      1.4      2   \n",
       "3   56    1   1       120   236    0        1      178      0      0.8      2   \n",
       "4   57    0   0       120   354    0        1      163      1      0.6      2   \n",
       "\n",
       "   ca  thal  \n",
       "0   0     1  \n",
       "1   0     2  \n",
       "2   0     2  \n",
       "3   0     2  \n",
       "4   0     2  "
      ]
     },
     "execution_count": 3,
     "metadata": {},
     "output_type": "execute_result"
    }
   ],
   "source": [
    "x.head()"
   ]
  },
  {
   "cell_type": "code",
   "execution_count": 4,
   "metadata": {},
   "outputs": [
    {
     "data": {
      "text/html": [
       "<div>\n",
       "<style scoped>\n",
       "    .dataframe tbody tr th:only-of-type {\n",
       "        vertical-align: middle;\n",
       "    }\n",
       "\n",
       "    .dataframe tbody tr th {\n",
       "        vertical-align: top;\n",
       "    }\n",
       "\n",
       "    .dataframe thead th {\n",
       "        text-align: right;\n",
       "    }\n",
       "</style>\n",
       "<table border=\"1\" class=\"dataframe\">\n",
       "  <thead>\n",
       "    <tr style=\"text-align: right;\">\n",
       "      <th></th>\n",
       "      <th>target</th>\n",
       "    </tr>\n",
       "  </thead>\n",
       "  <tbody>\n",
       "    <tr>\n",
       "      <th>0</th>\n",
       "      <td>1</td>\n",
       "    </tr>\n",
       "    <tr>\n",
       "      <th>1</th>\n",
       "      <td>1</td>\n",
       "    </tr>\n",
       "    <tr>\n",
       "      <th>2</th>\n",
       "      <td>1</td>\n",
       "    </tr>\n",
       "    <tr>\n",
       "      <th>3</th>\n",
       "      <td>1</td>\n",
       "    </tr>\n",
       "    <tr>\n",
       "      <th>4</th>\n",
       "      <td>1</td>\n",
       "    </tr>\n",
       "  </tbody>\n",
       "</table>\n",
       "</div>"
      ],
      "text/plain": [
       "   target\n",
       "0       1\n",
       "1       1\n",
       "2       1\n",
       "3       1\n",
       "4       1"
      ]
     },
     "execution_count": 4,
     "metadata": {},
     "output_type": "execute_result"
    }
   ],
   "source": [
    "y.head()"
   ]
  },
  {
   "cell_type": "markdown",
   "metadata": {},
   "source": [
    "<div style=\"direction:rtl;line-height:300%;text-align:justify\"><font face=\"XB Zar\" size=4>\n",
    "<hr>\n",
    "سپس دیتاست را shuffle می کنیم و به نسبت 80 به 20 آن را به داده ی آموزش و داده ی تست تقسیم می کنیم. درنهایت 242 داده ی آموزش و 61 داده ی تست داریم. \n",
    "</font></div>"
   ]
  },
  {
   "cell_type": "code",
   "execution_count": 5,
   "metadata": {},
   "outputs": [
    {
     "name": "stdout",
     "output_type": "stream",
     "text": [
      "training set size =  242\n",
      "test set size =  61\n"
     ]
    }
   ],
   "source": [
    "np.random.seed(173644)\n",
    "\n",
    "x, y = shuffle(x, y)\n",
    "train_x, train_y, test_x, test_y = data_split(x, y, 0.8)\n",
    "print(\"training set size = \", train_x.shape[0]) \n",
    "print(\"test set size = \", test_x.shape[0]) "
   ]
  },
  {
   "cell_type": "markdown",
   "metadata": {},
   "source": [
    "<div style=\"direction:rtl;line-height:300%;text-align:justify\"><font face=\"XB Zar\" size=4>\n",
    "<hr>\n",
    "تابع زیر بهترین classifier را برای پارامترهای مختلف knn یا decision tree به دست می آورد و نهایتا نمودار دقت بر حسب پارامتر را رسم می کند.  \n",
    "</font></div>"
   ]
  },
  {
   "cell_type": "code",
   "execution_count": 6,
   "metadata": {},
   "outputs": [],
   "source": [
    "def accuracy_plot(param_max, est_type):\n",
    "    train_acc = np.zeros(param_max)\n",
    "    test_acc = np.zeros(param_max)\n",
    "\n",
    "    for i in range(1, param_max + 1):\n",
    "        e1 = None\n",
    "        if est_type == \"knn\":\n",
    "            e1 = KNN(i)\n",
    "        elif est_type == \"decision tree\":\n",
    "            e1 = DecisionTree(i, 0.8)\n",
    "        e1.fit(train_x, train_y)\n",
    "\n",
    "        test_pred = e1.predict(test_x)\n",
    "        test_acc[i-1] = accuracy(test_pred, test_y)\n",
    "\n",
    "        train_pred = e1.predict(train_x)\n",
    "        train_acc[i-1] = accuracy(train_pred, train_y)\n",
    "\n",
    "    plt.scatter(range(1, param_max + 1), train_acc, label='Training')\n",
    "    plt.scatter(range(1, param_max + 1), test_acc, label='Test')\n",
    "    plt.xticks(np.arange(1, param_max + 1, 1.0))\n",
    "    plt.xlabel(\"Param\")\n",
    "    plt.ylabel(\"Accuracy\")\n",
    "    plt.legend(loc='lower right')\n",
    "    plt.title(\"Test-Train Accuracy of \" + est_type)\n",
    "    plt.show()\n",
    "    print(\"** Training Accuracy : \\n\", train_acc)\n",
    "    print(\"** Test Accuracy : \\n\", test_acc)"
   ]
  },
  {
   "cell_type": "markdown",
   "metadata": {},
   "source": [
    "<div style=\"direction:rtl;line-height:300%;text-align:justify\"><font face=\"XB Zar\" size=4>\n",
    "<hr>\n",
    "در زیر decision tree را برای درخت با عمق های 1 تا 13 آموزش دادیم. همچنین دقت های عمق های مختلف را در زیر مشاهده می کنید. همانطور که دیده می شود بهترین دقت برای داده ی تست در عمق 7 به دست می آید که 83 درصد است. همچنین می بینیم که هر چه عمق بیشتر می شود، دقت برای داده ی آموزش بالاتر می رود و از جایی به بعد به نزدیک 1 می رسد. دلیل این امر این است که بایاس برای درخت تصمیم با عمق نسب معکوس دارد و هر چه عمق بیشتر بشود بایاس کاهش می یابد بنابراین از جایی به بعد classifier با دقت تقریبا 1 روی داده ی آموزش عمل می کند. اما برای داده ی تست نمودار یک peak تقریبی دارد و از آن به بعد کاهش یافته و بعد converge می کند. دلیل این امر این است که با افزایش عمق درخت، واریانس افزایش می یابد پس عملا overfitting رخ می دهد و دقت داده ی تست تفاوت معنا داری با دقت داده ی آموزش پیدا می کند برای عمق های بالا.\n",
    "  <br>  \n",
    " طبیعتا نمی توان گفت عمقی که decision tree برای آن  که روی داده ی تست ما بهترین دقت را داده بهترین عمق ممکن است و معیار نهایی مدل است. درواقع برای این که بخواهیم به معیار قابل اعتماد تری برسیم باید برای یک عمق میانگین عملکرد classifier را روی داده های تست مختلف بسنجیم (مشابه فرآیندی که در cross-validation طی می شود) و صرفا با بررسی روی یک سری داده ی تست نمی توان بهترین hyperparameter را انتخاب کرد.  \n",
    "</font></div>"
   ]
  },
  {
   "cell_type": "code",
   "execution_count": 7,
   "metadata": {},
   "outputs": [
    {
     "data": {
      "image/png": "[encoded data removed]",
      "text/plain": [
       "<Figure size 432x288 with 1 Axes>"
      ]
     },
     "metadata": {
      "needs_background": "light"
     },
     "output_type": "display_data"
    },
    {
     "name": "stdout",
     "output_type": "stream",
     "text": [
      "** Training Accuracy : \n",
      " [0.76033058 0.78099174 0.85123967 0.87603306 0.90909091 0.95041322\n",
      " 0.95867769 0.96694215 0.97107438 0.97107438 0.97107438 0.97107438\n",
      " 0.97107438]\n",
      "** Test Accuracy : \n",
      " [0.75409836 0.67213115 0.81967213 0.81967213 0.75409836 0.78688525\n",
      " 0.83606557 0.80327869 0.81967213 0.81967213 0.81967213 0.81967213\n",
      " 0.81967213]\n"
     ]
    }
   ],
   "source": [
    "accuracy_plot(13, \"decision tree\")  "
   ]
  },
  {
   "cell_type": "markdown",
   "metadata": {},
   "source": [
    "<div style=\"direction:rtl;line-height:300%;text-align:justify\"><font face=\"XB Zar\" size=4>\n",
    "<hr>\n",
    "مشابه بخش قبل برای تعداد همسایه های 1 تا 15  knn   های مختلف را  آموزش می دهیم. همانطور که مشخص است برای داده ی آموزش دقت با تعداد همسایه ی 1  برابر 100 درصد است. دلیلش هم این است که knn وضعیت داده ی آموزش را به خاطر می سپارد و وقتی فقط از یک نقطه برای محاسبه ی لیبل استفاده می کند آن نقطه دقیقا خود داده است. سپس  با بیشتر شدن تعداد همسایه ها این دقت کاهش می یابد زیرا احتمال نویز بین همسایه ها بیشتر می شود و از جایی به بعد به مقدار ثابتی converge می کند. وضعیت داده ی تست برعکس است. در ابتدا از روی فقط یک داده ی آموزش نمی توان به خوبی داده ی تست را حدس زد و دقت پایینی داریم اما با زیاد شدن همسایه ها تخمین بهتری می زنیم تا جایی که این نمودار هم تقریبا به همان عددی که نمودار آموزش به آن می رسد converge می کند. \n",
    "<br> \n",
    "بهترین نتیجه برای داده ی تست  برای k = 5 با دقت تقریبا 82 درصد به دست می آید.     \n",
    "    \n",
    "</font></div>"
   ]
  },
  {
   "cell_type": "code",
   "execution_count": 8,
   "metadata": {},
   "outputs": [
    {
     "name": "stderr",
     "output_type": "stream",
     "text": [
      "C:\\Users\\y.tabatabaee\\Documents\\Education\\B.Sc. Degree in Computer Engineering\\Machine Learning for Bioinformatics\\ml-for-bio\\KNN.py:29: RuntimeWarning: invalid value encountered in sqrt\n",
      "  return np.sqrt(dist_matrix)\n"
     ]
    },
    {
     "data": {
      "image/png": "[encoded data removed]",
      "text/plain": [
       "<Figure size 432x288 with 1 Axes>"
      ]
     },
     "metadata": {
      "needs_background": "light"
     },
     "output_type": "display_data"
    },
    {
     "name": "stdout",
     "output_type": "stream",
     "text": [
      "** Training Accuracy : \n",
      " [1.         0.87603306 0.90495868 0.88842975 0.88016529 0.8677686\n",
      " 0.8553719  0.85123967 0.85123967 0.83471074 0.83471074 0.84710744\n",
      " 0.83057851 0.83884298 0.83057851]\n",
      "** Test Accuracy : \n",
      " [0.70491803 0.73770492 0.78688525 0.80327869 0.81967213 0.80327869\n",
      " 0.81967213 0.80327869 0.78688525 0.78688525 0.78688525 0.80327869\n",
      " 0.80327869 0.81967213 0.80327869]\n"
     ]
    }
   ],
   "source": [
    "accuracy_plot(15, \"knn\")"
   ]
  },
  {
   "cell_type": "markdown",
   "metadata": {},
   "source": [
    "<div style=\"direction:rtl;line-height:300%;text-align:justify\"><font face=\"XB Zar\" size=4>\n",
    "<hr>\n",
    "کد زیر بهترین مدل را برای دو تخمین گر با cross-validation به دست می آورد. \n",
    "</font></div>"
   ]
  },
  {
   "cell_type": "code",
   "execution_count": 9,
   "metadata": {},
   "outputs": [],
   "source": [
    "def cross_validation(k, x, y, estimator):\n",
    "    acc = np.zeros(k)\n",
    "    for i in range(0, k):\n",
    "        dev_set_x = x.iloc[(int)(i * len(x) / k):(int)((i + 1) * len(x) / k), :]\n",
    "        dev_set_y = y.iloc[(int)(i * len(y) / k):(int)((i + 1) * len(y) / k), :]\n",
    "        train_set_x = x[~x.index.isin(dev_set_x.index.tolist())]\n",
    "        train_set_y = y[~y.index.isin(dev_set_y.index.tolist())]\n",
    "        estimator.fit(train_set_x, train_set_y)\n",
    "        dev_pred = estimator.predict(dev_set_x)\n",
    "        acc[i] = accuracy(dev_pred, dev_set_y)\n",
    "    return np.mean(acc)\n",
    "\n",
    "\n",
    "def best_estimator(param_max, est_type):\n",
    "    best_acc = 0.0\n",
    "    best_param = 1\n",
    "    best_est = None\n",
    "    for i in range(1, param_max + 1):\n",
    "        e1 = None\n",
    "        if est_type == \"knn\":\n",
    "            e1 = KNN(i)\n",
    "        elif est_type == \"decision tree\":\n",
    "            e1 = DecisionTree(i, 0.8)\n",
    "        acc = cross_validation(5, train_x, train_y, e1)\n",
    "        if acc > best_acc:\n",
    "            best_param = i\n",
    "            best_acc = acc\n",
    "            best_est = e1\n",
    "    print('best param: ', best_param)\n",
    "    print('best accuracy: ', best_acc)\n",
    "    return best_est"
   ]
  },
  {
   "cell_type": "markdown",
   "metadata": {},
   "source": [
    "<div style=\"direction:rtl;line-height:300%;text-align:justify\"><font face=\"XB Zar\" size=4>\n",
    "<hr>\n",
    " با five-fold-cross-validation بهترین k برای knn  عدد 4  به دست می اید که به طور میانگین دقت 82.5 را بر روی داده های validation می دهد.  \n",
    "</font></div>"
   ]
  },
  {
   "cell_type": "code",
   "execution_count": 10,
   "metadata": {},
   "outputs": [
    {
     "name": "stdout",
     "output_type": "stream",
     "text": [
      "best param:  4\n",
      "best accuracy:  0.8264455782312925\n"
     ]
    }
   ],
   "source": [
    "best_knn = best_estimator(15, \"knn\")"
   ]
  },
  {
   "cell_type": "markdown",
   "metadata": {},
   "source": [
    "<div style=\"direction:rtl;line-height:300%;text-align:justify\"><font face=\"XB Zar\" size=4>\n",
    "<hr>\n",
    "مشابها بهترین عمق برای درخت تصمیم 3 است که به طور میانگین دقت 77.5 را برای داده های validation می دهد. \n",
    "</font></div>"
   ]
  },
  {
   "cell_type": "code",
   "execution_count": 11,
   "metadata": {},
   "outputs": [
    {
     "name": "stdout",
     "output_type": "stream",
     "text": [
      "best param:  3\n",
      "best accuracy:  0.7765306122448979\n"
     ]
    }
   ],
   "source": [
    "best_dt = best_estimator(13, \"decision tree\")"
   ]
  },
  {
   "cell_type": "markdown",
   "metadata": {},
   "source": [
    "<div style=\"direction:rtl;line-height:300%;text-align:justify\"><font face=\"XB Zar\" size=4>\n",
    "<hr>\n",
    " در زیر confusion matrix و classification report را برای بهترین knn مشاهده می کنید. \n",
    "</font></div>"
   ]
  },
  {
   "cell_type": "code",
   "execution_count": 12,
   "metadata": {},
   "outputs": [
    {
     "name": "stdout",
     "output_type": "stream",
     "text": [
      "                      Actually Positive    Actually Negative\n",
      "------------------  -------------------  -------------------\n",
      "Predicted Positive                   30                    8\n",
      "Predicted Negative                    4                   19\n",
      "\n",
      "\n",
      "\n",
      "  Accuracy    Recall    Precision    Specificity    F1 Score\n",
      "----------  --------  -----------  -------------  ----------\n",
      "  0.803279  0.882353     0.789474       0.703704    0.833333\n"
     ]
    }
   ],
   "source": [
    "# Confusion Matirx and Classification Report for best KNN Classifier\n",
    "\n",
    "knn_pred = best_knn.predict(test_x)\n",
    "report_stats(test_y, knn_pred)"
   ]
  },
  {
   "cell_type": "markdown",
   "metadata": {},
   "source": [
    "<div style=\"direction:rtl;line-height:300%;text-align:justify\"><font face=\"XB Zar\" size=4>\n",
    "<hr>\n",
    "   در زیر confusion matrix و classification report را برای بهترین decision tree مشاهده می کنید.\n",
    "</font></div>"
   ]
  },
  {
   "cell_type": "code",
   "execution_count": 13,
   "metadata": {},
   "outputs": [
    {
     "name": "stdout",
     "output_type": "stream",
     "text": [
      "                      Actually Positive    Actually Negative\n",
      "------------------  -------------------  -------------------\n",
      "Predicted Positive                   33                   11\n",
      "Predicted Negative                    1                   16\n",
      "\n",
      "\n",
      "\n",
      "  Accuracy    Recall    Precision    Specificity    F1 Score\n",
      "----------  --------  -----------  -------------  ----------\n",
      "  0.803279  0.970588         0.75       0.592593    0.846154\n"
     ]
    }
   ],
   "source": [
    "# Confusion Matirx and Classification Report for best Decision Tree Classifier\n",
    "\n",
    "dt_pred = best_dt.predict(test_x)\n",
    "report_stats(test_y, dt_pred)"
   ]
  },
  {
   "cell_type": "markdown",
   "metadata": {},
   "source": [
    "<div style=\"direction:rtl;line-height:300%;text-align:justify\"><font face=\"XB Zar\" size=4>\n",
    "<hr>\n",
    "در زیر paired-t-test با پارامتر alpha = 0.05 را برای این دو بهترین مدل اجرا کردیم. نتیجه ی تست نشان می دهد که تفاوت معنا داری بین میانگین دو توزیع خطا دو classifier وجود ندارد. این را می توانیم با نگاه کردن به confusion matirx ها هم بفهمیم. دو classifier تفاوت اندکی دارند البته recall و specificity تفاوت معنا داری دارند. این امر نیز به علت تفاوت true positive و true negative ها بین دو دسته بند است. جمع تعداد تشخیص های درست یکسان است اما نسبتشان با هم فرق دارد. در نهایت چون تعداد اشتباهات هر دو classifier عدد 12 شده نتیجه ی t-test میانگین خطا را یکسان نشان می دهد.\n",
    "<br>\n",
    "<br>\n",
    "همچنین دقت شود که قبل از ورودی دادن به t-test حاصل تفاضل به توان دوی prediction ها را با داده ی اصلی تست حساب کردیم که برداری به ما می دهد که به ازای خطاها 1 و به ازای تشخیص های درست 0 دارد.   \n",
    "</font></div>"
   ]
  },
  {
   "cell_type": "code",
   "execution_count": 14,
   "metadata": {},
   "outputs": [
    {
     "name": "stdout",
     "output_type": "stream",
     "text": [
      "t-stat =  0.0\n",
      "p-value =  1.0\n",
      "aplha =  0.05\n",
      "Accept the null hypothesis that the means are equal.\n"
     ]
    }
   ],
   "source": [
    "paired_t_test((dt_pred - test_y) ** 2, (knn_pred - test_y) ** 2, 0.05)"
   ]
  },
  {
   "cell_type": "markdown",
   "metadata": {},
   "source": [
    "<div style=\"direction:rtl;line-height:300%;text-align:justify\"><font face=\"XB Zar\" size=4>\n",
    "<hr>\n",
    "<font color=#FF7500>\n",
    "بخش امتیازی: هرس کردن درخت تصمیم\n",
    "</font> \n",
    " <br>    \n",
    " در این بخش درخت تصمیم با عمق 13 را با تست chi-square هرس می کنیم. در صورتی که معیار chi-square برای یک راس و فرزندانش که برگ هستند از critical value با alpha = 0.05 کمتر یا مساوی شود یعنی این تقسیم اطلاعات خوبی به ما نمی دهد   و می توانیم این برگ ها را حذف کنیم.  \n",
    "<br>  \n",
    "    همانطور که مشخص است این درخت نسبت به درخت اولیه 2 درصد بهبود دقت داشته اما با مقایسه آن ها با t-test نشان می دهد که تفاوت معناداری بین prediction هایشان نیست و صرفا کمی بهبود دقت داریم. البته تعداد کل داده ی تست خیلی کم است و اگر داده ی بیشتری داشته باشیم می توانیم این بهبود را به میزان بیشتری مشاهده کنیم چون هرس کردن درخت تصمیم با عمق زیاد از overfitting جلوگیری می کند و باعث می شود روی داده ی تست بهتر عمل کنیم.   \n",
    "</font></div>"
   ]
  },
  {
   "cell_type": "code",
   "execution_count": 15,
   "metadata": {},
   "outputs": [
    {
     "name": "stdout",
     "output_type": "stream",
     "text": [
      "** Initial tree accuracy =  0.819672131147541\n",
      "** Pruned tree accuracy =  0.8360655737704918\n",
      "\n",
      "** T-test Results: \n",
      "t-stat =  0.44794854027761066\n",
      "p-value =  0.6558036402056819\n",
      "aplha =  0.05\n",
      "Accept the null hypothesis that the means are equal.\n",
      "\n",
      "** Stats of initial tree: \n",
      "                      Actually Positive    Actually Negative\n",
      "------------------  -------------------  -------------------\n",
      "Predicted Positive                   31                    8\n",
      "Predicted Negative                    3                   19\n",
      "\n",
      "\n",
      "\n",
      "  Accuracy    Recall    Precision    Specificity    F1 Score\n",
      "----------  --------  -----------  -------------  ----------\n",
      "  0.819672  0.911765     0.794872       0.703704    0.849315\n",
      "\n",
      "** Stats of pruned tree: \n",
      "                      Actually Positive    Actually Negative\n",
      "------------------  -------------------  -------------------\n",
      "Predicted Positive                   32                    8\n",
      "Predicted Negative                    2                   19\n",
      "\n",
      "\n",
      "\n",
      "  Accuracy    Recall    Precision    Specificity    F1 Score\n",
      "----------  --------  -----------  -------------  ----------\n",
      "  0.836066  0.941176          0.8       0.703704    0.864865\n"
     ]
    }
   ],
   "source": [
    "e1 = DecisionTree(13, 0.8)\n",
    "e1.fit(train_x, train_y)\n",
    "y1 = e1.predict(test_x)\n",
    "\n",
    "# Chi_Square pruning of the tree\n",
    "pruning(e1.tree)\n",
    "y2 = e1.predict(test_x)\n",
    "\n",
    "print(\"** Initial tree accuracy = \", accuracy(y1, test_y))\n",
    "print(\"** Pruned tree accuracy = \", accuracy(y2, test_y))\n",
    "print(\"\\n** T-test Results: \")\n",
    "paired_t_test((y1 - test_y) ** 2, (y2 - test_y) ** 2, 0.05)\n",
    "print(\"\\n** Stats of initial tree: \")\n",
    "report_stats(test_y, y1)\n",
    "print(\"\\n** Stats of pruned tree: \")\n",
    "report_stats(test_y, y2)"
   ]
  }
 ],
 "metadata": {
  "kernelspec": {
   "display_name": "Python 3",
   "language": "python",
   "name": "python3"
  },
  "language_info": {
   "codemirror_mode": {
    "name": "ipython",
    "version": 3
   },
   "file_extension": ".py",
   "mimetype": "text/x-python",
   "name": "python",
   "nbconvert_exporter": "python",
   "pygments_lexer": "ipython3",
   "version": "3.7.5rc1"
  }
 },
 "nbformat": 4,
 "nbformat_minor": 2
}
