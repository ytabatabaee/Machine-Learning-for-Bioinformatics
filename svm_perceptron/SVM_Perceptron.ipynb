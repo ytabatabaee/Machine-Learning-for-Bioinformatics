{
 "cells": [
  {
   "cell_type": "markdown",
   "metadata": {},
   "source": [
    "# Breast Cancer Data Analysis with SVM and Perceptron"
   ]
  },
  {
   "cell_type": "markdown",
   "metadata": {},
   "source": [
    "In this project I will analyze the Sklearn Breast Cancer dataset using Soft Margin SVM and Perceptron algorithms."
   ]
  },
  {
   "cell_type": "code",
   "execution_count": 1,
   "metadata": {},
   "outputs": [],
   "source": [
    "# importing libraries\n",
    "import pandas as pd\n",
    "from sklearn.model_selection import train_test_split\n",
    "import numpy as np\n",
    "import matplotlib.pyplot as plt\n",
    "from sklearn.datasets import load_breast_cancer\n",
    "%matplotlib inline\n",
    "plt.rcParams['figure.figsize'] = (10.0, 10.0)\n",
    "from tabulate import tabulate"
   ]
  },
  {
   "cell_type": "markdown",
   "metadata": {},
   "source": [
    "# Soft margin SVM\n",
    "### About the Data:<br/>\n",
    "The purpose of this project is to classify tumors into malignant or benign. The following dataset is constructed based on images of tumors. Features are computed from a digitized image of a fine needle aspirate (FNA) of a breast mass.\n",
    "For more details about the features of this dataset you can visit this link:\n",
    "https://scikit-learn.org/stable/datasets/index.html#breast-cancer-dataset<br/>\n",
    "This dataset contains 30 features and 1 label that is called target. We should find a proper hyperplane that separates malignant and benign samples.\n",
    "The original dataset labels is 0 and 1 and in the following code boxes we change it to -1 and 1."
   ]
  },
  {
   "cell_type": "code",
   "execution_count": 47,
   "metadata": {},
   "outputs": [
    {
     "data": {
      "text/html": [
       "<div>\n",
       "<style scoped>\n",
       "    .dataframe tbody tr th:only-of-type {\n",
       "        vertical-align: middle;\n",
       "    }\n",
       "\n",
       "    .dataframe tbody tr th {\n",
       "        vertical-align: top;\n",
       "    }\n",
       "\n",
       "    .dataframe thead th {\n",
       "        text-align: right;\n",
       "    }\n",
       "</style>\n",
       "<table border=\"1\" class=\"dataframe\">\n",
       "  <thead>\n",
       "    <tr style=\"text-align: right;\">\n",
       "      <th></th>\n",
       "      <th>mean radius</th>\n",
       "      <th>mean texture</th>\n",
       "      <th>mean perimeter</th>\n",
       "      <th>mean area</th>\n",
       "      <th>mean smoothness</th>\n",
       "      <th>mean compactness</th>\n",
       "      <th>mean concavity</th>\n",
       "      <th>mean concave points</th>\n",
       "      <th>mean symmetry</th>\n",
       "      <th>mean fractal dimension</th>\n",
       "      <th>...</th>\n",
       "      <th>worst texture</th>\n",
       "      <th>worst perimeter</th>\n",
       "      <th>worst area</th>\n",
       "      <th>worst smoothness</th>\n",
       "      <th>worst compactness</th>\n",
       "      <th>worst concavity</th>\n",
       "      <th>worst concave points</th>\n",
       "      <th>worst symmetry</th>\n",
       "      <th>worst fractal dimension</th>\n",
       "      <th>target</th>\n",
       "    </tr>\n",
       "  </thead>\n",
       "  <tbody>\n",
       "    <tr>\n",
       "      <th>0</th>\n",
       "      <td>17.99</td>\n",
       "      <td>10.38</td>\n",
       "      <td>122.80</td>\n",
       "      <td>1001.0</td>\n",
       "      <td>0.11840</td>\n",
       "      <td>0.27760</td>\n",
       "      <td>0.3001</td>\n",
       "      <td>0.14710</td>\n",
       "      <td>0.2419</td>\n",
       "      <td>0.07871</td>\n",
       "      <td>...</td>\n",
       "      <td>17.33</td>\n",
       "      <td>184.60</td>\n",
       "      <td>2019.0</td>\n",
       "      <td>0.1622</td>\n",
       "      <td>0.6656</td>\n",
       "      <td>0.7119</td>\n",
       "      <td>0.2654</td>\n",
       "      <td>0.4601</td>\n",
       "      <td>0.11890</td>\n",
       "      <td>0.0</td>\n",
       "    </tr>\n",
       "    <tr>\n",
       "      <th>1</th>\n",
       "      <td>20.57</td>\n",
       "      <td>17.77</td>\n",
       "      <td>132.90</td>\n",
       "      <td>1326.0</td>\n",
       "      <td>0.08474</td>\n",
       "      <td>0.07864</td>\n",
       "      <td>0.0869</td>\n",
       "      <td>0.07017</td>\n",
       "      <td>0.1812</td>\n",
       "      <td>0.05667</td>\n",
       "      <td>...</td>\n",
       "      <td>23.41</td>\n",
       "      <td>158.80</td>\n",
       "      <td>1956.0</td>\n",
       "      <td>0.1238</td>\n",
       "      <td>0.1866</td>\n",
       "      <td>0.2416</td>\n",
       "      <td>0.1860</td>\n",
       "      <td>0.2750</td>\n",
       "      <td>0.08902</td>\n",
       "      <td>0.0</td>\n",
       "    </tr>\n",
       "    <tr>\n",
       "      <th>2</th>\n",
       "      <td>19.69</td>\n",
       "      <td>21.25</td>\n",
       "      <td>130.00</td>\n",
       "      <td>1203.0</td>\n",
       "      <td>0.10960</td>\n",
       "      <td>0.15990</td>\n",
       "      <td>0.1974</td>\n",
       "      <td>0.12790</td>\n",
       "      <td>0.2069</td>\n",
       "      <td>0.05999</td>\n",
       "      <td>...</td>\n",
       "      <td>25.53</td>\n",
       "      <td>152.50</td>\n",
       "      <td>1709.0</td>\n",
       "      <td>0.1444</td>\n",
       "      <td>0.4245</td>\n",
       "      <td>0.4504</td>\n",
       "      <td>0.2430</td>\n",
       "      <td>0.3613</td>\n",
       "      <td>0.08758</td>\n",
       "      <td>0.0</td>\n",
       "    </tr>\n",
       "    <tr>\n",
       "      <th>3</th>\n",
       "      <td>11.42</td>\n",
       "      <td>20.38</td>\n",
       "      <td>77.58</td>\n",
       "      <td>386.1</td>\n",
       "      <td>0.14250</td>\n",
       "      <td>0.28390</td>\n",
       "      <td>0.2414</td>\n",
       "      <td>0.10520</td>\n",
       "      <td>0.2597</td>\n",
       "      <td>0.09744</td>\n",
       "      <td>...</td>\n",
       "      <td>26.50</td>\n",
       "      <td>98.87</td>\n",
       "      <td>567.7</td>\n",
       "      <td>0.2098</td>\n",
       "      <td>0.8663</td>\n",
       "      <td>0.6869</td>\n",
       "      <td>0.2575</td>\n",
       "      <td>0.6638</td>\n",
       "      <td>0.17300</td>\n",
       "      <td>0.0</td>\n",
       "    </tr>\n",
       "    <tr>\n",
       "      <th>4</th>\n",
       "      <td>20.29</td>\n",
       "      <td>14.34</td>\n",
       "      <td>135.10</td>\n",
       "      <td>1297.0</td>\n",
       "      <td>0.10030</td>\n",
       "      <td>0.13280</td>\n",
       "      <td>0.1980</td>\n",
       "      <td>0.10430</td>\n",
       "      <td>0.1809</td>\n",
       "      <td>0.05883</td>\n",
       "      <td>...</td>\n",
       "      <td>16.67</td>\n",
       "      <td>152.20</td>\n",
       "      <td>1575.0</td>\n",
       "      <td>0.1374</td>\n",
       "      <td>0.2050</td>\n",
       "      <td>0.4000</td>\n",
       "      <td>0.1625</td>\n",
       "      <td>0.2364</td>\n",
       "      <td>0.07678</td>\n",
       "      <td>0.0</td>\n",
       "    </tr>\n",
       "  </tbody>\n",
       "</table>\n",
       "<p>5 rows × 31 columns</p>\n",
       "</div>"
      ],
      "text/plain": [
       "   mean radius  mean texture  mean perimeter  mean area  mean smoothness  \\\n",
       "0        17.99         10.38          122.80     1001.0          0.11840   \n",
       "1        20.57         17.77          132.90     1326.0          0.08474   \n",
       "2        19.69         21.25          130.00     1203.0          0.10960   \n",
       "3        11.42         20.38           77.58      386.1          0.14250   \n",
       "4        20.29         14.34          135.10     1297.0          0.10030   \n",
       "\n",
       "   mean compactness  mean concavity  mean concave points  mean symmetry  \\\n",
       "0           0.27760          0.3001              0.14710         0.2419   \n",
       "1           0.07864          0.0869              0.07017         0.1812   \n",
       "2           0.15990          0.1974              0.12790         0.2069   \n",
       "3           0.28390          0.2414              0.10520         0.2597   \n",
       "4           0.13280          0.1980              0.10430         0.1809   \n",
       "\n",
       "   mean fractal dimension  ...  worst texture  worst perimeter  worst area  \\\n",
       "0                 0.07871  ...          17.33           184.60      2019.0   \n",
       "1                 0.05667  ...          23.41           158.80      1956.0   \n",
       "2                 0.05999  ...          25.53           152.50      1709.0   \n",
       "3                 0.09744  ...          26.50            98.87       567.7   \n",
       "4                 0.05883  ...          16.67           152.20      1575.0   \n",
       "\n",
       "   worst smoothness  worst compactness  worst concavity  worst concave points  \\\n",
       "0            0.1622             0.6656           0.7119                0.2654   \n",
       "1            0.1238             0.1866           0.2416                0.1860   \n",
       "2            0.1444             0.4245           0.4504                0.2430   \n",
       "3            0.2098             0.8663           0.6869                0.2575   \n",
       "4            0.1374             0.2050           0.4000                0.1625   \n",
       "\n",
       "   worst symmetry  worst fractal dimension  target  \n",
       "0          0.4601                  0.11890     0.0  \n",
       "1          0.2750                  0.08902     0.0  \n",
       "2          0.3613                  0.08758     0.0  \n",
       "3          0.6638                  0.17300     0.0  \n",
       "4          0.2364                  0.07678     0.0  \n",
       "\n",
       "[5 rows x 31 columns]"
      ]
     },
     "execution_count": 47,
     "metadata": {},
     "output_type": "execute_result"
    }
   ],
   "source": [
    "cancer = load_breast_cancer()\n",
    "df = pd.DataFrame(np.c_[cancer[\"data\"], cancer[\"target\"]], columns = np.append(cancer[\"feature_names\"],[\"target\"]))\n",
    "df.head()"
   ]
  },
  {
   "cell_type": "code",
   "execution_count": 48,
   "metadata": {},
   "outputs": [
    {
     "name": "stdout",
     "output_type": "stream",
     "text": [
      "71.8804920913884 %\n",
      "71.8804920913884 %\n",
      "20.035149384885763 %\n",
      "20.035149384885763 %\n",
      "8.084358523725834 %\n",
      "8.084358523725834 %\n"
     ]
    }
   ],
   "source": [
    "cancer.target = np.where(cancer.target==0, -1, cancer.target) \n",
    "\n",
    "X_train, X_test, y_train, y_test = train_test_split(cancer.data, cancer.target, test_size = 0.2)\n",
    "X_train, X_val, y_train, y_val = train_test_split(X_train, y_train, test_size = 0.1)\n",
    "\n",
    "print((X_train.shape[0]/cancer.data.shape[0]) * 100, \"%\")\n",
    "print((y_train.shape[0]/cancer.data.shape[0]) * 100, \"%\")\n",
    "print((X_test.shape[0]/cancer.data.shape[0]) * 100, \"%\")\n",
    "print((y_test.shape[0]/cancer.data.shape[0]) * 100, \"%\")\n",
    "print((X_val.shape[0]/cancer.data.shape[0]) * 100, \"%\")\n",
    "print((y_val.shape[0]/cancer.data.shape[0]) * 100, \"%\")"
   ]
  },
  {
   "cell_type": "markdown",
   "metadata": {},
   "source": [
    "### soft margin SVM optimization:<br/>\n",
    "We add 1 at the beginning of each Xs data (X_train, X_val , ...) and then the bias will be calculated implicitly.\n",
    "Then you should minimize the following SVM loss function (using gradient descent) with changing parameters of model.<br>\n",
    "In this notation: \n",
    "\\begin{equation}\n",
    "x_i , y_i\n",
    "\\end{equation}\n",
    "refers to feature vector of the sample and the label of our training data<br>\n",
    "and this is SVM loss function:\n",
    "\n",
    "\\begin{equation}\n",
    "\\large\n",
    "J(W) = \\frac{1}{N} \\sum_{i=1}^{N}{L^{(i)}} + \\frac{\\lambda}{2} ||W||^2\\\\\n",
    "\\large\n",
    "L^{(i)} ={max(0, 1 - y_i(w^{T}x_i)})\n",
    "\\;\\\\\n",
    "\\end{equation} \n"
   ]
  },
  {
   "cell_type": "code",
   "execution_count": 49,
   "metadata": {},
   "outputs": [
    {
     "name": "stdout",
     "output_type": "stream",
     "text": [
      "(409, 31)\n",
      "(46, 31)\n",
      "(114, 31)\n"
     ]
    }
   ],
   "source": [
    "# >>>>>WARNING: RUN THIS CELL ONLY ONCE!<<<<<\n",
    "\n",
    "# adding 1s to the end of feature vectors to be multiplied by bias term of weights\n",
    "X_val = np.insert(X_val, 0, 1, axis=1)\n",
    "X_train = np.insert(X_train, 0, 1, axis=1)\n",
    "X_test = np.insert(X_test, 0, 1, axis=1)\n",
    "print(X_train.shape)  \n",
    "print(X_val.shape)  \n",
    "print(X_test.shape) "
   ]
  },
  {
   "cell_type": "markdown",
   "metadata": {},
   "source": [
    "## SVM Implementation"
   ]
  },
  {
   "cell_type": "code",
   "execution_count": 5,
   "metadata": {
    "ExecuteTime": {
     "end_time": "2020-03-12T16:30:29.561420Z",
     "start_time": "2020-03-12T16:30:29.538696Z"
    }
   },
   "outputs": [],
   "source": [
    "class SVM:\n",
    "    def __init__(self, n_features: int, std: float):\n",
    "        \"\"\"\n",
    "        n_features: number of features in (or the dimension of) each instance\n",
    "        std: standard deviation used in the initialization of the weights of svm\n",
    "        \"\"\"\n",
    "        self.n_features = n_features\n",
    "        self.w = np.random.normal(scale=std, size=n_features)\n",
    "        \n",
    "\n",
    "    def loss(self, X: np.ndarray, y: np.ndarray, reg_coeff: float):\n",
    "        \"\"\"\n",
    "        X: training instances as a 2d-array with shape (num_train, n_features)\n",
    "        y: labels corresponsing to the given training instances as a 1d-array with shape (num_train,)\n",
    "        reg_coeff: L2-regularization coefficient\n",
    "        \"\"\"\n",
    "        hinge_loss = np.maximum(0, 1 - y * np.dot(X, self.w))\n",
    "        loss = np.sum(hinge_loss) / X.shape[0] + reg_coeff / 2 * np.linalg.norm(self.w) ** 2\n",
    "        return loss\n",
    "        \n",
    "    def update_weights(self,  X: np.ndarray, y: np.ndarray, learning_rate: float , reg_coeff: float):\n",
    "        \"\"\"\n",
    "        Updates the weights of the svm using the gradient of computed loss with respect to the weights. \n",
    "        learning_rate: learning rate that will be used in gradient descent to update the weights\n",
    "        \"\"\"        \n",
    "        loss = np.maximum(0, 1 - y * np.dot(X, self.w))\n",
    "        loss_indicator = np.zeros(loss.shape)\n",
    "        loss_indicator[loss > 0] = 1\n",
    "        \n",
    "        gradient = 0.0\n",
    "        for i in range(X.shape[0]):\n",
    "             gradient += reg_coeff * self.w - loss_indicator[i] * X[i] * y[i]    \n",
    "        self.w = self.w - learning_rate * gradient / X.shape[0]\n",
    "\n",
    "    def predict(self, X):\n",
    "        \"\"\"\n",
    "        X: Numpy 2d-array of instances\n",
    "        \"\"\"\n",
    "        y_pred = None\n",
    "        y_pred = np.sign(np.dot(X, self.w))\n",
    "        return y_pred\n"
   ]
  },
  {
   "cell_type": "markdown",
   "metadata": {},
   "source": [
    "This cell contains our hyper parameters:"
   ]
  },
  {
   "cell_type": "code",
   "execution_count": 64,
   "metadata": {},
   "outputs": [],
   "source": [
    "std = 0.0001\n",
    "num_iters = 15000\n",
    "reg_coeff = 20\n",
    "learning_rate=1e-8\n",
    "# learning rate for increasing loss\n",
    "# learning_rate=0.1"
   ]
  },
  {
   "cell_type": "markdown",
   "metadata": {},
   "source": [
    "In this cell using our SVM class, we want to train our model for cancer data:<br/>\n",
    "In every iteration we should see the training loss decrease."
   ]
  },
  {
   "cell_type": "code",
   "execution_count": 27,
   "metadata": {},
   "outputs": [
    {
     "name": "stdout",
     "output_type": "stream",
     "text": [
      "iteration 0, loss 1.051124, val acc 67.39%\n",
      "iteration 100, loss 1.009181, val acc 8.70%\n",
      "iteration 200, loss 0.967240, val acc 32.61%\n",
      "iteration 300, loss 0.940460, val acc 32.61%\n",
      "iteration 400, loss 0.933986, val acc 32.61%\n",
      "iteration 500, loss 0.931771, val acc 32.61%\n",
      "iteration 600, loss 0.930017, val acc 32.61%\n",
      "iteration 700, loss 0.928324, val acc 32.61%\n",
      "iteration 800, loss 0.926653, val acc 32.61%\n",
      "iteration 900, loss 0.924987, val acc 32.61%\n",
      "iteration 1000, loss 0.923332, val acc 32.61%\n",
      "iteration 1100, loss 0.921681, val acc 32.61%\n",
      "iteration 1200, loss 0.920031, val acc 32.61%\n",
      "iteration 1300, loss 0.918381, val acc 32.61%\n",
      "iteration 1400, loss 0.916731, val acc 32.61%\n",
      "iteration 1500, loss 0.915081, val acc 32.61%\n",
      "iteration 1600, loss 0.913431, val acc 32.61%\n",
      "iteration 1700, loss 0.911782, val acc 32.61%\n",
      "iteration 1800, loss 0.910132, val acc 32.61%\n",
      "iteration 1900, loss 0.908482, val acc 32.61%\n",
      "iteration 2000, loss 0.906833, val acc 32.61%\n",
      "iteration 2100, loss 0.905183, val acc 32.61%\n",
      "iteration 2200, loss 0.903548, val acc 32.61%\n",
      "iteration 2300, loss 0.901939, val acc 32.61%\n",
      "iteration 2400, loss 0.900341, val acc 32.61%\n",
      "iteration 2500, loss 0.898749, val acc 32.61%\n",
      "iteration 2600, loss 0.897227, val acc 32.61%\n",
      "iteration 2700, loss 0.895738, val acc 32.61%\n",
      "iteration 2800, loss 0.894248, val acc 32.61%\n",
      "iteration 2900, loss 0.892759, val acc 32.61%\n",
      "iteration 3000, loss 0.891269, val acc 32.61%\n",
      "iteration 3100, loss 0.889780, val acc 32.61%\n",
      "iteration 3200, loss 0.888294, val acc 32.61%\n",
      "iteration 3300, loss 0.886812, val acc 32.61%\n",
      "iteration 3400, loss 0.885331, val acc 32.61%\n",
      "iteration 3500, loss 0.883849, val acc 32.61%\n",
      "iteration 3600, loss 0.882368, val acc 32.61%\n",
      "iteration 3700, loss 0.880886, val acc 32.61%\n",
      "iteration 3800, loss 0.879419, val acc 32.61%\n",
      "iteration 3900, loss 0.877963, val acc 32.61%\n",
      "iteration 4000, loss 0.876507, val acc 32.61%\n",
      "iteration 4100, loss 0.875051, val acc 32.61%\n",
      "iteration 4200, loss 0.873595, val acc 32.61%\n",
      "iteration 4300, loss 0.872139, val acc 32.61%\n",
      "iteration 4400, loss 0.870683, val acc 32.61%\n",
      "iteration 4500, loss 0.869228, val acc 32.61%\n",
      "iteration 4600, loss 0.867772, val acc 32.61%\n",
      "iteration 4700, loss 0.866317, val acc 32.61%\n",
      "iteration 4800, loss 0.864861, val acc 32.61%\n",
      "iteration 4900, loss 0.863406, val acc 32.61%\n",
      "iteration 5000, loss 0.861950, val acc 32.61%\n",
      "iteration 5100, loss 0.860495, val acc 32.61%\n",
      "iteration 5200, loss 0.859040, val acc 32.61%\n",
      "iteration 5300, loss 0.857587, val acc 32.61%\n",
      "iteration 5400, loss 0.856136, val acc 32.61%\n",
      "iteration 5500, loss 0.854688, val acc 32.61%\n",
      "iteration 5600, loss 0.853241, val acc 32.61%\n",
      "iteration 5700, loss 0.851793, val acc 34.78%\n",
      "iteration 5800, loss 0.850346, val acc 34.78%\n",
      "iteration 5900, loss 0.848899, val acc 34.78%\n",
      "iteration 6000, loss 0.847452, val acc 34.78%\n",
      "iteration 6100, loss 0.846012, val acc 36.96%\n",
      "iteration 6200, loss 0.844573, val acc 36.96%\n",
      "iteration 6300, loss 0.843135, val acc 36.96%\n",
      "iteration 6400, loss 0.841696, val acc 36.96%\n",
      "iteration 6500, loss 0.840257, val acc 36.96%\n",
      "iteration 6600, loss 0.838819, val acc 36.96%\n",
      "iteration 6700, loss 0.837380, val acc 36.96%\n",
      "iteration 6800, loss 0.835942, val acc 36.96%\n",
      "iteration 6900, loss 0.834503, val acc 41.30%\n",
      "iteration 7000, loss 0.833065, val acc 43.48%\n",
      "iteration 7100, loss 0.831627, val acc 43.48%\n",
      "iteration 7200, loss 0.830188, val acc 43.48%\n",
      "iteration 7300, loss 0.828752, val acc 43.48%\n",
      "iteration 7400, loss 0.827317, val acc 45.65%\n",
      "iteration 7500, loss 0.825882, val acc 47.83%\n",
      "iteration 7600, loss 0.824447, val acc 47.83%\n",
      "iteration 7700, loss 0.823016, val acc 50.00%\n",
      "iteration 7800, loss 0.821585, val acc 52.17%\n",
      "iteration 7900, loss 0.820154, val acc 54.35%\n",
      "iteration 8000, loss 0.818723, val acc 58.70%\n",
      "iteration 8100, loss 0.817292, val acc 58.70%\n",
      "iteration 8200, loss 0.815861, val acc 63.04%\n",
      "iteration 8300, loss 0.814430, val acc 63.04%\n",
      "iteration 8400, loss 0.813000, val acc 63.04%\n",
      "iteration 8500, loss 0.811569, val acc 63.04%\n",
      "iteration 8600, loss 0.810138, val acc 63.04%\n",
      "iteration 8700, loss 0.808708, val acc 63.04%\n",
      "iteration 8800, loss 0.807277, val acc 63.04%\n",
      "iteration 8900, loss 0.805848, val acc 65.22%\n",
      "iteration 9000, loss 0.804419, val acc 65.22%\n",
      "iteration 9100, loss 0.802989, val acc 67.39%\n",
      "iteration 9200, loss 0.801560, val acc 69.57%\n",
      "iteration 9300, loss 0.800131, val acc 69.57%\n",
      "iteration 9400, loss 0.798702, val acc 71.74%\n",
      "iteration 9500, loss 0.797273, val acc 69.57%\n",
      "iteration 9600, loss 0.795844, val acc 71.74%\n",
      "iteration 9700, loss 0.794415, val acc 71.74%\n",
      "iteration 9800, loss 0.792986, val acc 71.74%\n",
      "iteration 9900, loss 0.791573, val acc 73.91%\n",
      "iteration 10000, loss 0.790160, val acc 78.26%\n",
      "iteration 10100, loss 0.788748, val acc 76.09%\n",
      "iteration 10200, loss 0.787335, val acc 76.09%\n",
      "iteration 10300, loss 0.785926, val acc 78.26%\n",
      "iteration 10400, loss 0.784516, val acc 78.26%\n",
      "iteration 10500, loss 0.783109, val acc 80.43%\n",
      "iteration 10600, loss 0.781713, val acc 80.43%\n",
      "iteration 10700, loss 0.780323, val acc 82.61%\n",
      "iteration 10800, loss 0.778936, val acc 84.78%\n",
      "iteration 10900, loss 0.777549, val acc 84.78%\n",
      "iteration 11000, loss 0.776162, val acc 84.78%\n",
      "iteration 11100, loss 0.774775, val acc 84.78%\n",
      "iteration 11200, loss 0.773388, val acc 82.61%\n",
      "iteration 11300, loss 0.772001, val acc 82.61%\n",
      "iteration 11400, loss 0.770614, val acc 84.78%\n",
      "iteration 11500, loss 0.769228, val acc 84.78%\n",
      "iteration 11600, loss 0.767841, val acc 84.78%\n",
      "iteration 11700, loss 0.766454, val acc 84.78%\n",
      "iteration 11800, loss 0.765068, val acc 84.78%\n",
      "iteration 11900, loss 0.763681, val acc 84.78%\n",
      "iteration 12000, loss 0.762295, val acc 84.78%\n",
      "iteration 12100, loss 0.760908, val acc 84.78%\n",
      "iteration 12200, loss 0.759522, val acc 86.96%\n",
      "iteration 12300, loss 0.758136, val acc 86.96%\n",
      "iteration 12400, loss 0.756750, val acc 86.96%\n",
      "iteration 12500, loss 0.755363, val acc 86.96%\n",
      "iteration 12600, loss 0.753977, val acc 89.13%\n",
      "iteration 12700, loss 0.752591, val acc 89.13%\n",
      "iteration 12800, loss 0.751205, val acc 89.13%\n",
      "iteration 12900, loss 0.749819, val acc 89.13%\n",
      "iteration 13000, loss 0.748433, val acc 89.13%\n",
      "iteration 13100, loss 0.747047, val acc 89.13%\n",
      "iteration 13200, loss 0.745662, val acc 89.13%\n",
      "iteration 13300, loss 0.744276, val acc 89.13%\n",
      "iteration 13400, loss 0.742890, val acc 93.48%\n",
      "iteration 13500, loss 0.741505, val acc 93.48%\n",
      "iteration 13600, loss 0.740119, val acc 93.48%\n",
      "iteration 13700, loss 0.738734, val acc 93.48%\n",
      "iteration 13800, loss 0.737348, val acc 93.48%\n",
      "iteration 13900, loss 0.735963, val acc 93.48%\n",
      "iteration 14000, loss 0.734577, val acc 93.48%\n",
      "iteration 14100, loss 0.733192, val acc 93.48%\n",
      "iteration 14200, loss 0.731807, val acc 93.48%\n",
      "iteration 14300, loss 0.730422, val acc 93.48%\n",
      "iteration 14400, loss 0.729037, val acc 93.48%\n",
      "iteration 14500, loss 0.727651, val acc 93.48%\n",
      "iteration 14600, loss 0.726267, val acc 93.48%\n",
      "iteration 14700, loss 0.724882, val acc 93.48%\n",
      "iteration 14800, loss 0.723497, val acc 93.48%\n",
      "iteration 14900, loss 0.722112, val acc 93.48%\n"
     ]
    }
   ],
   "source": [
    "from sklearn.metrics import accuracy_score\n",
    "model = SVM(n_features=X_train.shape[1], std= std )\n",
    "loss_history = []\n",
    "loss_val_history = []\n",
    "for it in range(num_iters):\n",
    "    loss = model.loss(X_train, y_train, reg_coeff)\n",
    "    loss_val = model.loss(X_val, y_val, reg_coeff)\n",
    "    if it % 100 == 0:\n",
    "        val_preds =  model.predict(X_val)\n",
    "        print('iteration %d, loss %f, val acc %.2f%%' % (it, loss,  accuracy_score(y_val,val_preds) * 100))\n",
    "    model.update_weights(X_train, y_train, learning_rate , reg_coeff)\n",
    "    loss_history.append(loss)\n",
    "    loss_val_history.append(loss_val)"
   ]
  },
  {
   "cell_type": "code",
   "execution_count": 28,
   "metadata": {},
   "outputs": [
    {
     "data": {
      "image/png": "[encoded data removed]",
      "text/plain": [
       "<Figure size 864x432 with 1 Axes>"
      ]
     },
     "metadata": {
      "needs_background": "light"
     },
     "output_type": "display_data"
    }
   ],
   "source": [
    "def plot_loss_profile(loss_history, loss_val_history):\n",
    "    plt.figure(figsize=(12,6))\n",
    "    plt.plot(range(0, num_iters), loss_history, label='Training')\n",
    "    plt.plot(range(0, num_iters), loss_val_history, label='Validation')\n",
    "    plt.xticks(np.arange(0, num_iters + 1, 1000))\n",
    "\n",
    "    plt.xlabel(\"Iteration\")\n",
    "    plt.ylabel(\"Loss\")\n",
    "    plt.legend(loc='upper right')\n",
    "    plt.title(\"Loss Profile of SVM\")\n",
    "    plt.show()       "
   ]
  },
  {
   "cell_type": "code",
   "execution_count": null,
   "metadata": {},
   "outputs": [],
   "source": [
    "plot_loss_profile(loss_history, loss_val_history)"
   ]
  },
  {
   "cell_type": "markdown",
   "metadata": {},
   "source": [
    "### Question 1:\n",
    "With changing the hyper parameters, I found a configuration of hyper parameters that cause our loss to increase after each iteration and then reported that configuration in the next cell."
   ]
  },
  {
   "cell_type": "markdown",
   "metadata": {},
   "source": [
    "std = \"0.0001\" <br>\n",
    "num_iters = \"15000\"<br>\n",
    "reg_coeff = \"20\"<br>\n",
    "learning_rate = \"0.1\"<br>"
   ]
  },
  {
   "cell_type": "markdown",
   "metadata": {},
   "source": [
    "### Question 2:\n",
    "#### The reason of this event<br> \n",
    "Answer:\n",
    "َAs it can be seen in the plot below, if we increase the learning rate from $e^{-8}$ to 0.1 our losses will increase in each iteration and grow up to 7 * $e^{12}$. <br>\n",
    "The learning rate is a parameter that determines how fast or slow we will move towards our optimal weights. The higher the learning rate, the bigger our steps towards the converged weight vector. Therefore, the reason for the divergence in the plot below is that a very large learning rate will make us skip the optimal solution and diverge from it in every step. Hence, our loss will increase at each step. "
   ]
  },
  {
   "cell_type": "code",
   "execution_count": 29,
   "metadata": {},
   "outputs": [
    {
     "data": {
      "image/png": "[encoded data removed]",
      "text/plain": [
       "<Figure size 864x432 with 1 Axes>"
      ]
     },
     "metadata": {
      "needs_background": "light"
     },
     "output_type": "display_data"
    }
   ],
   "source": [
    "plot_loss_profile(loss_history, loss_val_history)"
   ]
  },
  {
   "cell_type": "code",
   "execution_count": 62,
   "metadata": {},
   "outputs": [],
   "source": [
    "def confusion_matrix(y, y_pred):\n",
    "    tp = np.count_nonzero((y_pred == 1) & (y == 1))\n",
    "    fp = np.count_nonzero((y_pred == 1) & (y == -1))\n",
    "    tn = np.count_nonzero((y_pred == -1) & (y == -1))\n",
    "    fn = np.count_nonzero((y_pred == -1) & (y == 1)) \n",
    "    return tp, fp, tn, fn"
   ]
  },
  {
   "cell_type": "code",
   "execution_count": 29,
   "metadata": {},
   "outputs": [
    {
     "name": "stdout",
     "output_type": "stream",
     "text": [
      "                      Actually Positive    Actually Negative\n",
      "------------------  -------------------  -------------------\n",
      "Predicted Positive                   68                   13\n",
      "Predicted Negative                    2                   31\n",
      "Accuracy =  0.868421052631579\n"
     ]
    }
   ],
   "source": [
    "val_preds =  model.predict(X_test)\n",
    "tp, fp, tn, fn = confusion_matrix(y_test, val_preds)\n",
    "print(tabulate([['Predicted Positive', tp, fp], ['Predicted Negative', fn, tn]], headers=['', 'Actually Positive', 'Actually Negative']))\n",
    "accuracy = (tp + tn) / (tp + tn + fp + fn)\n",
    "print(\"Accuracy = \", accuracy)"
   ]
  },
  {
   "cell_type": "markdown",
   "metadata": {},
   "source": [
    "In the next part, we sample from training data with certain size (batch size) instead of using all the training data in each iteration, and train our model on batch data:"
   ]
  },
  {
   "cell_type": "code",
   "execution_count": 30,
   "metadata": {},
   "outputs": [],
   "source": [
    "std = 0.0001\n",
    "batch_size = 200\n",
    "num_iters = 15000\n",
    "reg_coeff = 20\n",
    "learning_rate=1e-8\n",
    "model = SVM(n_features=X_train.shape[1], std= std )"
   ]
  },
  {
   "cell_type": "code",
   "execution_count": 31,
   "metadata": {},
   "outputs": [
    {
     "name": "stdout",
     "output_type": "stream",
     "text": [
      "iteration 0, loss 1.011202, val acc 67.39%\n",
      "iteration 100, loss 0.980154, val acc 32.61%\n",
      "iteration 200, loss 0.964814, val acc 32.61%\n",
      "iteration 300, loss 0.895913, val acc 32.61%\n",
      "iteration 400, loss 0.938355, val acc 32.61%\n",
      "iteration 500, loss 0.942577, val acc 32.61%\n",
      "iteration 600, loss 0.996250, val acc 32.61%\n",
      "iteration 700, loss 0.887043, val acc 32.61%\n",
      "iteration 800, loss 0.923362, val acc 32.61%\n",
      "iteration 900, loss 0.946127, val acc 32.61%\n",
      "iteration 1000, loss 0.941733, val acc 32.61%\n",
      "iteration 1100, loss 0.971160, val acc 32.61%\n",
      "iteration 1200, loss 0.934622, val acc 32.61%\n",
      "iteration 1300, loss 0.932602, val acc 32.61%\n",
      "iteration 1400, loss 0.922570, val acc 32.61%\n",
      "iteration 1500, loss 0.860475, val acc 32.61%\n",
      "iteration 1600, loss 0.916371, val acc 32.61%\n",
      "iteration 1700, loss 0.863175, val acc 32.61%\n",
      "iteration 1800, loss 0.877719, val acc 32.61%\n",
      "iteration 1900, loss 0.831454, val acc 32.61%\n",
      "iteration 2000, loss 0.892192, val acc 32.61%\n",
      "iteration 2100, loss 0.906416, val acc 32.61%\n",
      "iteration 2200, loss 0.928526, val acc 32.61%\n",
      "iteration 2300, loss 0.905975, val acc 32.61%\n",
      "iteration 2400, loss 0.848246, val acc 32.61%\n",
      "iteration 2500, loss 0.880625, val acc 32.61%\n",
      "iteration 2600, loss 0.871115, val acc 32.61%\n",
      "iteration 2700, loss 0.872465, val acc 32.61%\n",
      "iteration 2800, loss 0.885920, val acc 32.61%\n",
      "iteration 2900, loss 0.894466, val acc 32.61%\n",
      "iteration 3000, loss 0.882668, val acc 32.61%\n",
      "iteration 3100, loss 0.863540, val acc 32.61%\n",
      "iteration 3200, loss 0.924983, val acc 32.61%\n",
      "iteration 3300, loss 0.902822, val acc 32.61%\n",
      "iteration 3400, loss 0.837006, val acc 32.61%\n",
      "iteration 3500, loss 0.908238, val acc 32.61%\n",
      "iteration 3600, loss 0.965037, val acc 32.61%\n",
      "iteration 3700, loss 0.916610, val acc 32.61%\n",
      "iteration 3800, loss 0.871072, val acc 32.61%\n",
      "iteration 3900, loss 0.915318, val acc 32.61%\n",
      "iteration 4000, loss 0.885200, val acc 32.61%\n",
      "iteration 4100, loss 0.877847, val acc 32.61%\n",
      "iteration 4200, loss 0.890135, val acc 32.61%\n",
      "iteration 4300, loss 0.887173, val acc 32.61%\n",
      "iteration 4400, loss 0.918302, val acc 32.61%\n",
      "iteration 4500, loss 0.914096, val acc 32.61%\n",
      "iteration 4600, loss 0.845390, val acc 32.61%\n",
      "iteration 4700, loss 0.811768, val acc 32.61%\n",
      "iteration 4800, loss 0.862432, val acc 32.61%\n",
      "iteration 4900, loss 0.866178, val acc 32.61%\n",
      "iteration 5000, loss 0.868204, val acc 32.61%\n",
      "iteration 5100, loss 0.856864, val acc 32.61%\n",
      "iteration 5200, loss 0.790255, val acc 32.61%\n",
      "iteration 5300, loss 0.892674, val acc 34.78%\n",
      "iteration 5400, loss 0.823905, val acc 34.78%\n",
      "iteration 5500, loss 0.839386, val acc 34.78%\n",
      "iteration 5600, loss 0.869748, val acc 34.78%\n",
      "iteration 5700, loss 0.879148, val acc 36.96%\n",
      "iteration 5800, loss 0.790456, val acc 36.96%\n",
      "iteration 5900, loss 0.906146, val acc 36.96%\n",
      "iteration 6000, loss 0.843925, val acc 36.96%\n",
      "iteration 6100, loss 0.856055, val acc 36.96%\n",
      "iteration 6200, loss 0.835033, val acc 36.96%\n",
      "iteration 6300, loss 0.875639, val acc 36.96%\n",
      "iteration 6400, loss 0.885179, val acc 36.96%\n",
      "iteration 6500, loss 0.802292, val acc 41.30%\n",
      "iteration 6600, loss 0.819297, val acc 43.48%\n",
      "iteration 6700, loss 0.818857, val acc 43.48%\n",
      "iteration 6800, loss 0.817887, val acc 43.48%\n",
      "iteration 6900, loss 0.819538, val acc 45.65%\n",
      "iteration 7000, loss 0.846017, val acc 45.65%\n",
      "iteration 7100, loss 0.797030, val acc 45.65%\n",
      "iteration 7200, loss 0.865037, val acc 47.83%\n",
      "iteration 7300, loss 0.821968, val acc 50.00%\n",
      "iteration 7400, loss 0.817019, val acc 54.35%\n",
      "iteration 7500, loss 0.816624, val acc 56.52%\n",
      "iteration 7600, loss 0.795979, val acc 56.52%\n",
      "iteration 7700, loss 0.806315, val acc 63.04%\n",
      "iteration 7800, loss 0.833716, val acc 63.04%\n",
      "iteration 7900, loss 0.775539, val acc 63.04%\n",
      "iteration 8000, loss 0.815183, val acc 63.04%\n",
      "iteration 8100, loss 0.808533, val acc 63.04%\n",
      "iteration 8200, loss 0.805565, val acc 63.04%\n",
      "iteration 8300, loss 0.821157, val acc 65.22%\n",
      "iteration 8400, loss 0.776827, val acc 67.39%\n",
      "iteration 8500, loss 0.809459, val acc 65.22%\n",
      "iteration 8600, loss 0.770234, val acc 67.39%\n",
      "iteration 8700, loss 0.819739, val acc 69.57%\n",
      "iteration 8800, loss 0.855022, val acc 71.74%\n",
      "iteration 8900, loss 0.815455, val acc 73.91%\n",
      "iteration 9000, loss 0.817584, val acc 73.91%\n",
      "iteration 9100, loss 0.832297, val acc 71.74%\n",
      "iteration 9200, loss 0.818191, val acc 71.74%\n",
      "iteration 9300, loss 0.845316, val acc 73.91%\n",
      "iteration 9400, loss 0.783048, val acc 73.91%\n",
      "iteration 9500, loss 0.800333, val acc 73.91%\n",
      "iteration 9600, loss 0.778065, val acc 78.26%\n",
      "iteration 9700, loss 0.792882, val acc 78.26%\n",
      "iteration 9800, loss 0.788624, val acc 78.26%\n",
      "iteration 9900, loss 0.805698, val acc 80.43%\n",
      "iteration 10000, loss 0.786127, val acc 80.43%\n",
      "iteration 10100, loss 0.757746, val acc 80.43%\n",
      "iteration 10200, loss 0.779582, val acc 80.43%\n",
      "iteration 10300, loss 0.769844, val acc 84.78%\n",
      "iteration 10400, loss 0.772937, val acc 84.78%\n",
      "iteration 10500, loss 0.742821, val acc 84.78%\n",
      "iteration 10600, loss 0.769318, val acc 84.78%\n",
      "iteration 10700, loss 0.777130, val acc 82.61%\n",
      "iteration 10800, loss 0.756661, val acc 84.78%\n",
      "iteration 10900, loss 0.757203, val acc 82.61%\n",
      "iteration 11000, loss 0.740196, val acc 84.78%\n",
      "iteration 11100, loss 0.751374, val acc 84.78%\n",
      "iteration 11200, loss 0.785640, val acc 84.78%\n",
      "iteration 11300, loss 0.773018, val acc 84.78%\n",
      "iteration 11400, loss 0.744889, val acc 84.78%\n",
      "iteration 11500, loss 0.809192, val acc 84.78%\n",
      "iteration 11600, loss 0.770992, val acc 84.78%\n",
      "iteration 11700, loss 0.750449, val acc 84.78%\n",
      "iteration 11800, loss 0.763787, val acc 86.96%\n",
      "iteration 11900, loss 0.809418, val acc 89.13%\n",
      "iteration 12000, loss 0.764522, val acc 86.96%\n",
      "iteration 12100, loss 0.778770, val acc 89.13%\n",
      "iteration 12200, loss 0.757134, val acc 89.13%\n",
      "iteration 12300, loss 0.750372, val acc 89.13%\n",
      "iteration 12400, loss 0.735016, val acc 89.13%\n",
      "iteration 12500, loss 0.735570, val acc 89.13%\n",
      "iteration 12600, loss 0.742151, val acc 93.48%\n",
      "iteration 12700, loss 0.751507, val acc 93.48%\n",
      "iteration 12800, loss 0.761929, val acc 93.48%\n",
      "iteration 12900, loss 0.727935, val acc 93.48%\n",
      "iteration 13000, loss 0.744876, val acc 93.48%\n",
      "iteration 13100, loss 0.734245, val acc 93.48%\n",
      "iteration 13200, loss 0.724868, val acc 91.30%\n",
      "iteration 13300, loss 0.735274, val acc 93.48%\n",
      "iteration 13400, loss 0.747638, val acc 93.48%\n",
      "iteration 13500, loss 0.742494, val acc 93.48%\n",
      "iteration 13600, loss 0.743184, val acc 93.48%\n",
      "iteration 13700, loss 0.738675, val acc 93.48%\n",
      "iteration 13800, loss 0.713098, val acc 93.48%\n",
      "iteration 13900, loss 0.696587, val acc 93.48%\n",
      "iteration 14000, loss 0.706960, val acc 93.48%\n",
      "iteration 14100, loss 0.725931, val acc 93.48%\n",
      "iteration 14200, loss 0.739502, val acc 93.48%\n",
      "iteration 14300, loss 0.732645, val acc 93.48%\n",
      "iteration 14400, loss 0.736964, val acc 93.48%\n",
      "iteration 14500, loss 0.736126, val acc 93.48%\n",
      "iteration 14600, loss 0.737082, val acc 93.48%\n",
      "iteration 14700, loss 0.702840, val acc 93.48%\n",
      "iteration 14800, loss 0.739480, val acc 93.48%\n",
      "iteration 14900, loss 0.666530, val acc 93.48%\n"
     ]
    }
   ],
   "source": [
    "loss_history = []\n",
    "loss_val_history = []\n",
    "for it in range(num_iters):\n",
    "    X_batch = None\n",
    "    y_batch = None\n",
    "    indices = np.random.choice(X_train.shape[0], batch_size, replace=True)\n",
    "    X_batch = X_train[indices]\n",
    "    y_batch = y_train[indices]\n",
    "    loss = model.loss(X_batch, y_batch, reg_coeff)\n",
    "    loss_val = model.loss(X_val, y_val, reg_coeff)\n",
    "    if it % 100 == 0:\n",
    "        val_preds =  model.predict(X_val)\n",
    "        print('iteration %d, loss %f, val acc %.2f%%' % (it, loss,  accuracy_score(y_val,val_preds) * 100))\n",
    "    model.update_weights(X_batch, y_batch, learning_rate , reg_coeff)\n",
    "    loss_history.append(loss)\n",
    "    loss_val_history.append(loss_val)"
   ]
  },
  {
   "cell_type": "code",
   "execution_count": 32,
   "metadata": {},
   "outputs": [
    {
     "data": {
      "image/png": "[encoded data removed]",
      "text/plain": [
       "<Figure size 864x432 with 1 Axes>"
      ]
     },
     "metadata": {
      "needs_background": "light"
     },
     "output_type": "display_data"
    }
   ],
   "source": [
    "plot_loss_profile(loss_history, loss_val_history)"
   ]
  },
  {
   "cell_type": "markdown",
   "metadata": {},
   "source": [
    "### Question 3:\n",
    "Why we see fluctuations in this plot?<br>\n",
    "Answer: When we use batch data in our training, we are updating the loss according to a sample of the data (not all of it) at each step. Therefore, each mislabeled data in a batch would affect the weight updates more (because each individual data will have a greater effect on the gradient when we use smaller batches) and can increase the overall loss at some iterations. As a result, the loss is thrown away from its local minimum occasionally. For a larger batch size, this effect and the fluctuations becomes less. "
   ]
  },
  {
   "cell_type": "markdown",
   "metadata": {},
   "source": [
    "# Perceptron"
   ]
  },
  {
   "cell_type": "markdown",
   "metadata": {},
   "source": [
    "By now, you should know how to use and how to implement SVM from scratch.\n",
    "In fact, for perceptron we can use premade functions as below:"
   ]
  },
  {
   "cell_type": "code",
   "execution_count": 58,
   "metadata": {},
   "outputs": [
    {
     "name": "stdout",
     "output_type": "stream",
     "text": [
      "[[60 13]\n",
      " [ 2 39]]\n",
      "test acc 86.84%\n"
     ]
    }
   ],
   "source": [
    "from sklearn.linear_model import Perceptron\n",
    "from sklearn.metrics import accuracy_score\n",
    "from sklearn.metrics import classification_report, confusion_matrix\n",
    "clf = Perceptron(tol=1e-3, random_state=0)\n",
    "clf.fit(X_train, y_train)\n",
    "val_preds = clf.predict(X_test)\n",
    "print(confusion_matrix(y_test,val_preds,[1,-1]))\n",
    "print('test acc %.2f%%' % (accuracy_score(y_test,val_preds) * 100)) "
   ]
  },
  {
   "cell_type": "markdown",
   "metadata": {},
   "source": [
    "### Perceptron Implementation"
   ]
  },
  {
   "cell_type": "code",
   "execution_count": 39,
   "metadata": {},
   "outputs": [],
   "source": [
    "class Perceptron:\n",
    "    def __init__(self, n_features: int, std: float):\n",
    "        self.n_features = n_features\n",
    "        self.w = np.random.normal(scale=std, size=n_features)\n",
    "        \n",
    "\n",
    "    def loss(self, X: np.ndarray, y: np.ndarray, reg_coeff: float):\n",
    "        hinge_loss = np.maximum(0, 1 - y * np.dot(X, self.w)) \n",
    "        return np.sum(hinge_loss) / X.shape[0]\n",
    "\n",
    "    \n",
    "    def update_weights(self,  X: np.ndarray, y: np.ndarray, learning_rate: float , reg_coeff: float):\n",
    "        for i in range(X.shape[0]): \n",
    "            loss = np.maximum(0, 1 - y * np.dot(X, self.w))\n",
    "            loss_indicator = np.zeros(loss.shape)\n",
    "            loss_indicator[loss > 0] = 1\n",
    "            self.w = self.w + learning_rate * loss_indicator[i] * X[i] * y[i]\n",
    "\n",
    "        \n",
    "    def predict(self, X):\n",
    "        y_pred = np.sign(np.dot(X, self.w))\n",
    "        return y_pred"
   ]
  },
  {
   "cell_type": "code",
   "execution_count": 53,
   "metadata": {},
   "outputs": [],
   "source": [
    "# Hyper parameters\n",
    "\n",
    "std = 0.0001\n",
    "num_iters = 8000\n",
    "learning_rate=1e-8"
   ]
  },
  {
   "cell_type": "code",
   "execution_count": 54,
   "metadata": {},
   "outputs": [
    {
     "name": "stdout",
     "output_type": "stream",
     "text": [
      "iteration 0, loss 0.977668, val acc 39.13%\n",
      "iteration 100, loss 0.429612, val acc 69.57%\n",
      "iteration 200, loss 0.328337, val acc 76.09%\n",
      "iteration 300, loss 0.286353, val acc 84.78%\n",
      "iteration 400, loss 0.263137, val acc 91.30%\n",
      "iteration 500, loss 0.248225, val acc 91.30%\n",
      "iteration 600, loss 0.236785, val acc 91.30%\n",
      "iteration 700, loss 0.228191, val acc 93.48%\n",
      "iteration 800, loss 0.222310, val acc 91.30%\n",
      "iteration 900, loss 0.218729, val acc 91.30%\n",
      "iteration 1000, loss 0.215814, val acc 91.30%\n",
      "iteration 1100, loss 0.213378, val acc 91.30%\n",
      "iteration 1200, loss 0.211701, val acc 91.30%\n",
      "iteration 1300, loss 0.209866, val acc 91.30%\n",
      "iteration 1400, loss 0.208100, val acc 91.30%\n",
      "iteration 1500, loss 0.206761, val acc 91.30%\n",
      "iteration 1600, loss 0.205414, val acc 93.48%\n",
      "iteration 1700, loss 0.204067, val acc 93.48%\n",
      "iteration 1800, loss 0.203215, val acc 93.48%\n",
      "iteration 1900, loss 0.202167, val acc 93.48%\n",
      "iteration 2000, loss 0.201389, val acc 91.30%\n",
      "iteration 2100, loss 0.200855, val acc 91.30%\n",
      "iteration 2200, loss 0.200130, val acc 91.30%\n",
      "iteration 2300, loss 0.199629, val acc 91.30%\n",
      "iteration 2400, loss 0.199043, val acc 91.30%\n",
      "iteration 2500, loss 0.198524, val acc 93.48%\n",
      "iteration 2600, loss 0.198089, val acc 93.48%\n",
      "iteration 2700, loss 0.197653, val acc 93.48%\n",
      "iteration 2800, loss 0.197245, val acc 93.48%\n",
      "iteration 2900, loss 0.196856, val acc 93.48%\n",
      "iteration 3000, loss 0.196471, val acc 93.48%\n",
      "iteration 3100, loss 0.196010, val acc 93.48%\n",
      "iteration 3200, loss 0.195636, val acc 93.48%\n",
      "iteration 3300, loss 0.195275, val acc 93.48%\n",
      "iteration 3400, loss 0.194897, val acc 93.48%\n",
      "iteration 3500, loss 0.194646, val acc 93.48%\n",
      "iteration 3600, loss 0.194264, val acc 93.48%\n",
      "iteration 3700, loss 0.194007, val acc 93.48%\n",
      "iteration 3800, loss 0.193753, val acc 93.48%\n",
      "iteration 3900, loss 0.193686, val acc 93.48%\n",
      "iteration 4000, loss 0.193506, val acc 93.48%\n",
      "iteration 4100, loss 0.193313, val acc 93.48%\n",
      "iteration 4200, loss 0.193108, val acc 93.48%\n",
      "iteration 4300, loss 0.192760, val acc 93.48%\n",
      "iteration 4400, loss 0.192551, val acc 93.48%\n",
      "iteration 4500, loss 0.192230, val acc 93.48%\n",
      "iteration 4600, loss 0.192149, val acc 93.48%\n",
      "iteration 4700, loss 0.191947, val acc 93.48%\n",
      "iteration 4800, loss 0.191784, val acc 93.48%\n",
      "iteration 4900, loss 0.191500, val acc 93.48%\n",
      "iteration 5000, loss 0.191365, val acc 93.48%\n",
      "iteration 5100, loss 0.191234, val acc 93.48%\n",
      "iteration 5200, loss 0.191000, val acc 93.48%\n",
      "iteration 5300, loss 0.190917, val acc 93.48%\n",
      "iteration 5400, loss 0.190723, val acc 93.48%\n",
      "iteration 5500, loss 0.190508, val acc 93.48%\n",
      "iteration 5600, loss 0.190445, val acc 93.48%\n",
      "iteration 5700, loss 0.190305, val acc 93.48%\n",
      "iteration 5800, loss 0.190107, val acc 93.48%\n",
      "iteration 5900, loss 0.190048, val acc 93.48%\n",
      "iteration 6000, loss 0.189906, val acc 93.48%\n",
      "iteration 6100, loss 0.189765, val acc 93.48%\n",
      "iteration 6200, loss 0.189624, val acc 93.48%\n",
      "iteration 6300, loss 0.189395, val acc 93.48%\n",
      "iteration 6400, loss 0.189253, val acc 93.48%\n",
      "iteration 6500, loss 0.189111, val acc 93.48%\n",
      "iteration 6600, loss 0.188969, val acc 93.48%\n",
      "iteration 6700, loss 0.188827, val acc 93.48%\n",
      "iteration 6800, loss 0.188685, val acc 93.48%\n",
      "iteration 6900, loss 0.188564, val acc 93.48%\n",
      "iteration 7000, loss 0.188594, val acc 93.48%\n",
      "iteration 7100, loss 0.188480, val acc 93.48%\n",
      "iteration 7200, loss 0.188366, val acc 93.48%\n",
      "iteration 7300, loss 0.188252, val acc 93.48%\n",
      "iteration 7400, loss 0.188133, val acc 93.48%\n",
      "iteration 7500, loss 0.188113, val acc 93.48%\n",
      "iteration 7600, loss 0.187907, val acc 93.48%\n",
      "iteration 7700, loss 0.187848, val acc 93.48%\n",
      "iteration 7800, loss 0.187770, val acc 93.48%\n",
      "iteration 7900, loss 0.187680, val acc 93.48%\n"
     ]
    }
   ],
   "source": [
    "# Perceptron Training\n",
    "\n",
    "from sklearn.metrics import accuracy_score\n",
    "model = Perceptron(n_features=X_train.shape[1], std=std)\n",
    "loss_history = []\n",
    "loss_val_history = []\n",
    "for it in range(num_iters):\n",
    "    loss = model.loss(X_train, y_train, reg_coeff)\n",
    "    loss_val = model.loss(X_val, y_val, reg_coeff)\n",
    "    if it % 100 == 0:\n",
    "        val_preds =  model.predict(X_val)\n",
    "        print('iteration %d, loss %f, val acc %.2f%%' % (it, loss,  accuracy_score(y_val,val_preds) * 100))\n",
    "    model.update_weights(X_train, y_train, learning_rate , reg_coeff)\n",
    "    loss_history.append(loss)\n",
    "    loss_val_history.append(loss_val)"
   ]
  },
  {
   "cell_type": "code",
   "execution_count": 55,
   "metadata": {},
   "outputs": [
    {
     "data": {
      "image/png": "[encoded data removed]",
      "text/plain": [
       "<Figure size 864x432 with 1 Axes>"
      ]
     },
     "metadata": {
      "needs_background": "light"
     },
     "output_type": "display_data"
    }
   ],
   "source": [
    "# Training/Validation loss plots\n",
    "\n",
    "plot_loss_profile(loss_history, loss_val_history)"
   ]
  },
  {
   "cell_type": "code",
   "execution_count": 63,
   "metadata": {},
   "outputs": [
    {
     "name": "stdout",
     "output_type": "stream",
     "text": [
      "                      Actually Positive    Actually Negative\n",
      "------------------  -------------------  -------------------\n",
      "Predicted Positive                   60                    2\n",
      "Predicted Negative                   13                   39\n",
      "Accuracy =  0.868421052631579\n"
     ]
    }
   ],
   "source": [
    "# Confusion Matrix & Accuracy\n",
    "\n",
    "val_preds =  model.predict(X_test)\n",
    "tp, fp, tn, fn = confusion_matrix(y_test, val_preds)\n",
    "print(tabulate([['Predicted Positive', tp, fp], ['Predicted Negative', fn, tn]], headers=['', 'Actually Positive', 'Actually Negative']))\n",
    "accuracy = (tp + tn) / (tp + tn + fp + fn)\n",
    "print(\"Accuracy = \", accuracy)"
   ]
  }
 ],
 "metadata": {
  "kernelspec": {
   "display_name": "Python 3",
   "language": "python",
   "name": "python3"
  },
  "language_info": {
   "codemirror_mode": {
    "name": "ipython",
    "version": 3
   },
   "file_extension": ".py",
   "mimetype": "text/x-python",
   "name": "python",
   "nbconvert_exporter": "python",
   "pygments_lexer": "ipython3",
   "version": "3.7.5rc1"
  },
  "varInspector": {
   "cols": {
    "lenName": 16,
    "lenType": 16,
    "lenVar": 40
   },
   "kernels_config": {
    "python": {
     "delete_cmd_postfix": "",
     "delete_cmd_prefix": "del ",
     "library": "var_list.py",
     "varRefreshCmd": "print(var_dic_list())"
    },
    "r": {
     "delete_cmd_postfix": ") ",
     "delete_cmd_prefix": "rm(",
     "library": "var_list.r",
     "varRefreshCmd": "cat(var_dic_list()) "
    }
   },
   "types_to_exclude": [
    "module",
    "function",
    "builtin_function_or_method",
    "instance",
    "_Feature"
   ],
   "window_display": false
  }
 },
 "nbformat": 4,
 "nbformat_minor": 2
}
