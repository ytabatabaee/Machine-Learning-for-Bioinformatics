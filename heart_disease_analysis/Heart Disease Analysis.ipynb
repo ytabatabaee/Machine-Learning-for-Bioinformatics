{
 "cells": [
  {
   "cell_type": "markdown",
   "metadata": {},
   "source": [
    "# Heart Disease Analysis with KNN and Decision Tree"
   ]
  },
  {
   "cell_type": "markdown",
   "metadata": {},
   "source": [
    "In this project I will analyze the UCI's Heart Disease Dataset using K-Nearest Neighbor and Decision Tree classifiers. The main goal of this project is to implement these classifiers and simple statistics tests from scratch."
   ]
  },
  {
   "cell_type": "markdown",
   "metadata": {},
   "source": [
    "## Data Description\n",
    "\n",
    "### Attribute Information:\n",
    "\n",
    "- age: The person's age in years\n",
    "- sex: The person's sex (1 = male, 0 = female)\n",
    "- cp: The chest pain experienced (Value 1: typical angina, Value 2: atypical angina, Value 3: non-anginal pain, Value 4: asymptomatic)\n",
    "- trestbps: The person's resting blood pressure (mm Hg on admission to the hospital)\n",
    "- chol: The person's cholesterol measurement in mg/dl\n",
    "- fbs: The person's fasting blood sugar (> 120 mg/dl, 1 = true; 0 = false)\n",
    "- restecg: Resting electrocardiographic measurement (0 = normal, 1 = having ST-T wave abnormality, 2 = showing probable or definite left ventricular hypertrophy by Estes' criteria)\n",
    "- thalach: The person's maximum heart rate achieved\n",
    "- exang: Exercise induced angina (1 = yes; 0 = no)\n",
    "- oldpeak: ST depression induced by exercise relative to rest ('ST' relates to positions on the ECG plot. See more here)\n",
    "- slope: the slope of the peak exercise ST segment (Value 1: upsloping, Value 2: flat, Value 3: downsloping)\n",
    "- ca: The number of major vessels (0-3)\n",
    "- thal: A blood disorder called thalassemia (3 = normal; 6 = fixed defect; 7 = reversable defect)\n",
    "- target: Heart disease (0 = no, 1 = yes)\n",
    "\n",
    "\n",
    "## Acknowledgements\n",
    "### Creators:\n",
    "\n",
    "1. Hungarian Institute of Cardiology. Budapest: Andras Janosi, M.D.\n",
    "2. University Hospital, Zurich, Switzerland: William Steinbrunn, M.D.\n",
    "3. University Hospital, Basel, Switzerland: Matthias Pfisterer, M.D.\n",
    "4. V.A. Medical Center, Long Beach and Cleveland Clinic Foundation: Robert Detrano, M.D., Ph.D.\n",
    "\n",
    "Donor:\n",
    "David W. Aha (aha '@' ics.uci.edu) (714) 856-8779"
   ]
  },
  {
   "cell_type": "markdown",
   "metadata": {},
   "source": [
    "# Reading, Shuffling and Splitting data"
   ]
  },
  {
   "cell_type": "code",
   "execution_count": 1,
   "metadata": {},
   "outputs": [],
   "source": [
    "import pandas as pd\n",
    "import numpy as np\n",
    "import matplotlib.pyplot as plt\n",
    "from tabulate import tabulate\n",
    "from scipy.stats import t"
   ]
  },
  {
   "cell_type": "code",
   "execution_count": 2,
   "metadata": {},
   "outputs": [
    {
     "name": "stdout",
     "output_type": "stream",
     "text": [
      "303\n"
     ]
    },
    {
     "data": {
      "text/html": [
       "<div>\n",
       "<style scoped>\n",
       "    .dataframe tbody tr th:only-of-type {\n",
       "        vertical-align: middle;\n",
       "    }\n",
       "\n",
       "    .dataframe tbody tr th {\n",
       "        vertical-align: top;\n",
       "    }\n",
       "\n",
       "    .dataframe thead th {\n",
       "        text-align: right;\n",
       "    }\n",
       "</style>\n",
       "<table border=\"1\" class=\"dataframe\">\n",
       "  <thead>\n",
       "    <tr style=\"text-align: right;\">\n",
       "      <th></th>\n",
       "      <th>age</th>\n",
       "      <th>sex</th>\n",
       "      <th>cp</th>\n",
       "      <th>trestbps</th>\n",
       "      <th>chol</th>\n",
       "      <th>fbs</th>\n",
       "      <th>restecg</th>\n",
       "      <th>thalach</th>\n",
       "      <th>exang</th>\n",
       "      <th>oldpeak</th>\n",
       "      <th>slope</th>\n",
       "      <th>ca</th>\n",
       "      <th>thal</th>\n",
       "    </tr>\n",
       "  </thead>\n",
       "  <tbody>\n",
       "    <tr>\n",
       "      <th>0</th>\n",
       "      <td>63</td>\n",
       "      <td>1</td>\n",
       "      <td>3</td>\n",
       "      <td>145</td>\n",
       "      <td>233</td>\n",
       "      <td>1</td>\n",
       "      <td>0</td>\n",
       "      <td>150</td>\n",
       "      <td>0</td>\n",
       "      <td>2.3</td>\n",
       "      <td>0</td>\n",
       "      <td>0</td>\n",
       "      <td>1</td>\n",
       "    </tr>\n",
       "    <tr>\n",
       "      <th>1</th>\n",
       "      <td>37</td>\n",
       "      <td>1</td>\n",
       "      <td>2</td>\n",
       "      <td>130</td>\n",
       "      <td>250</td>\n",
       "      <td>0</td>\n",
       "      <td>1</td>\n",
       "      <td>187</td>\n",
       "      <td>0</td>\n",
       "      <td>3.5</td>\n",
       "      <td>0</td>\n",
       "      <td>0</td>\n",
       "      <td>2</td>\n",
       "    </tr>\n",
       "    <tr>\n",
       "      <th>2</th>\n",
       "      <td>41</td>\n",
       "      <td>0</td>\n",
       "      <td>1</td>\n",
       "      <td>130</td>\n",
       "      <td>204</td>\n",
       "      <td>0</td>\n",
       "      <td>0</td>\n",
       "      <td>172</td>\n",
       "      <td>0</td>\n",
       "      <td>1.4</td>\n",
       "      <td>2</td>\n",
       "      <td>0</td>\n",
       "      <td>2</td>\n",
       "    </tr>\n",
       "    <tr>\n",
       "      <th>3</th>\n",
       "      <td>56</td>\n",
       "      <td>1</td>\n",
       "      <td>1</td>\n",
       "      <td>120</td>\n",
       "      <td>236</td>\n",
       "      <td>0</td>\n",
       "      <td>1</td>\n",
       "      <td>178</td>\n",
       "      <td>0</td>\n",
       "      <td>0.8</td>\n",
       "      <td>2</td>\n",
       "      <td>0</td>\n",
       "      <td>2</td>\n",
       "    </tr>\n",
       "    <tr>\n",
       "      <th>4</th>\n",
       "      <td>57</td>\n",
       "      <td>0</td>\n",
       "      <td>0</td>\n",
       "      <td>120</td>\n",
       "      <td>354</td>\n",
       "      <td>0</td>\n",
       "      <td>1</td>\n",
       "      <td>163</td>\n",
       "      <td>1</td>\n",
       "      <td>0.6</td>\n",
       "      <td>2</td>\n",
       "      <td>0</td>\n",
       "      <td>2</td>\n",
       "    </tr>\n",
       "  </tbody>\n",
       "</table>\n",
       "</div>"
      ],
      "text/plain": [
       "   age  sex  cp  trestbps  chol  fbs  restecg  thalach  exang  oldpeak  slope  \\\n",
       "0   63    1   3       145   233    1        0      150      0      2.3      0   \n",
       "1   37    1   2       130   250    0        1      187      0      3.5      0   \n",
       "2   41    0   1       130   204    0        0      172      0      1.4      2   \n",
       "3   56    1   1       120   236    0        1      178      0      0.8      2   \n",
       "4   57    0   0       120   354    0        1      163      1      0.6      2   \n",
       "\n",
       "   ca  thal  \n",
       "0   0     1  \n",
       "1   0     2  \n",
       "2   0     2  \n",
       "3   0     2  \n",
       "4   0     2  "
      ]
     },
     "execution_count": 2,
     "metadata": {},
     "output_type": "execute_result"
    }
   ],
   "source": [
    "def read_data(adr, y_name):\n",
    "    df = pd.read_csv(adr)\n",
    "    x = df.loc[:, df.columns != y_name]\n",
    "    y = df.loc[:, df.columns == y_name]\n",
    "    return x, y\n",
    "\n",
    "x, y = read_data('heart.csv', 'target')\n",
    "print(x.shape[0])\n",
    "x.head()"
   ]
  },
  {
   "cell_type": "code",
   "execution_count": 3,
   "metadata": {},
   "outputs": [
    {
     "data": {
      "text/html": [
       "<div>\n",
       "<style scoped>\n",
       "    .dataframe tbody tr th:only-of-type {\n",
       "        vertical-align: middle;\n",
       "    }\n",
       "\n",
       "    .dataframe tbody tr th {\n",
       "        vertical-align: top;\n",
       "    }\n",
       "\n",
       "    .dataframe thead th {\n",
       "        text-align: right;\n",
       "    }\n",
       "</style>\n",
       "<table border=\"1\" class=\"dataframe\">\n",
       "  <thead>\n",
       "    <tr style=\"text-align: right;\">\n",
       "      <th></th>\n",
       "      <th>target</th>\n",
       "    </tr>\n",
       "  </thead>\n",
       "  <tbody>\n",
       "    <tr>\n",
       "      <th>0</th>\n",
       "      <td>1</td>\n",
       "    </tr>\n",
       "    <tr>\n",
       "      <th>1</th>\n",
       "      <td>1</td>\n",
       "    </tr>\n",
       "    <tr>\n",
       "      <th>2</th>\n",
       "      <td>1</td>\n",
       "    </tr>\n",
       "    <tr>\n",
       "      <th>3</th>\n",
       "      <td>1</td>\n",
       "    </tr>\n",
       "    <tr>\n",
       "      <th>4</th>\n",
       "      <td>1</td>\n",
       "    </tr>\n",
       "  </tbody>\n",
       "</table>\n",
       "</div>"
      ],
      "text/plain": [
       "   target\n",
       "0       1\n",
       "1       1\n",
       "2       1\n",
       "3       1\n",
       "4       1"
      ]
     },
     "execution_count": 3,
     "metadata": {},
     "output_type": "execute_result"
    }
   ],
   "source": [
    "y.head()"
   ]
  },
  {
   "cell_type": "code",
   "execution_count": 4,
   "metadata": {},
   "outputs": [],
   "source": [
    "np.random.seed(173633)\n",
    "\n",
    "def shuffle(x, y):\n",
    "    idx = np.random.permutation(x.index)\n",
    "    x = x.reindex(idx)\n",
    "    y = y.reindex(idx)\n",
    "    return x, y\n",
    "\n",
    "def data_split(x, y, frac):\n",
    "    idx = np.random.permutation(x.index)\n",
    "    train_idx = idx[:int(len(idx) * frac)]\n",
    "    test_idx = idx[int(len(idx) * frac):len(idx)]\n",
    "    \n",
    "    train_x = x.iloc[train_idx, :]\n",
    "    train_y = y.iloc[train_idx, :]\n",
    "    test_x = x.iloc[test_idx, :]\n",
    "    test_y = y.iloc[test_idx, :]\n",
    "   \n",
    "    return train_x, train_y, test_x, test_y"
   ]
  },
  {
   "cell_type": "code",
   "execution_count": 5,
   "metadata": {},
   "outputs": [],
   "source": [
    "x, y = shuffle(x, y)\n",
    "train_x, train_y, test_x, test_y = data_split(x, y, 0.8)"
   ]
  },
  {
   "cell_type": "markdown",
   "metadata": {},
   "source": [
    "# Confusion matrix and Classification report"
   ]
  },
  {
   "cell_type": "code",
   "execution_count": 6,
   "metadata": {},
   "outputs": [],
   "source": [
    "def accuracy(y, y_pred):\n",
    "    diff = (y == y_pred).to_numpy()\n",
    "    return np.count_nonzero(diff) / len(y)"
   ]
  },
  {
   "cell_type": "code",
   "execution_count": 7,
   "metadata": {},
   "outputs": [],
   "source": [
    "def confusion_matrix(y, y_pred):\n",
    "    tp = np.count_nonzero((y_pred == True) & (y == True).to_numpy())\n",
    "    fp = np.count_nonzero((y_pred == True) & (y == False).to_numpy())\n",
    "    tn = np.count_nonzero((y_pred == False) & (y == False).to_numpy())\n",
    "    fn = np.count_nonzero((y_pred == False) & (y == True).to_numpy()) \n",
    "    return tp, fp, tn, fn"
   ]
  },
  {
   "cell_type": "code",
   "execution_count": 8,
   "metadata": {},
   "outputs": [],
   "source": [
    "def classification_report(y, y_pred):\n",
    "    tp, fp, tn, fn = confusion_matrix(y, y_pred)\n",
    "    accuracy = (tp + tn) / (tp + tn + fp + fn)\n",
    "    recall = tp / (tp + fn)\n",
    "    precision = tp / (tp + fp)\n",
    "    specificity = tn / (tn + fp)\n",
    "    f1_score = 2 * recall * precision / (recall + precision)\n",
    "    return accuracy, recall, precision, specificity, f1_score  "
   ]
  },
  {
   "cell_type": "code",
   "execution_count": 9,
   "metadata": {},
   "outputs": [],
   "source": [
    "def report_stats(y, y_pred):\n",
    "    tp, fp, tn, fn = confusion_matrix(y, y_pred)\n",
    "    print(tabulate([['Predicted Positive', tp, fp], ['Predicted Negative', fn, tn]], headers=['', 'Actually Positive', 'Actually Negative']))\n",
    "    accuracy_score, recall, precision, specificity, f1_score = classification_report(y, y_pred)\n",
    "    print(\"\\n\\n\")\n",
    "    print(tabulate([[accuracy_score, recall, precision, specificity, f1_score]], headers=['Accuracy', 'Recall', 'Precision', 'Specificity', 'F1 Score']))"
   ]
  },
  {
   "cell_type": "markdown",
   "metadata": {},
   "source": [
    "# Paired T-test statistics"
   ]
  },
  {
   "cell_type": "code",
   "execution_count": 10,
   "metadata": {},
   "outputs": [],
   "source": [
    "def paired_t_test(y1, y2, alpha):\n",
    "    n = len(y1)\n",
    "    dif = y1 - y2\n",
    "    mean = np.mean(dif)\n",
    "    std = np.std(dif)\n",
    "    t_stat = mean / (std / np.sqrt(n))\n",
    "    dof = n - 1\n",
    "    p_value = (1.0 - t.cdf(abs(t_stat), dof)) * 2.0   \n",
    "    print(\"t-stat = \", t_stat[0])\n",
    "    print(\"p-value = \", p_value[0])\n",
    "    print(\"aplha = \", alpha)\n",
    "    if p_value > alpha:\n",
    "        print(\"Accept the null hypothesis that the means are equal.\")\n",
    "    else:\n",
    "        print(\"Reject the null hypothesis that the means are equal. There is a meaningful difference between means.\")\n",
    "    return"
   ]
  },
  {
   "cell_type": "markdown",
   "metadata": {},
   "source": [
    "# KNN Classifer implementation"
   ]
  },
  {
   "cell_type": "code",
   "execution_count": 11,
   "metadata": {},
   "outputs": [],
   "source": [
    "class KNN:\n",
    "  def __init__(self, k):\n",
    "    self.k = k\n",
    "    \n",
    "  def predict(self, test_x):\n",
    "    test_x = self.scale_features(test_x)\n",
    "    missing_cols = set(self.x.columns) - set(test_x.columns)\n",
    "    for c in missing_cols:\n",
    "        test_x[c] = 0\n",
    "    test_pred = pd.DataFrame(columns = ['target'], index = test_x.index)\n",
    "    dist_matrix = self.euclidean_distance(test_x)\n",
    "    \n",
    "    for i in range(0, len(test_x)):\n",
    "        neighbor_indexes = dist_matrix[i, :].argsort()[0:self.k] \n",
    "        majority = self.y.iloc[neighbor_indexes].mode()\n",
    "        test_pred.at[test_x.index[i], 'target'] = majority.at[0, 'target']\n",
    "\n",
    "    return test_pred\n",
    "\n",
    "  def euclidean_distance(self, test_x):\n",
    "    dist_matrix = np.zeros((test_x.shape[0], self.x.shape[0]))\n",
    "    dist_matrix = - 2 * np.dot(test_x, self.x.T).T\n",
    "    dist_matrix += np.diag((np.dot(test_x, test_x.T)))\n",
    "    dist_matrix = dist_matrix.T\n",
    "    dist_matrix += np.diag((np.dot(self.x, self.x.T)))\n",
    "    return np.sqrt(dist_matrix)\n",
    "    \n",
    "\n",
    "  def scale_features(self, x):\n",
    "    # one-hot encoding of categorical data\n",
    "    cat_features = [\"cp\", \"restecg\", \"slope\", \"thal\"]\n",
    "    x = pd.get_dummies(x, columns=cat_features)\n",
    "    x_min, x_max = x.min(), x.max()\n",
    "    return (x - x_min) / (x_max - x_min)\n",
    "\n",
    "  \n",
    "  def fit(self, x, y):\n",
    "    self.x = self.scale_features(x)\n",
    "    self.y = y   "
   ]
  },
  {
   "cell_type": "markdown",
   "metadata": {},
   "source": [
    "# Decision Tree implementation"
   ]
  },
  {
   "cell_type": "code",
   "execution_count": 12,
   "metadata": {},
   "outputs": [],
   "source": [
    "from scipy import stats\n",
    "\n",
    "class Node:\n",
    "    def __init__(self, pred):\n",
    "        self.left_child = None\n",
    "        self.right_child = None\n",
    "        self.feature = None\n",
    "        self.pred = pred\n",
    "        self.bound = 0\n",
    "        self.pos = 0\n",
    "        self.neg = 0\n",
    "\n",
    "class DecisionTree:\n",
    "  def __init__(self, max_depth, threshold):\n",
    "    self.max_depth = max_depth\n",
    "    self.threshold = threshold\n",
    "    \n",
    "  def fit(self, x, y):\n",
    "    self.tree = self.build_tree(x, y, 0) \n",
    "    \n",
    "  def impurity(self, a, b):\n",
    "    return 1.0 - (a / (a + b)) ** 2 - (b / (a + b)) ** 2\n",
    "    \n",
    "  def split(self, x, y):\n",
    "    best_feature = None\n",
    "    bound = None\n",
    "    \n",
    "    split_count = [y.target.value_counts()[0], y.target.value_counts()[1]]\n",
    "    best_impurity = self.impurity(split_count[0], split_count[1])\n",
    "    \n",
    "    for feature in range(0, x.shape[1]):\n",
    "        left_split_count = [0, 0]\n",
    "        right_split_count = split_count.copy()\n",
    "        x_numpy = x.copy().iloc[:, feature].to_numpy()\n",
    "        y_numpy = y.copy().iloc[:, 0].to_numpy()  \n",
    "        x_sorted, y_sorted = zip(*sorted(zip(x_numpy, y_numpy)))\n",
    "        \n",
    "        for i in range(1, x.shape[0]):\n",
    "            target = y_sorted[i - 1]\n",
    "            left_split_count[target] += 1\n",
    "            right_split_count[target] -= 1\n",
    "            \n",
    "            if x_sorted[i] == x_sorted[i - 1]:\n",
    "                continue\n",
    "                \n",
    "            impurity_left = self.impurity(left_split_count[0], left_split_count[1])\n",
    "            impurity_right = self.impurity(right_split_count[0], right_split_count[1])\n",
    "            impurity_total = (i * impurity_left + (x.shape[0] - i) * impurity_right) / x.shape[0]\n",
    "                \n",
    "            if impurity_total < best_impurity:\n",
    "                best_impurity = impurity_total\n",
    "                best_feature = feature\n",
    "                bound = (x_sorted[i] + x_sorted[i - 1]) / 2  \n",
    "    \n",
    "    return bound, best_feature\n",
    "\n",
    "  def build_tree(self, x, y, depth):\n",
    "    node = Node(pred = y.mode().at[0, 'target'])\n",
    "    node.pos = y.target.sum()\n",
    "    node.neg = y.size - node.pos\n",
    "    \n",
    "    if y.target.value_counts().size == 1:\n",
    "        return node\n",
    "                \n",
    "    if depth < self.max_depth and y.target.value_counts()[0] < self.threshold * y.shape[0]:\n",
    "        bound, feature = self.split(x, y)\n",
    "        if feature is not None:\n",
    "            node.feature = feature\n",
    "            node.bound = bound\n",
    "            division = x.iloc[:, feature] < bound\n",
    "            left_x = x[division]\n",
    "            right_x = x[~division]\n",
    "            left_y = y[division]\n",
    "            right_y = y[~division]           \n",
    "            node.left_child = self.build_tree(left_x, left_y, depth + 1)\n",
    "            node.right_child = self.build_tree(right_x, right_y, depth + 1)           \n",
    "\n",
    "    return node\n",
    "    \n",
    "  def predict(self, test_x):\n",
    "    test_pred = pd.DataFrame(columns = ['target'], index = test_x.index)\n",
    "    \n",
    "    for i in range(0, len(test_x)):\n",
    "        node = self.tree\n",
    "        while node.left_child:\n",
    "            if test_x.iloc[i, node.feature] < node.bound:\n",
    "                node = node.left_child\n",
    "            else:\n",
    "                node = node.right_child\n",
    "        test_pred.at[test_x.index[i], 'target'] = node.pred\n",
    "    \n",
    "    return test_pred"
   ]
  },
  {
   "cell_type": "markdown",
   "metadata": {},
   "source": [
    "# Chi-Square Pruning of decision tree"
   ]
  },
  {
   "cell_type": "code",
   "execution_count": 13,
   "metadata": {},
   "outputs": [],
   "source": [
    "def pruning(node):\n",
    "    left = node.left_child\n",
    "    right = node.right_child\n",
    "    \n",
    "    if left.left_child:\n",
    "        left = pruning(left)\n",
    "    if right.left_child:\n",
    "        right = pruning(right)    \n",
    "        \n",
    "    # both children were leaves    \n",
    "    if not left.left_child and not right.left_child:\n",
    "        observed = np.array([left.pos, left.neg, right.pos, right.neg])\n",
    "        s = node.pos + node.neg\n",
    "        sl = left.pos + left.neg\n",
    "        sr = right.pos + right.neg\n",
    "        expected = np.array([sl * node.pos / s, sl * node.neg / s, sr * node.pos / s, sr * node.neg / s])\n",
    "        if chi_square_prune(0.05, 1, expected, observed):\n",
    "            node.left_child = None\n",
    "            node.right_child = None\n",
    "    return node\n",
    "\n",
    "def chi_square_prune(alpha, dof, expected, observed):\n",
    "    z = sum(((expected - observed) ** 2) / expected)\n",
    "    cv = stats.chi2.ppf(q=1-alpha, df=dof)\n",
    "    if z > cv:\n",
    "        return False\n",
    "    return True"
   ]
  },
  {
   "cell_type": "markdown",
   "metadata": {},
   "source": [
    "# Comparing the accuracy of initial and pruned tree"
   ]
  },
  {
   "cell_type": "code",
   "execution_count": 14,
   "metadata": {},
   "outputs": [
    {
     "name": "stdout",
     "output_type": "stream",
     "text": [
      "** Initial tree accuracy =  0.7540983606557377\n",
      "** Pruned tree accuracy =  0.8032786885245902\n",
      "\n",
      "** T-test Results: \n",
      "t-stat =  1.7762804997502795\n",
      "p-value =  0.08075686244065117\n",
      "aplha =  0.05\n",
      "Accept the null hypothesis that the means are equal.\n",
      "\n",
      "** Stats of initial tree: \n",
      "                      Actually Positive    Actually Negative\n",
      "------------------  -------------------  -------------------\n",
      "Predicted Positive                   25                    8\n",
      "Predicted Negative                    7                   21\n",
      "\n",
      "\n",
      "\n",
      "  Accuracy    Recall    Precision    Specificity    F1 Score\n",
      "----------  --------  -----------  -------------  ----------\n",
      "  0.754098   0.78125     0.757576       0.724138    0.769231\n",
      "\n",
      "** Stats of pruned tree: \n",
      "                      Actually Positive    Actually Negative\n",
      "------------------  -------------------  -------------------\n",
      "Predicted Positive                   28                    8\n",
      "Predicted Negative                    4                   21\n",
      "\n",
      "\n",
      "\n",
      "  Accuracy    Recall    Precision    Specificity    F1 Score\n",
      "----------  --------  -----------  -------------  ----------\n",
      "  0.803279     0.875     0.777778       0.724138    0.823529\n"
     ]
    }
   ],
   "source": [
    "e1 = DecisionTree(13, 0.8)\n",
    "e1.fit(train_x, train_y)\n",
    "y1 = e1.predict(test_x)\n",
    "\n",
    "# Chi_Square pruning of the tree\n",
    "pruning(e1.tree)\n",
    "y2 = e1.predict(test_x)\n",
    "\n",
    "print(\"** Initial tree accuracy = \", accuracy(y1, test_y))\n",
    "print(\"** Pruned tree accuracy = \", accuracy(y2, test_y))\n",
    "print(\"\\n** T-test Results: \")\n",
    "paired_t_test((y1 - test_y) ** 2, (y2 - test_y) ** 2, 0.05)\n",
    "print(\"\\n** Stats of initial tree: \")\n",
    "report_stats(test_y, y1)\n",
    "print(\"\\n** Stats of pruned tree: \")\n",
    "report_stats(test_y, y2)"
   ]
  },
  {
   "cell_type": "markdown",
   "metadata": {},
   "source": [
    "# Train-Test Accuracy as a function of hyperparameters"
   ]
  },
  {
   "cell_type": "code",
   "execution_count": 15,
   "metadata": {},
   "outputs": [],
   "source": [
    "def accuracy_plot(param_max, est_type):\n",
    "    train_acc = np.zeros(param_max)\n",
    "    test_acc = np.zeros(param_max)\n",
    "    \n",
    "    for i in range(1, param_max + 1): \n",
    "        e1 = None\n",
    "        if est_type == \"knn\":\n",
    "            e1 = KNN(i)\n",
    "        elif est_type == \"decision tree\":    \n",
    "            e1 = DecisionTree(i, 0.8)\n",
    "        e1.fit(train_x, train_y)\n",
    "        \n",
    "        test_pred = e1.predict(test_x)\n",
    "        test_acc[i-1] = accuracy(test_pred, test_y)\n",
    "        \n",
    "        train_pred = e1.predict(train_x)\n",
    "        train_acc[i-1] = accuracy(train_pred, train_y)\n",
    "    \n",
    "    plt.scatter(range(1, param_max + 1), train_acc, label='Training')\n",
    "    plt.scatter(range(1, param_max + 1), test_acc, label='Test')\n",
    "    plt.xticks(np.arange(1, param_max + 1, 1.0))\n",
    "\n",
    "    plt.xlabel(\"Param\")\n",
    "    plt.ylabel(\"Accuracy\")\n",
    "    \n",
    "    plt.legend(loc='lower right')\n",
    "    plt.title(\"Test-Train Accuracy of \" + est_type)\n",
    "    plt.show()       "
   ]
  },
  {
   "cell_type": "markdown",
   "metadata": {},
   "source": [
    "### Accuracy of KNN as a function of k"
   ]
  },
  {
   "cell_type": "code",
   "execution_count": 16,
   "metadata": {},
   "outputs": [
    {
     "data": {
      "image/png": "[encoded data removed]",
      "text/plain": [
       "<Figure size 432x288 with 1 Axes>"
      ]
     },
     "metadata": {
      "needs_background": "light"
     },
     "output_type": "display_data"
    }
   ],
   "source": [
    "accuracy_plot(15, \"knn\")"
   ]
  },
  {
   "cell_type": "markdown",
   "metadata": {},
   "source": [
    "### Accuracy of decision tree as a function of depth"
   ]
  },
  {
   "cell_type": "code",
   "execution_count": 17,
   "metadata": {},
   "outputs": [
    {
     "data": {
      "image/png": "[encoded data removed]",
      "text/plain": [
       "<Figure size 432x288 with 1 Axes>"
      ]
     },
     "metadata": {
      "needs_background": "light"
     },
     "output_type": "display_data"
    }
   ],
   "source": [
    "accuracy_plot(13, \"decision tree\") "
   ]
  },
  {
   "cell_type": "markdown",
   "metadata": {},
   "source": [
    "# Finding best model using 5-fold Cross Validation    "
   ]
  },
  {
   "cell_type": "code",
   "execution_count": 18,
   "metadata": {},
   "outputs": [],
   "source": [
    "def cross_validation(k, x, y, estimator):\n",
    "    acc = np.zeros(k)\n",
    "    for i in range(0, k):\n",
    "        dev_set_x = x.iloc[(int)(i * len(x) / k):(int)((i + 1) * len(x) / k), :]\n",
    "        dev_set_y = y.iloc[(int)(i * len(y) / k):(int)((i + 1) * len(y) / k), :]\n",
    "        train_set_x = x[~x.index.isin(dev_set_x.index.tolist())]\n",
    "        train_set_y = y[~y.index.isin(dev_set_y.index.tolist())]\n",
    "        \n",
    "        estimator.fit(train_set_x, train_set_y)\n",
    "        dev_pred = estimator.predict(dev_set_x)\n",
    "        acc[i] = accuracy(dev_pred, dev_set_y)\n",
    "    \n",
    "    return np.mean(acc)\n",
    "    \n",
    "def best_estimator(param_max, est_type):\n",
    "    best_acc = 0.0\n",
    "    best_param = 1\n",
    "    best_est = None\n",
    "\n",
    "    for i in range(1, param_max + 1):\n",
    "        e1 = None\n",
    "        if est_type == \"knn\":\n",
    "            e1 = KNN(i)\n",
    "        elif est_type == \"decision tree\":    \n",
    "            e1 = DecisionTree(i, 0.8)\n",
    "        acc = cross_validation(5, train_x, train_y, e1) \n",
    "        if acc > best_acc:\n",
    "            best_param = i\n",
    "            best_acc = acc\n",
    "            best_est = e1\n",
    "\n",
    "    print('best param: ', best_param)\n",
    "    print('best accuracy: ', best_acc)\n",
    "    return best_est    "
   ]
  },
  {
   "cell_type": "code",
   "execution_count": 19,
   "metadata": {},
   "outputs": [
    {
     "name": "stdout",
     "output_type": "stream",
     "text": [
      "best param:  9\n",
      "best accuracy:  0.752125850340136\n"
     ]
    }
   ],
   "source": [
    "best_knn = best_estimator(12, \"knn\")"
   ]
  },
  {
   "cell_type": "code",
   "execution_count": 20,
   "metadata": {},
   "outputs": [
    {
     "name": "stdout",
     "output_type": "stream",
     "text": [
      "best param:  4\n",
      "best accuracy:  0.7438775510204081\n"
     ]
    }
   ],
   "source": [
    "best_dt = best_estimator(13, \"decision tree\")"
   ]
  },
  {
   "cell_type": "markdown",
   "metadata": {},
   "source": [
    "# Comparison of best models using T-test"
   ]
  },
  {
   "cell_type": "code",
   "execution_count": 21,
   "metadata": {},
   "outputs": [
    {
     "name": "stdout",
     "output_type": "stream",
     "text": [
      "                      Actually Positive    Actually Negative\n",
      "------------------  -------------------  -------------------\n",
      "Predicted Positive                   26                    7\n",
      "Predicted Negative                    6                   22\n",
      "\n",
      "\n",
      "\n",
      "  Accuracy    Recall    Precision    Specificity    F1 Score\n",
      "----------  --------  -----------  -------------  ----------\n",
      "  0.786885    0.8125     0.787879       0.758621         0.8\n"
     ]
    }
   ],
   "source": [
    "# Confusion Matirx and Classification Report for best Decision Tree Classifier\n",
    "\n",
    "dt_pred = best_dt.predict(test_x)\n",
    "report_stats(test_y, dt_pred)"
   ]
  },
  {
   "cell_type": "code",
   "execution_count": 22,
   "metadata": {},
   "outputs": [
    {
     "name": "stdout",
     "output_type": "stream",
     "text": [
      "                      Actually Positive    Actually Negative\n",
      "------------------  -------------------  -------------------\n",
      "Predicted Positive                   26                    6\n",
      "Predicted Negative                    6                   23\n",
      "\n",
      "\n",
      "\n",
      "  Accuracy    Recall    Precision    Specificity    F1 Score\n",
      "----------  --------  -----------  -------------  ----------\n",
      "  0.803279    0.8125       0.8125       0.793103      0.8125\n"
     ]
    }
   ],
   "source": [
    "# Confusion Matirx and Classification Report for best KNN Classifier\n",
    "\n",
    "knn_pred = best_knn.predict(test_x)\n",
    "report_stats(test_y, knn_pred)"
   ]
  },
  {
   "cell_type": "code",
   "execution_count": 23,
   "metadata": {},
   "outputs": [
    {
     "name": "stdout",
     "output_type": "stream",
     "text": [
      "t-stat =  -0.2295147693743633\n",
      "p-value =  0.8192494569476607\n",
      "aplha =  0.05\n",
      "Accept the null hypothesis that the means are equal.\n"
     ]
    }
   ],
   "source": [
    "paired_t_test(1 - (dt_pred - test_y) ** 2, 1 - (knn_pred - test_y) ** 2, 0.05)"
   ]
  }
 ],
 "metadata": {
  "kernelspec": {
   "display_name": "Python 3",
   "language": "python",
   "name": "python3"
  },
  "language_info": {
   "codemirror_mode": {
    "name": "ipython",
    "version": 3
   },
   "file_extension": ".py",
   "mimetype": "text/x-python",
   "name": "python",
   "nbconvert_exporter": "python",
   "pygments_lexer": "ipython3",
   "version": "3.7.5rc1"
  }
 },
 "nbformat": 4,
 "nbformat_minor": 2
}
