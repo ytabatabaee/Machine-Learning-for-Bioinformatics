{
 "cells": [
  {
   "cell_type": "markdown",
   "metadata": {},
   "source": [
    "# Project Phase 1 \n",
    "## SimBoost\n",
    "\n",
    "\n",
    "#### Name: Yasamin Tabatabaee\n",
    "#### Student No.: 95104866\n",
    "\n",
    "Drug discovery is a time-consuming, laborious, costly and high-risk process. According to a report by the Eastern Research Group (ERG), it usually takes 10-15 years to develop a new drug. However, the success rate of developing a new molecular entity is only 2.01%. \\\n",
    "Finding a compound that selectively binds to a particular protein is a highly challenging and typically expensive procedure in the drug development process. \\\n",
    "In this project we are going to implement [SimBoost](https://www.ncbi.nlm.nih.gov/pmc/articles/PMC5395521/#CR42) which is machine-learning approch for predicting drug–target binding affinities using gradient boosting.\n",
    "\n",
    "\n"
   ]
  },
  {
   "cell_type": "markdown",
   "metadata": {},
   "source": [
    "We will be using [Davis](http://staff.cs.utu.fi/~aatapa/data/DrugTarget/) dataset, which contains selectivity assays of the kinase protein family and the relevant inhibitors with their respective dissociation constant (Kd) values. It comprises interactions of 442 proteins and 68 drugs."
   ]
  },
  {
   "cell_type": "markdown",
   "metadata": {},
   "source": [
    "## 1. Setup (15 Points)"
   ]
  },
  {
   "cell_type": "markdown",
   "metadata": {},
   "source": [
    "### 1.1 Imports libs"
   ]
  },
  {
   "cell_type": "code",
   "execution_count": 1,
   "metadata": {},
   "outputs": [],
   "source": [
    "import numpy as np\n",
    "import pandas as pd\n",
    "from sklearn.model_selection import train_test_split\n",
    "import matplotlib.pyplot as plt"
   ]
  },
  {
   "cell_type": "markdown",
   "metadata": {},
   "source": [
    "### 1.2 Loading data"
   ]
  },
  {
   "cell_type": "markdown",
   "metadata": {},
   "source": [
    "We need following files for this project:\n",
    "- `target_gene_names.txt`: gene names of the targets\n",
    "- `drug_PubChem_CIDs.txt`: PubChem CIDs of the drugs\n",
    "- `drug-drug_similarities_2D.txt`: drug-drug structural fingerprint similarities computed the Structure Clustering sever at PubChem\n",
    "- `target-target_similarities_WS_normalized.txt`: target-target sequence similarities computed with the normalized versions of the Smith-Waterman (SW) score.\n",
    "- `drug-target_interaction_affinities_Kd__Davis_et_al.2011.txt`: drug-target interaction affinities.\n",
    "\n",
    "The rows (and columns) of the drug-drug similarity matrices correspond to the rows of the interaction affinity matrix and the rows (and columns) of the target-target similarity matrices correspond to the columns of the interaction affinity matrix."
   ]
  },
  {
   "cell_type": "code",
   "execution_count": 60,
   "metadata": {},
   "outputs": [
    {
     "data": {
      "text/plain": [
       "((442, 442), (68, 68), (68, 442))"
      ]
     },
     "execution_count": 60,
     "metadata": {},
     "output_type": "execute_result"
    }
   ],
   "source": [
    "target_gene_names = pd.read_csv(\"target_gene_names.txt\", header=None, index_col = 0)\n",
    "drug_pubchemIDs = pd.read_csv(\"drug_PubChem_CIDs.txt\", header=None, index_col = 0) #  dtype=str\n",
    "#################################################################################\n",
    "#                          COMPLETE THE FOLLOWING SECTION                       #\n",
    "#################################################################################\n",
    "# Load each file using pd.read_csv and use target_gene_names and drug_pubchemIDs\n",
    "# to correspond row index and columns of all three files.\n",
    "# sim_targets.shape == (442, 442)\n",
    "# sim_drugs.shape == (68, 68)\n",
    "# bindings.shape == (68, 442)\n",
    "# Note that target_gene_names and drug_pubchemIDs dataframes are empty, we are\n",
    "# going to fill them with features.\n",
    "#################################################################################\n",
    "\n",
    "sim_targets = pd.read_csv(\"target-target_similarities_WS_normalized.txt\", names = target_gene_names.index.tolist(), sep = ' ')\n",
    "sim_drugs = pd.read_csv(\"drug-drug_similarities_2D.txt\", names = drug_pubchemIDs.index.tolist(), sep = ' ')\n",
    "bindings = pd.read_csv(\"drug-target_interaction_affinities_Kd__Davis_et_al.2011.txt\", names = target_gene_names.index.tolist(), sep = ' ')\n",
    "\n",
    "#################################################################################\n",
    "#                                   THE END                                     #\n",
    "#################################################################################\n",
    "sim_targets.shape, sim_drugs.shape, bindings.shape"
   ]
  },
  {
   "cell_type": "markdown",
   "metadata": {},
   "source": [
    "### 1.3 Preprocessing"
   ]
  },
  {
   "cell_type": "markdown",
   "metadata": {},
   "source": [
    "In davis dataset, standard value is Kd in nM. we used the transformation below:\n",
    "\n",
    "### $pK_{d}=-log_{10}\\frac{K_d}{1e9}$ \n"
   ]
  },
  {
   "cell_type": "code",
   "execution_count": 66,
   "metadata": {},
   "outputs": [
    {
     "data": {
      "text/html": [
       "<div>\n",
       "<style scoped>\n",
       "    .dataframe tbody tr th:only-of-type {\n",
       "        vertical-align: middle;\n",
       "    }\n",
       "\n",
       "    .dataframe tbody tr th {\n",
       "        vertical-align: top;\n",
       "    }\n",
       "\n",
       "    .dataframe thead th {\n",
       "        text-align: right;\n",
       "    }\n",
       "</style>\n",
       "<table border=\"1\" class=\"dataframe\">\n",
       "  <thead>\n",
       "    <tr style=\"text-align: right;\">\n",
       "      <th></th>\n",
       "      <th>AAK1</th>\n",
       "      <th>ABL1(E255K)-phosphorylated</th>\n",
       "      <th>ABL1(F317I)-nonphosphorylated</th>\n",
       "      <th>ABL1(F317I)-phosphorylated</th>\n",
       "      <th>ABL1(F317L)-nonphosphorylated</th>\n",
       "      <th>ABL1(F317L)-phosphorylated</th>\n",
       "      <th>ABL1(H396P)-nonphosphorylated</th>\n",
       "      <th>ABL1(H396P)-phosphorylated</th>\n",
       "      <th>ABL1(M351T)-phosphorylated</th>\n",
       "      <th>ABL1(Q252H)-nonphosphorylated</th>\n",
       "      <th>...</th>\n",
       "      <th>WEE1</th>\n",
       "      <th>WEE2</th>\n",
       "      <th>YANK1</th>\n",
       "      <th>YANK2</th>\n",
       "      <th>YANK3</th>\n",
       "      <th>YES</th>\n",
       "      <th>YSK1</th>\n",
       "      <th>YSK4</th>\n",
       "      <th>ZAK</th>\n",
       "      <th>ZAP70</th>\n",
       "    </tr>\n",
       "  </thead>\n",
       "  <tbody>\n",
       "    <tr>\n",
       "      <th>0</th>\n",
       "      <td>2.275182</td>\n",
       "      <td>-0.091350</td>\n",
       "      <td>-0.091350</td>\n",
       "      <td>-0.091350</td>\n",
       "      <td>-0.091350</td>\n",
       "      <td>-0.091350</td>\n",
       "      <td>-0.091350</td>\n",
       "      <td>-0.091350</td>\n",
       "      <td>-0.091350</td>\n",
       "      <td>-0.091350</td>\n",
       "      <td>...</td>\n",
       "      <td>-0.09135</td>\n",
       "      <td>-0.09135</td>\n",
       "      <td>-0.09135</td>\n",
       "      <td>-0.09135</td>\n",
       "      <td>-0.09135</td>\n",
       "      <td>-0.091350</td>\n",
       "      <td>-0.091350</td>\n",
       "      <td>1.546923</td>\n",
       "      <td>-0.091350</td>\n",
       "      <td>-0.09135</td>\n",
       "    </tr>\n",
       "    <tr>\n",
       "      <th>1</th>\n",
       "      <td>-0.091350</td>\n",
       "      <td>-0.091350</td>\n",
       "      <td>-0.091350</td>\n",
       "      <td>-0.091350</td>\n",
       "      <td>-0.091350</td>\n",
       "      <td>-0.091350</td>\n",
       "      <td>-0.091350</td>\n",
       "      <td>-0.091350</td>\n",
       "      <td>-0.091350</td>\n",
       "      <td>-0.091350</td>\n",
       "      <td>...</td>\n",
       "      <td>-0.09135</td>\n",
       "      <td>-0.09135</td>\n",
       "      <td>-0.09135</td>\n",
       "      <td>-0.09135</td>\n",
       "      <td>-0.09135</td>\n",
       "      <td>-0.091350</td>\n",
       "      <td>-0.091350</td>\n",
       "      <td>0.607620</td>\n",
       "      <td>-0.091350</td>\n",
       "      <td>-0.09135</td>\n",
       "    </tr>\n",
       "    <tr>\n",
       "      <th>2</th>\n",
       "      <td>-0.091350</td>\n",
       "      <td>2.033589</td>\n",
       "      <td>3.629897</td>\n",
       "      <td>2.794707</td>\n",
       "      <td>4.022160</td>\n",
       "      <td>2.794707</td>\n",
       "      <td>3.493677</td>\n",
       "      <td>2.417289</td>\n",
       "      <td>2.377171</td>\n",
       "      <td>3.940167</td>\n",
       "      <td>...</td>\n",
       "      <td>-0.09135</td>\n",
       "      <td>-0.09135</td>\n",
       "      <td>-0.09135</td>\n",
       "      <td>-0.09135</td>\n",
       "      <td>-0.09135</td>\n",
       "      <td>1.493677</td>\n",
       "      <td>0.829469</td>\n",
       "      <td>1.829469</td>\n",
       "      <td>3.546923</td>\n",
       "      <td>-0.09135</td>\n",
       "    </tr>\n",
       "    <tr>\n",
       "      <th>3</th>\n",
       "      <td>-0.091350</td>\n",
       "      <td>-0.091350</td>\n",
       "      <td>-0.091350</td>\n",
       "      <td>-0.091350</td>\n",
       "      <td>-0.091350</td>\n",
       "      <td>-0.091350</td>\n",
       "      <td>-0.091350</td>\n",
       "      <td>-0.091350</td>\n",
       "      <td>-0.091350</td>\n",
       "      <td>-0.091350</td>\n",
       "      <td>...</td>\n",
       "      <td>-0.09135</td>\n",
       "      <td>-0.09135</td>\n",
       "      <td>-0.09135</td>\n",
       "      <td>-0.09135</td>\n",
       "      <td>-0.09135</td>\n",
       "      <td>-0.091350</td>\n",
       "      <td>-0.091350</td>\n",
       "      <td>-0.091350</td>\n",
       "      <td>-0.091350</td>\n",
       "      <td>-0.09135</td>\n",
       "    </tr>\n",
       "    <tr>\n",
       "      <th>4</th>\n",
       "      <td>-0.091350</td>\n",
       "      <td>1.285401</td>\n",
       "      <td>0.446252</td>\n",
       "      <td>1.033589</td>\n",
       "      <td>1.145222</td>\n",
       "      <td>1.546923</td>\n",
       "      <td>1.209680</td>\n",
       "      <td>1.209680</td>\n",
       "      <td>0.829469</td>\n",
       "      <td>1.011023</td>\n",
       "      <td>...</td>\n",
       "      <td>-0.09135</td>\n",
       "      <td>-0.09135</td>\n",
       "      <td>-0.09135</td>\n",
       "      <td>-0.09135</td>\n",
       "      <td>-0.09135</td>\n",
       "      <td>-0.091350</td>\n",
       "      <td>-0.091350</td>\n",
       "      <td>-0.091350</td>\n",
       "      <td>-0.091350</td>\n",
       "      <td>-0.09135</td>\n",
       "    </tr>\n",
       "  </tbody>\n",
       "</table>\n",
       "<p>5 rows × 442 columns</p>\n",
       "</div>"
      ],
      "text/plain": [
       "       AAK1  ABL1(E255K)-phosphorylated  ABL1(F317I)-nonphosphorylated  \\\n",
       "0  2.275182                   -0.091350                      -0.091350   \n",
       "1 -0.091350                   -0.091350                      -0.091350   \n",
       "2 -0.091350                    2.033589                       3.629897   \n",
       "3 -0.091350                   -0.091350                      -0.091350   \n",
       "4 -0.091350                    1.285401                       0.446252   \n",
       "\n",
       "   ABL1(F317I)-phosphorylated  ABL1(F317L)-nonphosphorylated  \\\n",
       "0                   -0.091350                      -0.091350   \n",
       "1                   -0.091350                      -0.091350   \n",
       "2                    2.794707                       4.022160   \n",
       "3                   -0.091350                      -0.091350   \n",
       "4                    1.033589                       1.145222   \n",
       "\n",
       "   ABL1(F317L)-phosphorylated  ABL1(H396P)-nonphosphorylated  \\\n",
       "0                   -0.091350                      -0.091350   \n",
       "1                   -0.091350                      -0.091350   \n",
       "2                    2.794707                       3.493677   \n",
       "3                   -0.091350                      -0.091350   \n",
       "4                    1.546923                       1.209680   \n",
       "\n",
       "   ABL1(H396P)-phosphorylated  ABL1(M351T)-phosphorylated  \\\n",
       "0                   -0.091350                   -0.091350   \n",
       "1                   -0.091350                   -0.091350   \n",
       "2                    2.417289                    2.377171   \n",
       "3                   -0.091350                   -0.091350   \n",
       "4                    1.209680                    0.829469   \n",
       "\n",
       "   ABL1(Q252H)-nonphosphorylated  ...     WEE1     WEE2    YANK1    YANK2  \\\n",
       "0                      -0.091350  ... -0.09135 -0.09135 -0.09135 -0.09135   \n",
       "1                      -0.091350  ... -0.09135 -0.09135 -0.09135 -0.09135   \n",
       "2                       3.940167  ... -0.09135 -0.09135 -0.09135 -0.09135   \n",
       "3                      -0.091350  ... -0.09135 -0.09135 -0.09135 -0.09135   \n",
       "4                       1.011023  ... -0.09135 -0.09135 -0.09135 -0.09135   \n",
       "\n",
       "     YANK3       YES      YSK1      YSK4       ZAK    ZAP70  \n",
       "0 -0.09135 -0.091350 -0.091350  1.546923 -0.091350 -0.09135  \n",
       "1 -0.09135 -0.091350 -0.091350  0.607620 -0.091350 -0.09135  \n",
       "2 -0.09135  1.493677  0.829469  1.829469  3.546923 -0.09135  \n",
       "3 -0.09135 -0.091350 -0.091350 -0.091350 -0.091350 -0.09135  \n",
       "4 -0.09135 -0.091350 -0.091350 -0.091350 -0.091350 -0.09135  \n",
       "\n",
       "[5 rows x 442 columns]"
      ]
     },
     "execution_count": 66,
     "metadata": {},
     "output_type": "execute_result"
    }
   ],
   "source": [
    "drug_pubchemIDs.sort_index(inplace=True)\n",
    "target_gene_names.sort_index(inplace=True)\n",
    "#################################################################################\n",
    "#                          COMPLETE THE FOLLOWING SECTION                       #\n",
    "#################################################################################\n",
    "# sort sim_targets, sim_drugs, bindings based on their index like above \n",
    "# divide all values of sim_targets by 100\n",
    "# transform binding values as mentioned above\n",
    "#################################################################################\n",
    "\n",
    "sim_targets.sort_index(inplace=True)\n",
    "sim_targets = sim_targets / 100\n",
    "sim_drugs.sort_index(inplace=True)\n",
    "bindings.sort_index(inplace=True)\n",
    "transformed_bindings = - np.log10(bindings / np.exp(9))\n",
    "\n",
    "#################################################################################\n",
    "#                                   THE END                                     #\n",
    "#################################################################################\n",
    "# bindings.head()\n",
    "transformed_bindings.head()"
   ]
  },
  {
   "cell_type": "code",
   "execution_count": null,
   "metadata": {},
   "outputs": [],
   "source": [
    "#################################################################################\n",
    "#                          COMPLETE THE FOLLOWING SECTION                       #\n",
    "#################################################################################\n",
    "# Plot histogram of all values in transformed_bindings\n",
    "# Hint: use .stack and .plot.hist  \n",
    "#################################################################################\n",
    "\n",
    "\n",
    "\n",
    "#################################################################################\n",
    "#                                   THE END                                     #\n",
    "#################################################################################"
   ]
  },
  {
   "cell_type": "markdown",
   "metadata": {},
   "source": [
    "As you can see in histogram. The peak at pKd value 5 (10000 nM), These values correspond to the negative pairs that either have very weak binding affinities (Kd > 10000nM) or are not observed in the primary screen."
   ]
  },
  {
   "cell_type": "markdown",
   "metadata": {},
   "source": [
    "### 1.4 Drug-Target-Binding"
   ]
  },
  {
   "cell_type": "code",
   "execution_count": null,
   "metadata": {},
   "outputs": [],
   "source": [
    "#################################################################################\n",
    "#                          COMPLETE THE FOLLOWING SECTION                       #\n",
    "#################################################################################\n",
    "# use drug_target_binding and build drug_target_binding dataframe \n",
    "# in each row of dataframe you must have one drug-target pair and their \n",
    "# transformed binding value, in the end you must have a dataframe with \n",
    "# 30056 row and 3 columns ['Drug', 'Target', 'Binding_Val']\n",
    "#################################################################################\n",
    "drug_target_binding = None\n",
    "\n",
    "#################################################################################\n",
    "#                                   THE END                                     #\n",
    "#################################################################################\n",
    "drug_target_binding.head()"
   ]
  },
  {
   "cell_type": "markdown",
   "metadata": {},
   "source": [
    "### 1.5 Train, Validation and Test Datasets"
   ]
  },
  {
   "cell_type": "code",
   "execution_count": null,
   "metadata": {},
   "outputs": [],
   "source": [
    "#################################################################################\n",
    "#                          COMPLETE THE FOLLOWING SECTION                       #\n",
    "#################################################################################\n",
    "# split drug_target_binding dataframe to 3 sets (train_data, val_data, test_data)\n",
    "# split ratio is up to you\n",
    "# at the end you must have 3 sets that each of them has 3 columns\n",
    "#################################################################################\n",
    "train_data = None\n",
    "val_data = None\n",
    "test_data = None\n",
    "\n",
    "#################################################################################\n",
    "#                                   THE END                                     #\n",
    "#################################################################################\n",
    "train_data.shape, val_data.shape, test_data.shape"
   ]
  },
  {
   "cell_type": "markdown",
   "metadata": {},
   "source": [
    "## 2.Feature Engineering (35 Points)"
   ]
  },
  {
   "cell_type": "markdown",
   "metadata": {},
   "source": [
    "In this part we are going to extract some feature for each target/drug. after that we will replace these features with their names/pubchemIDs. "
   ]
  },
  {
   "cell_type": "markdown",
   "metadata": {},
   "source": [
    "### 2.1 Average Similarities and Binding values"
   ]
  },
  {
   "cell_type": "code",
   "execution_count": null,
   "metadata": {},
   "outputs": [],
   "source": [
    "#################################################################################\n",
    "#                          COMPLETE THE FOLLOWING SECTION                       #\n",
    "#################################################################################\n",
    "# for each target compute their average similarities in sim_targets matrix\n",
    "# and average binding value (in train_data).\n",
    "# add these two feature as 'avg-sim', 'avg-binding' to target_gene_names DataFrame\n",
    "#################################################################################\n",
    "\n",
    "\n",
    "#################################################################################\n",
    "#                                   THE END                                     #\n",
    "#################################################################################\n",
    "target_gene_names.head()"
   ]
  },
  {
   "cell_type": "code",
   "execution_count": null,
   "metadata": {},
   "outputs": [],
   "source": [
    "#################################################################################\n",
    "#                          COMPLETE THE FOLLOWING SECTION                       #\n",
    "#################################################################################\n",
    "# for each drug compute their average similarities in sim_drugs matrix\n",
    "# and average binding value (in train_data).\n",
    "# add these two feature as 'avg-sim', 'avg-binding' to drug_pubchemIDs DataFrame\n",
    "#################################################################################\n",
    "\n",
    "\n",
    "#################################################################################\n",
    "#                                   THE END                                     #\n",
    "#################################################################################\n",
    "drug_pubchemIDs.head()"
   ]
  },
  {
   "cell_type": "markdown",
   "metadata": {},
   "source": [
    "### 2.2 Drug/Target Similarity Networks"
   ]
  },
  {
   "cell_type": "markdown",
   "metadata": {},
   "source": [
    "#### 2.2.1 Build Networks"
   ]
  },
  {
   "cell_type": "markdown",
   "metadata": {},
   "source": [
    "You must build two networks one for drugs and another one for targets. The nodes are drugs or targets, and an edge between two nodes exists if their similarity is above a threshold. The value of threshold is up to you. \\\n",
    "For building networks, we are going to use [igraph](https://igraph.org/) package. "
   ]
  },
  {
   "cell_type": "code",
   "execution_count": null,
   "metadata": {},
   "outputs": [],
   "source": [
    "import igraph"
   ]
  },
  {
   "cell_type": "code",
   "execution_count": null,
   "metadata": {},
   "outputs": [],
   "source": [
    "#################################################################################\n",
    "#                          COMPLETE THE FOLLOWING SECTION                       #\n",
    "#################################################################################\n",
    "# define drug_sim_threshold, target_sim_threshold and use these values to\n",
    "# build two network one for drugs and another one for targets using sim_drugs\n",
    "# and sim_targets.\n",
    "# Hint: you can use igraph.Graph.Adjacency, you can plot your graph using \n",
    "# igraph.plot\n",
    "#################################################################################\n",
    "drug_sim_threshold = None\n",
    "target_sim_threshold = None\n",
    "\n",
    "\n",
    "drug_graph = None\n",
    "target_graph = None\n",
    "#################################################################################\n",
    "#                                   THE END                                     #\n",
    "#################################################################################"
   ]
  },
  {
   "cell_type": "markdown",
   "metadata": {},
   "source": [
    "Explain how you choose your threshold values? \\\n",
    "**Your Answer**"
   ]
  },
  {
   "cell_type": "markdown",
   "metadata": {},
   "source": [
    "#### 2.2.2 Number of neighbors, PageRank"
   ]
  },
  {
   "cell_type": "code",
   "execution_count": null,
   "metadata": {},
   "outputs": [],
   "source": [
    "#################################################################################\n",
    "#                          COMPLETE THE FOLLOWING SECTION                       #\n",
    "#################################################################################\n",
    "# for each drug compute number of neighbors and it's PageRank score. \n",
    "# add these two feature as 'n_neighbors', 'page_rank' to drug_pubchemIDs DataFrame.\n",
    "# do the above for each target too and add them to target_gene_names DataFrame.\n",
    "# Hint: for pagerank score you can use graph.pagerank.\n",
    "#################################################################################\n",
    "\n",
    "\n",
    "#################################################################################\n",
    "#                                   THE END                                     #\n",
    "#################################################################################\n",
    "target_gene_names.head()"
   ]
  },
  {
   "cell_type": "markdown",
   "metadata": {},
   "source": [
    "### 2.3 Non-negative Matrix Factorization"
   ]
  },
  {
   "cell_type": "markdown",
   "metadata": {},
   "source": [
    "For extracting features from binding affinity matrix we are going to use [Non-negative Matrix Factorization](https://en.wikipedia.org/wiki/Non-negative_matrix_factorization). \n",
    "\n",
    "In NMF, we are trying to approximately factor a matrix $B ∈ R_+^{d×t}$ (binding affinity matrix of d drugs and t targets) into two matrices $P ∈ R_+^{k×d}$ and $Q ∈ R_+^{k×t}$ which  $B = P^TQ$\n",
    "\n",
    "In this problem, you can set $k$ (Latent dimension of $P$ and $Q$ matrices) to any number below 10.\n",
    "\n",
    "\n",
    "The columns of the factor matrices P and Q are utilized as parts of the feature vectors for the drugs and targets respectively."
   ]
  },
  {
   "cell_type": "code",
   "execution_count": null,
   "metadata": {},
   "outputs": [],
   "source": [
    "from sklearn.decomposition import NMF"
   ]
  },
  {
   "cell_type": "code",
   "execution_count": null,
   "metadata": {},
   "outputs": [],
   "source": [
    "#################################################################################\n",
    "#                          COMPLETE THE FOLLOWING SECTION                       #\n",
    "#################################################################################\n",
    "# define latent_dim variable, after that use train_data to build bindings matrix\n",
    "# because we remove some of the bindings values when we choose train_data in part 1.5  \n",
    "# your matrix will have some na values fill them with 5 (Which is lowest binding score).\n",
    "#################################################################################\n",
    "latent_dim = None\n",
    "train_binding_matrix = None\n",
    "#################################################################################\n",
    "#                                   THE END                                     #\n",
    "#################################################################################\n",
    "train_binding_matrix.head()"
   ]
  },
  {
   "cell_type": "code",
   "execution_count": null,
   "metadata": {},
   "outputs": [],
   "source": [
    "#################################################################################\n",
    "#                          COMPLETE THE FOLLOWING SECTION                       #\n",
    "#################################################################################\n",
    "# Use sklearn NMF and factor 'train_binding_matrix' to P and Q.\n",
    "# add columns of P and Q as features to 'drug_pubchemIDs' and 'target_gene_names'\n",
    "#################################################################################\n",
    "\n",
    "\n",
    "#################################################################################\n",
    "#                                   THE END                                     #\n",
    "#################################################################################\n",
    "target_gene_names.head()"
   ]
  },
  {
   "cell_type": "markdown",
   "metadata": {},
   "source": [
    "### 2.4 Building Train, Validation and Test Dataset using extracted features"
   ]
  },
  {
   "cell_type": "code",
   "execution_count": null,
   "metadata": {},
   "outputs": [],
   "source": [
    "#################################################################################\n",
    "#                          COMPLETE THE FOLLOWING SECTION                       #\n",
    "#################################################################################\n",
    "# Replace drug pubchemID and Target gene name with extracted features.\n",
    "# and build X (drug and target features) and Y (binding_values) for each dataset\n",
    "# (Train, Validation, Test)\n",
    "#################################################################################\n",
    "X_train = None\n",
    "Y_train = None\n",
    "\n",
    "X_val = None\n",
    "Y_val = None\n",
    "\n",
    "X_test = None\n",
    "Y_test = None\n",
    "\n",
    "#################################################################################\n",
    "#                                   THE END                                     #\n",
    "#################################################################################\n",
    "X_train.shape, Y_train.shape, X_val.shape, Y_val.shape, X_test.shape, Y_test.shape"
   ]
  },
  {
   "cell_type": "markdown",
   "metadata": {},
   "source": [
    "## 3.XGboost (25 Points)"
   ]
  },
  {
   "cell_type": "markdown",
   "metadata": {},
   "source": [
    "To predict the continuous binding affinity for drug–target pairs, we will use [XGBoost](https://xgboost.readthedocs.io/en/latest/) library. \n",
    "\n",
    "You need to tune following hyperparameters:\n",
    "- `learning_rate`: Boosting learning rate\n",
    "- `n_estimators`: Number of gradient boosted trees.\n",
    "- `max_depth `: Maximum tree depth for base learners.\n",
    "- `colsample_bytree`: Subsample ratio of columns when constructing each tree.\n",
    "- `subsample`: Subsample ratio of the training instance.\n",
    "\n",
    "\n",
    "\n",
    "\n",
    "Note: `drug_sim_threshold`, `target_sim_threshold` and `latent_dim` in Feature Engineering part can be viewed as hyperparameters too."
   ]
  },
  {
   "cell_type": "code",
   "execution_count": null,
   "metadata": {},
   "outputs": [],
   "source": [
    "import xgboost\n",
    "from sklearn.metrics import mean_squared_error"
   ]
  },
  {
   "cell_type": "markdown",
   "metadata": {},
   "source": [
    "### 3.1 Tune Hyperparameters"
   ]
  },
  {
   "cell_type": "code",
   "execution_count": null,
   "metadata": {},
   "outputs": [],
   "source": [
    "def plot_model_results(results):\n",
    "    epochs = len(results['validation_0']['rmse'])\n",
    "    x_axis = range(0, epochs)\n",
    "    fig, ax = plt.subplots()\n",
    "    ax.plot(x_axis, results['validation_0']['rmse'], label='Train')\n",
    "    ax.plot(x_axis, results['validation_1']['rmse'], label='Validation')\n",
    "    ax.legend()\n",
    "    plt.ylabel('RMSE')\n",
    "    plt.show()"
   ]
  },
  {
   "cell_type": "code",
   "execution_count": null,
   "metadata": {},
   "outputs": [],
   "source": [
    "#################################################################################\n",
    "#                          COMPLETE THE FOLLOWING SECTION                       #\n",
    "#################################################################################\n",
    "# Tune hyperparameters values and train model using .fit with Train data\n",
    "# you can use l1 and l2 regularization terms too\n",
    "# after training calculate Root Mean Square Error (RMSE) for validation data\n",
    "#################################################################################\n",
    "learning_rate = None\n",
    "n_estimators = None\n",
    "max_depth = None\n",
    "colsample_bytree = None\n",
    "subsample = None\n",
    "\n",
    "model = xgboost.XGBRegressor(objective ='reg:linear', learning_rate = learning_rate, \n",
    "                             colsample_bytree = colsample_bytree,\n",
    "                             max_depth = max_depth, \n",
    "                             subsample = subsample, \n",
    "                             n_estimators = n_estimators,\n",
    "                             eval_metric='rmse')\n",
    "\n",
    "model.fit(X_train,Y_train, eval_metric=\"rmse\", \n",
    "          eval_set=[(X_train, Y_train), (X_val, Y_val)],\n",
    "          verbose=False)\n",
    "\n",
    "\n",
    "validation_rmse = None\n",
    "#################################################################################\n",
    "#                                   THE END                                     #\n",
    "#################################################################################\n",
    "print(\"Validation RMSE: %.3f\" % validation_rmse)\n",
    "plot_model_results(model.evals_result())"
   ]
  },
  {
   "cell_type": "markdown",
   "metadata": {},
   "source": [
    "### 3.2 Ploting Feature importance"
   ]
  },
  {
   "cell_type": "code",
   "execution_count": null,
   "metadata": {},
   "outputs": [],
   "source": [
    "xgboost.plot_importance(model);"
   ]
  },
  {
   "cell_type": "markdown",
   "metadata": {},
   "source": [
    "### 3.2 Evaluation"
   ]
  },
  {
   "cell_type": "markdown",
   "metadata": {},
   "source": [
    "Let's make our perdiction binary. either a drug is binded to target or not, use $pK_d$ > 7 threshold as binded (drug-target) pair."
   ]
  },
  {
   "cell_type": "code",
   "execution_count": null,
   "metadata": {},
   "outputs": [],
   "source": [
    "from sklearn.metrics import confusion_matrix\n",
    "#################################################################################\n",
    "#                          COMPLETE THE FOLLOWING SECTION                       #\n",
    "#################################################################################\n",
    "# Calculate RMSE for Test data. after that\n",
    "# Calculate accuracy, precision, recall, f1-score for X_test\n",
    "# for binary prediction setting. you can use confution_matrix from sklearn\n",
    "#################################################################################\n",
    "test_rmse = None\n",
    "test_acc = None\n",
    "test_percision = None\n",
    "test_recall = None\n",
    "test_f1 = None\n",
    "\n",
    "\n",
    "#################################################################################\n",
    "#                                   THE END                                     #\n",
    "#################################################################################\n",
    "print(\"Test RMSE: %.3f\" % test_rmse)\n",
    "print(\"Test Accuracy: %.3f\" % test_acc)\n",
    "print(\"Test Percision: %.3f\" % test_percision)\n",
    "print(\"Test Recall: %.3f\" % test_recall)\n",
    "print(\"Test F1-Score: %.3f\" % test_f1)"
   ]
  },
  {
   "cell_type": "markdown",
   "metadata": {},
   "source": [
    "## 4.Classification (25 Points)"
   ]
  },
  {
   "cell_type": "markdown",
   "metadata": {},
   "source": [
    "Change Binding values to binary values with threshold $pK_d$ > 7 \n",
    "and use X_train to train any Classifier method that you like.\\\n",
    "Report `accuracy`, `precision`, `recall`, `f1-score` for X_test. \n",
    "\n"
   ]
  },
  {
   "cell_type": "code",
   "execution_count": null,
   "metadata": {},
   "outputs": [],
   "source": []
  },
  {
   "cell_type": "markdown",
   "metadata": {},
   "source": [
    "# Extra Points\n",
    "\n",
    "There is 5 extra points in parts 3 & 4 rewarded to the top 15% students with the best results. Your model will be trained again with a random seed on our dataset. Please have in mind:\n",
    "- You should only use train or validation data for training phase of your model.\n",
    "- Your code must be readable and runnable in other enviroments.\n",
    "- If you are going to use other libraries, mention them."
   ]
  },
  {
   "cell_type": "code",
   "execution_count": null,
   "metadata": {},
   "outputs": [],
   "source": []
  }
 ],
 "metadata": {
  "kernelspec": {
   "display_name": "Python 3",
   "language": "python",
   "name": "python3"
  },
  "language_info": {
   "codemirror_mode": {
    "name": "ipython",
    "version": 3
   },
   "file_extension": ".py",
   "mimetype": "text/x-python",
   "name": "python",
   "nbconvert_exporter": "python",
   "pygments_lexer": "ipython3",
   "version": "3.7.5rc1"
  }
 },
 "nbformat": 4,
 "nbformat_minor": 4
}
