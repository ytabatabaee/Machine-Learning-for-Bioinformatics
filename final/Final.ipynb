{
 "cells": [
  {
   "cell_type": "markdown",
   "metadata": {
    "colab_type": "text",
    "id": "rLoRlGsRStLx"
   },
   "source": [
    "# Predicting Activity of Compounds for Drug Discovery"
   ]
  },
  {
   "cell_type": "code",
   "execution_count": 1,
   "metadata": {
    "colab": {},
    "colab_type": "code",
    "executionInfo": {
     "elapsed": 892,
     "status": "ok",
     "timestamp": 1595494166930,
     "user": {
      "displayName": "Yasamin Tabatabaee",
      "photoUrl": "",
      "userId": "07445355406834081164"
     },
     "user_tz": -270
    },
    "id": "cp2dEUKeQNkZ"
   },
   "outputs": [],
   "source": [
    "# importing libraries\n",
    "\n",
    "import pandas as pd\n",
    "import numpy as np\n",
    "import xgboost\n",
    "import matplotlib.pyplot as plt\n",
    "from sklearn.metrics import roc_curve\n",
    "from sklearn.metrics import roc_auc_score\n",
    "from sklearn.utils import resample\n",
    "from sklearn.model_selection import train_test_split\n",
    "from sklearn.linear_model import Perceptron\n",
    "from sklearn.calibration import CalibratedClassifierCV\n",
    "from sklearn.metrics import accuracy_score\n",
    "from sklearn.preprocessing import normalize\n",
    "from sklearn.decomposition import TruncatedSVD\n",
    "from sklearn.model_selection import GridSearchCV\n",
    "from sklearn.ensemble import RandomForestClassifier\n",
    "from sklearn.metrics import classification_report, confusion_matrix"
   ]
  },
  {
   "cell_type": "markdown",
   "metadata": {
    "colab_type": "text",
    "id": "RhKK6La-5mLR"
   },
   "source": [
    "## Dataset Info"
   ]
  },
  {
   "cell_type": "markdown",
   "metadata": {
    "colab_type": "text",
    "id": "KP1ICEOu5xOw"
   },
   "source": [
    "This bioassay dataset consists of 47831 training samples and 11957 test samples each having sparse feature vectors of size 154 and a target column showing the activity label of the compound. We can also see that the number of active compounds in our train data is 170 out of 47831 which is a very small ratio and therefore we need to balance our data while trainig the model. "
   ]
  },
  {
   "cell_type": "code",
   "execution_count": 23,
   "metadata": {
    "colab": {},
    "colab_type": "code",
    "executionInfo": {
     "elapsed": 1451,
     "status": "ok",
     "timestamp": 1595496184515,
     "user": {
      "displayName": "Yasamin Tabatabaee",
      "photoUrl": "",
      "userId": "07445355406834081164"
     },
     "user_tz": -270
    },
    "id": "ZioeXIH5RHgS"
   },
   "outputs": [],
   "source": [
    "train_data = pd.read_csv('AID604red_train.csv')\n",
    "test_data = pd.read_csv('AID604red_test.csv')"
   ]
  },
  {
   "cell_type": "code",
   "execution_count": 24,
   "metadata": {
    "colab": {
     "base_uri": "https://localhost:8080/",
     "height": 34
    },
    "colab_type": "code",
    "executionInfo": {
     "elapsed": 954,
     "status": "ok",
     "timestamp": 1595496185501,
     "user": {
      "displayName": "Yasamin Tabatabaee",
      "photoUrl": "",
      "userId": "07445355406834081164"
     },
     "user_tz": -270
    },
    "id": "-H61uSIIR9wh",
    "outputId": "02c3274c-95c7-4df3-a04b-b9d23ab571bf"
   },
   "outputs": [
    {
     "data": {
      "text/plain": [
       "((47831, 155), (11957, 155))"
      ]
     },
     "execution_count": 24,
     "metadata": {
      "tags": []
     },
     "output_type": "execute_result"
    }
   ],
   "source": [
    "train_data.shape, test_data.shape"
   ]
  },
  {
   "cell_type": "code",
   "execution_count": 26,
   "metadata": {
    "colab": {
     "base_uri": "https://localhost:8080/",
     "height": 34
    },
    "colab_type": "code",
    "executionInfo": {
     "elapsed": 930,
     "status": "ok",
     "timestamp": 1595496199491,
     "user": {
      "displayName": "Yasamin Tabatabaee",
      "photoUrl": "",
      "userId": "07445355406834081164"
     },
     "user_tz": -270
    },
    "id": "_i8fs_yr6sW1",
    "outputId": "460d8fdf-554b-4004-d7f9-41456820d8cc"
   },
   "outputs": [
    {
     "data": {
      "text/plain": [
       "170"
      ]
     },
     "execution_count": 26,
     "metadata": {
      "tags": []
     },
     "output_type": "execute_result"
    }
   ],
   "source": [
    "np.sum(train_data['Outcome'] == 'Active')"
   ]
  },
  {
   "cell_type": "code",
   "execution_count": null,
   "metadata": {
    "colab": {
     "base_uri": "https://localhost:8080/",
     "height": 252
    },
    "colab_type": "code",
    "executionInfo": {
     "elapsed": 887,
     "status": "ok",
     "timestamp": 1595082175177,
     "user": {
      "displayName": "Yasamin Tabatabaee",
      "photoUrl": "",
      "userId": "07445355406834081164"
     },
     "user_tz": -270
    },
    "id": "OMpOyBtDTl4b",
    "outputId": "8595fd6b-aa6c-4c40-8bc6-b3b7e82cbeae"
   },
   "outputs": [
    {
     "data": {
      "text/html": [
       "<div>\n",
       "<style scoped>\n",
       "    .dataframe tbody tr th:only-of-type {\n",
       "        vertical-align: middle;\n",
       "    }\n",
       "\n",
       "    .dataframe tbody tr th {\n",
       "        vertical-align: top;\n",
       "    }\n",
       "\n",
       "    .dataframe thead th {\n",
       "        text-align: right;\n",
       "    }\n",
       "</style>\n",
       "<table border=\"1\" class=\"dataframe\">\n",
       "  <thead>\n",
       "    <tr style=\"text-align: right;\">\n",
       "      <th></th>\n",
       "      <th>NEG_01_NEG</th>\n",
       "      <th>NEG_02_NEG</th>\n",
       "      <th>NEG_03_NEG</th>\n",
       "      <th>NEG_04_NEG</th>\n",
       "      <th>NEG_05_NEG</th>\n",
       "      <th>NEG_06_NEG</th>\n",
       "      <th>NEG_07_NEG</th>\n",
       "      <th>NEG_03_POS</th>\n",
       "      <th>NEG_04_POS</th>\n",
       "      <th>NEG_05_POS</th>\n",
       "      <th>NEG_06_POS</th>\n",
       "      <th>NEG_07_POS</th>\n",
       "      <th>NEG_01_HBD</th>\n",
       "      <th>NEG_02_HBD</th>\n",
       "      <th>NEG_03_HBD</th>\n",
       "      <th>NEG_04_HBD</th>\n",
       "      <th>NEG_05_HBD</th>\n",
       "      <th>NEG_06_HBD</th>\n",
       "      <th>NEG_07_HBD</th>\n",
       "      <th>NEG_03_HBA</th>\n",
       "      <th>NEG_04_HBA</th>\n",
       "      <th>NEG_05_HBA</th>\n",
       "      <th>NEG_06_HBA</th>\n",
       "      <th>NEG_07_HBA</th>\n",
       "      <th>NEG_02_ARC</th>\n",
       "      <th>NEG_03_ARC</th>\n",
       "      <th>NEG_04_ARC</th>\n",
       "      <th>NEG_05_ARC</th>\n",
       "      <th>NEG_06_ARC</th>\n",
       "      <th>NEG_07_ARC</th>\n",
       "      <th>NEG_02_HYP</th>\n",
       "      <th>NEG_03_HYP</th>\n",
       "      <th>NEG_04_HYP</th>\n",
       "      <th>NEG_05_HYP</th>\n",
       "      <th>NEG_06_HYP</th>\n",
       "      <th>NEG_07_HYP</th>\n",
       "      <th>POS_03_POS</th>\n",
       "      <th>POS_04_POS</th>\n",
       "      <th>POS_05_POS</th>\n",
       "      <th>POS_06_POS</th>\n",
       "      <th>...</th>\n",
       "      <th>HYP_01_HYP</th>\n",
       "      <th>HYP_02_HYP</th>\n",
       "      <th>HYP_03_HYP</th>\n",
       "      <th>HYP_04_HYP</th>\n",
       "      <th>HYP_05_HYP</th>\n",
       "      <th>HYP_06_HYP</th>\n",
       "      <th>HYP_07_HYP</th>\n",
       "      <th>WBN_GC_L_0.25</th>\n",
       "      <th>WBN_GC_H_0.25</th>\n",
       "      <th>WBN_GC_L_0.50</th>\n",
       "      <th>WBN_GC_H_0.50</th>\n",
       "      <th>WBN_GC_L_0.75</th>\n",
       "      <th>WBN_GC_H_0.75</th>\n",
       "      <th>WBN_GC_L_1.00</th>\n",
       "      <th>WBN_GC_H_1.00</th>\n",
       "      <th>WBN_EN_L_0.25</th>\n",
       "      <th>WBN_EN_H_0.25</th>\n",
       "      <th>WBN_EN_L_0.50</th>\n",
       "      <th>WBN_EN_H_0.50</th>\n",
       "      <th>WBN_EN_L_0.75</th>\n",
       "      <th>WBN_EN_H_0.75</th>\n",
       "      <th>WBN_EN_L_1.00</th>\n",
       "      <th>WBN_EN_H_1.00</th>\n",
       "      <th>WBN_LP_L_0.25</th>\n",
       "      <th>WBN_LP_H_0.25</th>\n",
       "      <th>WBN_LP_L_0.50</th>\n",
       "      <th>WBN_LP_H_0.50</th>\n",
       "      <th>WBN_LP_L_0.75</th>\n",
       "      <th>WBN_LP_H_0.75</th>\n",
       "      <th>WBN_LP_L_1.00</th>\n",
       "      <th>WBN_LP_H_1.00</th>\n",
       "      <th>XLogP</th>\n",
       "      <th>PSA</th>\n",
       "      <th>NumRot</th>\n",
       "      <th>NumHBA</th>\n",
       "      <th>NumHBD</th>\n",
       "      <th>MW</th>\n",
       "      <th>BBB</th>\n",
       "      <th>BadGroup</th>\n",
       "      <th>Outcome</th>\n",
       "    </tr>\n",
       "  </thead>\n",
       "  <tbody>\n",
       "    <tr>\n",
       "      <th>0</th>\n",
       "      <td>0</td>\n",
       "      <td>0</td>\n",
       "      <td>0</td>\n",
       "      <td>0</td>\n",
       "      <td>0</td>\n",
       "      <td>0</td>\n",
       "      <td>0</td>\n",
       "      <td>0</td>\n",
       "      <td>0</td>\n",
       "      <td>0</td>\n",
       "      <td>0</td>\n",
       "      <td>0</td>\n",
       "      <td>0</td>\n",
       "      <td>0</td>\n",
       "      <td>0</td>\n",
       "      <td>0</td>\n",
       "      <td>0</td>\n",
       "      <td>0</td>\n",
       "      <td>0</td>\n",
       "      <td>0</td>\n",
       "      <td>0</td>\n",
       "      <td>0</td>\n",
       "      <td>0</td>\n",
       "      <td>0</td>\n",
       "      <td>0</td>\n",
       "      <td>0</td>\n",
       "      <td>0</td>\n",
       "      <td>0</td>\n",
       "      <td>0</td>\n",
       "      <td>0</td>\n",
       "      <td>0</td>\n",
       "      <td>0</td>\n",
       "      <td>0</td>\n",
       "      <td>0</td>\n",
       "      <td>0</td>\n",
       "      <td>0</td>\n",
       "      <td>0</td>\n",
       "      <td>0</td>\n",
       "      <td>0</td>\n",
       "      <td>0</td>\n",
       "      <td>...</td>\n",
       "      <td>0</td>\n",
       "      <td>0</td>\n",
       "      <td>0</td>\n",
       "      <td>0</td>\n",
       "      <td>0</td>\n",
       "      <td>0</td>\n",
       "      <td>0</td>\n",
       "      <td>-1.40233</td>\n",
       "      <td>1.08841</td>\n",
       "      <td>-1.92506</td>\n",
       "      <td>2.04310</td>\n",
       "      <td>-2.73138</td>\n",
       "      <td>3.01521</td>\n",
       "      <td>-3.61565</td>\n",
       "      <td>3.99242</td>\n",
       "      <td>-0.898484</td>\n",
       "      <td>1.23575</td>\n",
       "      <td>-1.80292</td>\n",
       "      <td>2.09257</td>\n",
       "      <td>-2.70959</td>\n",
       "      <td>3.05102</td>\n",
       "      <td>-3.61732</td>\n",
       "      <td>4.02497</td>\n",
       "      <td>-0.845802</td>\n",
       "      <td>1.27313</td>\n",
       "      <td>-1.60690</td>\n",
       "      <td>2.25075</td>\n",
       "      <td>-2.49273</td>\n",
       "      <td>3.23219</td>\n",
       "      <td>-3.39496</td>\n",
       "      <td>4.21468</td>\n",
       "      <td>4.858</td>\n",
       "      <td>28.68</td>\n",
       "      <td>0</td>\n",
       "      <td>0</td>\n",
       "      <td>0</td>\n",
       "      <td>246.313</td>\n",
       "      <td>1</td>\n",
       "      <td>0</td>\n",
       "      <td>Active</td>\n",
       "    </tr>\n",
       "    <tr>\n",
       "      <th>1</th>\n",
       "      <td>0</td>\n",
       "      <td>0</td>\n",
       "      <td>0</td>\n",
       "      <td>0</td>\n",
       "      <td>0</td>\n",
       "      <td>0</td>\n",
       "      <td>0</td>\n",
       "      <td>0</td>\n",
       "      <td>0</td>\n",
       "      <td>0</td>\n",
       "      <td>0</td>\n",
       "      <td>0</td>\n",
       "      <td>0</td>\n",
       "      <td>0</td>\n",
       "      <td>0</td>\n",
       "      <td>0</td>\n",
       "      <td>0</td>\n",
       "      <td>0</td>\n",
       "      <td>0</td>\n",
       "      <td>0</td>\n",
       "      <td>0</td>\n",
       "      <td>0</td>\n",
       "      <td>0</td>\n",
       "      <td>0</td>\n",
       "      <td>0</td>\n",
       "      <td>0</td>\n",
       "      <td>0</td>\n",
       "      <td>0</td>\n",
       "      <td>0</td>\n",
       "      <td>0</td>\n",
       "      <td>0</td>\n",
       "      <td>0</td>\n",
       "      <td>0</td>\n",
       "      <td>0</td>\n",
       "      <td>0</td>\n",
       "      <td>0</td>\n",
       "      <td>0</td>\n",
       "      <td>0</td>\n",
       "      <td>0</td>\n",
       "      <td>0</td>\n",
       "      <td>...</td>\n",
       "      <td>0</td>\n",
       "      <td>0</td>\n",
       "      <td>0</td>\n",
       "      <td>0</td>\n",
       "      <td>0</td>\n",
       "      <td>0</td>\n",
       "      <td>0</td>\n",
       "      <td>-1.37163</td>\n",
       "      <td>1.15488</td>\n",
       "      <td>-1.94285</td>\n",
       "      <td>2.02754</td>\n",
       "      <td>-2.77216</td>\n",
       "      <td>2.93499</td>\n",
       "      <td>-3.63394</td>\n",
       "      <td>3.85274</td>\n",
       "      <td>-0.848811</td>\n",
       "      <td>1.53930</td>\n",
       "      <td>-1.71658</td>\n",
       "      <td>2.37862</td>\n",
       "      <td>-2.59380</td>\n",
       "      <td>3.24926</td>\n",
       "      <td>-3.47696</td>\n",
       "      <td>4.13856</td>\n",
       "      <td>-1.081640</td>\n",
       "      <td>1.16984</td>\n",
       "      <td>-1.91518</td>\n",
       "      <td>2.06414</td>\n",
       "      <td>-2.77161</td>\n",
       "      <td>2.97303</td>\n",
       "      <td>-3.64178</td>\n",
       "      <td>3.88951</td>\n",
       "      <td>0.840</td>\n",
       "      <td>70.68</td>\n",
       "      <td>2</td>\n",
       "      <td>4</td>\n",
       "      <td>1</td>\n",
       "      <td>291.376</td>\n",
       "      <td>0</td>\n",
       "      <td>0</td>\n",
       "      <td>Active</td>\n",
       "    </tr>\n",
       "    <tr>\n",
       "      <th>2</th>\n",
       "      <td>0</td>\n",
       "      <td>0</td>\n",
       "      <td>0</td>\n",
       "      <td>0</td>\n",
       "      <td>0</td>\n",
       "      <td>0</td>\n",
       "      <td>0</td>\n",
       "      <td>0</td>\n",
       "      <td>0</td>\n",
       "      <td>0</td>\n",
       "      <td>0</td>\n",
       "      <td>0</td>\n",
       "      <td>0</td>\n",
       "      <td>0</td>\n",
       "      <td>0</td>\n",
       "      <td>0</td>\n",
       "      <td>0</td>\n",
       "      <td>0</td>\n",
       "      <td>0</td>\n",
       "      <td>0</td>\n",
       "      <td>0</td>\n",
       "      <td>0</td>\n",
       "      <td>0</td>\n",
       "      <td>0</td>\n",
       "      <td>0</td>\n",
       "      <td>0</td>\n",
       "      <td>0</td>\n",
       "      <td>0</td>\n",
       "      <td>0</td>\n",
       "      <td>0</td>\n",
       "      <td>0</td>\n",
       "      <td>0</td>\n",
       "      <td>0</td>\n",
       "      <td>0</td>\n",
       "      <td>0</td>\n",
       "      <td>0</td>\n",
       "      <td>0</td>\n",
       "      <td>0</td>\n",
       "      <td>0</td>\n",
       "      <td>0</td>\n",
       "      <td>...</td>\n",
       "      <td>0</td>\n",
       "      <td>0</td>\n",
       "      <td>0</td>\n",
       "      <td>0</td>\n",
       "      <td>0</td>\n",
       "      <td>0</td>\n",
       "      <td>0</td>\n",
       "      <td>-2.35488</td>\n",
       "      <td>1.47647</td>\n",
       "      <td>-2.61217</td>\n",
       "      <td>2.24919</td>\n",
       "      <td>-2.99882</td>\n",
       "      <td>3.08114</td>\n",
       "      <td>-3.47268</td>\n",
       "      <td>3.93922</td>\n",
       "      <td>-0.669717</td>\n",
       "      <td>1.37016</td>\n",
       "      <td>-1.45272</td>\n",
       "      <td>2.18609</td>\n",
       "      <td>-2.26284</td>\n",
       "      <td>3.05479</td>\n",
       "      <td>-3.08245</td>\n",
       "      <td>3.93777</td>\n",
       "      <td>-0.917529</td>\n",
       "      <td>1.13269</td>\n",
       "      <td>-1.65268</td>\n",
       "      <td>1.99574</td>\n",
       "      <td>-2.44877</td>\n",
       "      <td>2.87862</td>\n",
       "      <td>-3.26270</td>\n",
       "      <td>3.76778</td>\n",
       "      <td>1.863</td>\n",
       "      <td>79.63</td>\n",
       "      <td>3</td>\n",
       "      <td>1</td>\n",
       "      <td>1</td>\n",
       "      <td>215.216</td>\n",
       "      <td>0</td>\n",
       "      <td>0</td>\n",
       "      <td>Active</td>\n",
       "    </tr>\n",
       "    <tr>\n",
       "      <th>3</th>\n",
       "      <td>0</td>\n",
       "      <td>0</td>\n",
       "      <td>0</td>\n",
       "      <td>0</td>\n",
       "      <td>0</td>\n",
       "      <td>0</td>\n",
       "      <td>0</td>\n",
       "      <td>0</td>\n",
       "      <td>0</td>\n",
       "      <td>0</td>\n",
       "      <td>0</td>\n",
       "      <td>0</td>\n",
       "      <td>0</td>\n",
       "      <td>0</td>\n",
       "      <td>0</td>\n",
       "      <td>0</td>\n",
       "      <td>0</td>\n",
       "      <td>0</td>\n",
       "      <td>0</td>\n",
       "      <td>0</td>\n",
       "      <td>0</td>\n",
       "      <td>0</td>\n",
       "      <td>0</td>\n",
       "      <td>0</td>\n",
       "      <td>0</td>\n",
       "      <td>0</td>\n",
       "      <td>0</td>\n",
       "      <td>0</td>\n",
       "      <td>0</td>\n",
       "      <td>0</td>\n",
       "      <td>0</td>\n",
       "      <td>0</td>\n",
       "      <td>0</td>\n",
       "      <td>0</td>\n",
       "      <td>0</td>\n",
       "      <td>0</td>\n",
       "      <td>0</td>\n",
       "      <td>0</td>\n",
       "      <td>0</td>\n",
       "      <td>0</td>\n",
       "      <td>...</td>\n",
       "      <td>0</td>\n",
       "      <td>0</td>\n",
       "      <td>0</td>\n",
       "      <td>0</td>\n",
       "      <td>0</td>\n",
       "      <td>0</td>\n",
       "      <td>0</td>\n",
       "      <td>-1.46812</td>\n",
       "      <td>1.48042</td>\n",
       "      <td>-1.83631</td>\n",
       "      <td>1.97355</td>\n",
       "      <td>-2.44928</td>\n",
       "      <td>2.62998</td>\n",
       "      <td>-3.14394</td>\n",
       "      <td>3.37758</td>\n",
       "      <td>-0.754726</td>\n",
       "      <td>1.34417</td>\n",
       "      <td>-1.51691</td>\n",
       "      <td>2.01466</td>\n",
       "      <td>-2.28264</td>\n",
       "      <td>2.75596</td>\n",
       "      <td>-3.05044</td>\n",
       "      <td>3.52501</td>\n",
       "      <td>-0.850167</td>\n",
       "      <td>1.05359</td>\n",
       "      <td>-1.50911</td>\n",
       "      <td>1.82368</td>\n",
       "      <td>-2.21714</td>\n",
       "      <td>2.61147</td>\n",
       "      <td>-2.95973</td>\n",
       "      <td>3.40707</td>\n",
       "      <td>1.563</td>\n",
       "      <td>32.67</td>\n",
       "      <td>1</td>\n",
       "      <td>3</td>\n",
       "      <td>0</td>\n",
       "      <td>174.203</td>\n",
       "      <td>1</td>\n",
       "      <td>0</td>\n",
       "      <td>Active</td>\n",
       "    </tr>\n",
       "    <tr>\n",
       "      <th>4</th>\n",
       "      <td>0</td>\n",
       "      <td>0</td>\n",
       "      <td>0</td>\n",
       "      <td>0</td>\n",
       "      <td>0</td>\n",
       "      <td>0</td>\n",
       "      <td>0</td>\n",
       "      <td>0</td>\n",
       "      <td>0</td>\n",
       "      <td>0</td>\n",
       "      <td>0</td>\n",
       "      <td>0</td>\n",
       "      <td>0</td>\n",
       "      <td>0</td>\n",
       "      <td>0</td>\n",
       "      <td>0</td>\n",
       "      <td>0</td>\n",
       "      <td>0</td>\n",
       "      <td>0</td>\n",
       "      <td>0</td>\n",
       "      <td>0</td>\n",
       "      <td>0</td>\n",
       "      <td>0</td>\n",
       "      <td>0</td>\n",
       "      <td>0</td>\n",
       "      <td>0</td>\n",
       "      <td>0</td>\n",
       "      <td>0</td>\n",
       "      <td>0</td>\n",
       "      <td>0</td>\n",
       "      <td>0</td>\n",
       "      <td>0</td>\n",
       "      <td>0</td>\n",
       "      <td>0</td>\n",
       "      <td>0</td>\n",
       "      <td>0</td>\n",
       "      <td>0</td>\n",
       "      <td>0</td>\n",
       "      <td>0</td>\n",
       "      <td>0</td>\n",
       "      <td>...</td>\n",
       "      <td>0</td>\n",
       "      <td>0</td>\n",
       "      <td>0</td>\n",
       "      <td>0</td>\n",
       "      <td>0</td>\n",
       "      <td>0</td>\n",
       "      <td>0</td>\n",
       "      <td>-1.39327</td>\n",
       "      <td>1.15471</td>\n",
       "      <td>-1.89540</td>\n",
       "      <td>2.03895</td>\n",
       "      <td>-2.57280</td>\n",
       "      <td>2.96278</td>\n",
       "      <td>-3.31886</td>\n",
       "      <td>3.89661</td>\n",
       "      <td>-0.841054</td>\n",
       "      <td>1.25148</td>\n",
       "      <td>-1.68737</td>\n",
       "      <td>2.07073</td>\n",
       "      <td>-2.53566</td>\n",
       "      <td>2.98474</td>\n",
       "      <td>-3.38491</td>\n",
       "      <td>3.91717</td>\n",
       "      <td>-0.847671</td>\n",
       "      <td>1.23367</td>\n",
       "      <td>-1.55695</td>\n",
       "      <td>2.16879</td>\n",
       "      <td>-2.36372</td>\n",
       "      <td>3.11003</td>\n",
       "      <td>-3.19637</td>\n",
       "      <td>4.05315</td>\n",
       "      <td>2.929</td>\n",
       "      <td>28.68</td>\n",
       "      <td>0</td>\n",
       "      <td>0</td>\n",
       "      <td>0</td>\n",
       "      <td>168.199</td>\n",
       "      <td>1</td>\n",
       "      <td>0</td>\n",
       "      <td>Active</td>\n",
       "    </tr>\n",
       "  </tbody>\n",
       "</table>\n",
       "<p>5 rows × 155 columns</p>\n",
       "</div>"
      ],
      "text/plain": [
       "   NEG_01_NEG  NEG_02_NEG  NEG_03_NEG  ...  BBB  BadGroup  Outcome\n",
       "0           0           0           0  ...    1         0   Active\n",
       "1           0           0           0  ...    0         0   Active\n",
       "2           0           0           0  ...    0         0   Active\n",
       "3           0           0           0  ...    1         0   Active\n",
       "4           0           0           0  ...    1         0   Active\n",
       "\n",
       "[5 rows x 155 columns]"
      ]
     },
     "execution_count": 8,
     "metadata": {
      "tags": []
     },
     "output_type": "execute_result"
    }
   ],
   "source": [
    "train_data.head()"
   ]
  },
  {
   "cell_type": "code",
   "execution_count": null,
   "metadata": {
    "colab": {
     "base_uri": "https://localhost:8080/",
     "height": 252
    },
    "colab_type": "code",
    "executionInfo": {
     "elapsed": 1164,
     "status": "ok",
     "timestamp": 1595082192590,
     "user": {
      "displayName": "Yasamin Tabatabaee",
      "photoUrl": "",
      "userId": "07445355406834081164"
     },
     "user_tz": -270
    },
    "id": "bnMZ5B5XTqK2",
    "outputId": "74e96034-8e66-4a59-cc03-282e42f69c3f"
   },
   "outputs": [
    {
     "data": {
      "text/html": [
       "<div>\n",
       "<style scoped>\n",
       "    .dataframe tbody tr th:only-of-type {\n",
       "        vertical-align: middle;\n",
       "    }\n",
       "\n",
       "    .dataframe tbody tr th {\n",
       "        vertical-align: top;\n",
       "    }\n",
       "\n",
       "    .dataframe thead th {\n",
       "        text-align: right;\n",
       "    }\n",
       "</style>\n",
       "<table border=\"1\" class=\"dataframe\">\n",
       "  <thead>\n",
       "    <tr style=\"text-align: right;\">\n",
       "      <th></th>\n",
       "      <th>NEG_01_NEG</th>\n",
       "      <th>NEG_02_NEG</th>\n",
       "      <th>NEG_03_NEG</th>\n",
       "      <th>NEG_04_NEG</th>\n",
       "      <th>NEG_05_NEG</th>\n",
       "      <th>NEG_06_NEG</th>\n",
       "      <th>NEG_07_NEG</th>\n",
       "      <th>NEG_03_POS</th>\n",
       "      <th>NEG_04_POS</th>\n",
       "      <th>NEG_05_POS</th>\n",
       "      <th>NEG_06_POS</th>\n",
       "      <th>NEG_07_POS</th>\n",
       "      <th>NEG_01_HBD</th>\n",
       "      <th>NEG_02_HBD</th>\n",
       "      <th>NEG_03_HBD</th>\n",
       "      <th>NEG_04_HBD</th>\n",
       "      <th>NEG_05_HBD</th>\n",
       "      <th>NEG_06_HBD</th>\n",
       "      <th>NEG_07_HBD</th>\n",
       "      <th>NEG_03_HBA</th>\n",
       "      <th>NEG_04_HBA</th>\n",
       "      <th>NEG_05_HBA</th>\n",
       "      <th>NEG_06_HBA</th>\n",
       "      <th>NEG_07_HBA</th>\n",
       "      <th>NEG_02_ARC</th>\n",
       "      <th>NEG_03_ARC</th>\n",
       "      <th>NEG_04_ARC</th>\n",
       "      <th>NEG_05_ARC</th>\n",
       "      <th>NEG_06_ARC</th>\n",
       "      <th>NEG_07_ARC</th>\n",
       "      <th>NEG_02_HYP</th>\n",
       "      <th>NEG_03_HYP</th>\n",
       "      <th>NEG_04_HYP</th>\n",
       "      <th>NEG_05_HYP</th>\n",
       "      <th>NEG_06_HYP</th>\n",
       "      <th>NEG_07_HYP</th>\n",
       "      <th>POS_03_POS</th>\n",
       "      <th>POS_04_POS</th>\n",
       "      <th>POS_05_POS</th>\n",
       "      <th>POS_06_POS</th>\n",
       "      <th>...</th>\n",
       "      <th>HYP_01_HYP</th>\n",
       "      <th>HYP_02_HYP</th>\n",
       "      <th>HYP_03_HYP</th>\n",
       "      <th>HYP_04_HYP</th>\n",
       "      <th>HYP_05_HYP</th>\n",
       "      <th>HYP_06_HYP</th>\n",
       "      <th>HYP_07_HYP</th>\n",
       "      <th>WBN_GC_L_0.25</th>\n",
       "      <th>WBN_GC_H_0.25</th>\n",
       "      <th>WBN_GC_L_0.50</th>\n",
       "      <th>WBN_GC_H_0.50</th>\n",
       "      <th>WBN_GC_L_0.75</th>\n",
       "      <th>WBN_GC_H_0.75</th>\n",
       "      <th>WBN_GC_L_1.00</th>\n",
       "      <th>WBN_GC_H_1.00</th>\n",
       "      <th>WBN_EN_L_0.25</th>\n",
       "      <th>WBN_EN_H_0.25</th>\n",
       "      <th>WBN_EN_L_0.50</th>\n",
       "      <th>WBN_EN_H_0.50</th>\n",
       "      <th>WBN_EN_L_0.75</th>\n",
       "      <th>WBN_EN_H_0.75</th>\n",
       "      <th>WBN_EN_L_1.00</th>\n",
       "      <th>WBN_EN_H_1.00</th>\n",
       "      <th>WBN_LP_L_0.25</th>\n",
       "      <th>WBN_LP_H_0.25</th>\n",
       "      <th>WBN_LP_L_0.50</th>\n",
       "      <th>WBN_LP_H_0.50</th>\n",
       "      <th>WBN_LP_L_0.75</th>\n",
       "      <th>WBN_LP_H_0.75</th>\n",
       "      <th>WBN_LP_L_1.00</th>\n",
       "      <th>WBN_LP_H_1.00</th>\n",
       "      <th>XLogP</th>\n",
       "      <th>PSA</th>\n",
       "      <th>NumRot</th>\n",
       "      <th>NumHBA</th>\n",
       "      <th>NumHBD</th>\n",
       "      <th>MW</th>\n",
       "      <th>BBB</th>\n",
       "      <th>BadGroup</th>\n",
       "      <th>Outcome</th>\n",
       "    </tr>\n",
       "  </thead>\n",
       "  <tbody>\n",
       "    <tr>\n",
       "      <th>0</th>\n",
       "      <td>0</td>\n",
       "      <td>0</td>\n",
       "      <td>0</td>\n",
       "      <td>0</td>\n",
       "      <td>0</td>\n",
       "      <td>0</td>\n",
       "      <td>0</td>\n",
       "      <td>0</td>\n",
       "      <td>0</td>\n",
       "      <td>0</td>\n",
       "      <td>0</td>\n",
       "      <td>0</td>\n",
       "      <td>0</td>\n",
       "      <td>0</td>\n",
       "      <td>0</td>\n",
       "      <td>0</td>\n",
       "      <td>0</td>\n",
       "      <td>0</td>\n",
       "      <td>0</td>\n",
       "      <td>0</td>\n",
       "      <td>0</td>\n",
       "      <td>0</td>\n",
       "      <td>0</td>\n",
       "      <td>0</td>\n",
       "      <td>0</td>\n",
       "      <td>0</td>\n",
       "      <td>0</td>\n",
       "      <td>0</td>\n",
       "      <td>0</td>\n",
       "      <td>0</td>\n",
       "      <td>0</td>\n",
       "      <td>0</td>\n",
       "      <td>0</td>\n",
       "      <td>0</td>\n",
       "      <td>0</td>\n",
       "      <td>0</td>\n",
       "      <td>0</td>\n",
       "      <td>0</td>\n",
       "      <td>0</td>\n",
       "      <td>0</td>\n",
       "      <td>...</td>\n",
       "      <td>0</td>\n",
       "      <td>0</td>\n",
       "      <td>0</td>\n",
       "      <td>0</td>\n",
       "      <td>0</td>\n",
       "      <td>0</td>\n",
       "      <td>0</td>\n",
       "      <td>-1.42784</td>\n",
       "      <td>1.39995</td>\n",
       "      <td>-2.02457</td>\n",
       "      <td>2.20165</td>\n",
       "      <td>-2.71208</td>\n",
       "      <td>3.05703</td>\n",
       "      <td>-3.45730</td>\n",
       "      <td>3.93644</td>\n",
       "      <td>-0.757702</td>\n",
       "      <td>1.45270</td>\n",
       "      <td>-1.54289</td>\n",
       "      <td>2.24962</td>\n",
       "      <td>-2.35676</td>\n",
       "      <td>3.12269</td>\n",
       "      <td>-3.18367</td>\n",
       "      <td>4.01835</td>\n",
       "      <td>-0.920143</td>\n",
       "      <td>1.108960</td>\n",
       "      <td>-1.66595</td>\n",
       "      <td>1.99682</td>\n",
       "      <td>-2.47529</td>\n",
       "      <td>2.90260</td>\n",
       "      <td>-3.30230</td>\n",
       "      <td>3.81387</td>\n",
       "      <td>1.663</td>\n",
       "      <td>69.62</td>\n",
       "      <td>1</td>\n",
       "      <td>1</td>\n",
       "      <td>1</td>\n",
       "      <td>211.228</td>\n",
       "      <td>1</td>\n",
       "      <td>0</td>\n",
       "      <td>Active</td>\n",
       "    </tr>\n",
       "    <tr>\n",
       "      <th>1</th>\n",
       "      <td>0</td>\n",
       "      <td>0</td>\n",
       "      <td>0</td>\n",
       "      <td>0</td>\n",
       "      <td>0</td>\n",
       "      <td>0</td>\n",
       "      <td>0</td>\n",
       "      <td>0</td>\n",
       "      <td>0</td>\n",
       "      <td>0</td>\n",
       "      <td>0</td>\n",
       "      <td>0</td>\n",
       "      <td>0</td>\n",
       "      <td>0</td>\n",
       "      <td>0</td>\n",
       "      <td>0</td>\n",
       "      <td>0</td>\n",
       "      <td>0</td>\n",
       "      <td>0</td>\n",
       "      <td>0</td>\n",
       "      <td>0</td>\n",
       "      <td>0</td>\n",
       "      <td>0</td>\n",
       "      <td>0</td>\n",
       "      <td>0</td>\n",
       "      <td>0</td>\n",
       "      <td>0</td>\n",
       "      <td>0</td>\n",
       "      <td>0</td>\n",
       "      <td>0</td>\n",
       "      <td>0</td>\n",
       "      <td>0</td>\n",
       "      <td>0</td>\n",
       "      <td>0</td>\n",
       "      <td>0</td>\n",
       "      <td>0</td>\n",
       "      <td>0</td>\n",
       "      <td>0</td>\n",
       "      <td>0</td>\n",
       "      <td>0</td>\n",
       "      <td>...</td>\n",
       "      <td>0</td>\n",
       "      <td>0</td>\n",
       "      <td>0</td>\n",
       "      <td>0</td>\n",
       "      <td>0</td>\n",
       "      <td>0</td>\n",
       "      <td>0</td>\n",
       "      <td>-1.79894</td>\n",
       "      <td>1.45884</td>\n",
       "      <td>-1.94757</td>\n",
       "      <td>2.23037</td>\n",
       "      <td>-2.54039</td>\n",
       "      <td>3.06172</td>\n",
       "      <td>-3.29666</td>\n",
       "      <td>3.91914</td>\n",
       "      <td>-0.670220</td>\n",
       "      <td>1.37075</td>\n",
       "      <td>-1.45466</td>\n",
       "      <td>2.18662</td>\n",
       "      <td>-2.26628</td>\n",
       "      <td>3.05475</td>\n",
       "      <td>-3.08741</td>\n",
       "      <td>3.93696</td>\n",
       "      <td>-0.916429</td>\n",
       "      <td>1.156470</td>\n",
       "      <td>-1.64960</td>\n",
       "      <td>2.00828</td>\n",
       "      <td>-2.44509</td>\n",
       "      <td>2.88808</td>\n",
       "      <td>-3.25929</td>\n",
       "      <td>3.77530</td>\n",
       "      <td>1.188</td>\n",
       "      <td>66.93</td>\n",
       "      <td>1</td>\n",
       "      <td>2</td>\n",
       "      <td>0</td>\n",
       "      <td>205.221</td>\n",
       "      <td>0</td>\n",
       "      <td>0</td>\n",
       "      <td>Active</td>\n",
       "    </tr>\n",
       "    <tr>\n",
       "      <th>2</th>\n",
       "      <td>0</td>\n",
       "      <td>0</td>\n",
       "      <td>0</td>\n",
       "      <td>0</td>\n",
       "      <td>0</td>\n",
       "      <td>0</td>\n",
       "      <td>0</td>\n",
       "      <td>0</td>\n",
       "      <td>0</td>\n",
       "      <td>0</td>\n",
       "      <td>0</td>\n",
       "      <td>0</td>\n",
       "      <td>0</td>\n",
       "      <td>0</td>\n",
       "      <td>0</td>\n",
       "      <td>0</td>\n",
       "      <td>0</td>\n",
       "      <td>0</td>\n",
       "      <td>0</td>\n",
       "      <td>0</td>\n",
       "      <td>0</td>\n",
       "      <td>0</td>\n",
       "      <td>0</td>\n",
       "      <td>0</td>\n",
       "      <td>0</td>\n",
       "      <td>0</td>\n",
       "      <td>0</td>\n",
       "      <td>0</td>\n",
       "      <td>0</td>\n",
       "      <td>0</td>\n",
       "      <td>0</td>\n",
       "      <td>0</td>\n",
       "      <td>0</td>\n",
       "      <td>0</td>\n",
       "      <td>0</td>\n",
       "      <td>0</td>\n",
       "      <td>0</td>\n",
       "      <td>0</td>\n",
       "      <td>0</td>\n",
       "      <td>0</td>\n",
       "      <td>...</td>\n",
       "      <td>0</td>\n",
       "      <td>0</td>\n",
       "      <td>0</td>\n",
       "      <td>0</td>\n",
       "      <td>0</td>\n",
       "      <td>0</td>\n",
       "      <td>0</td>\n",
       "      <td>-1.37163</td>\n",
       "      <td>1.15438</td>\n",
       "      <td>-1.94217</td>\n",
       "      <td>2.02661</td>\n",
       "      <td>-2.77104</td>\n",
       "      <td>2.93357</td>\n",
       "      <td>-3.63253</td>\n",
       "      <td>3.85078</td>\n",
       "      <td>-0.848809</td>\n",
       "      <td>1.53902</td>\n",
       "      <td>-1.71656</td>\n",
       "      <td>2.37752</td>\n",
       "      <td>-2.59373</td>\n",
       "      <td>3.24715</td>\n",
       "      <td>-3.47683</td>\n",
       "      <td>4.13547</td>\n",
       "      <td>-1.092020</td>\n",
       "      <td>0.944368</td>\n",
       "      <td>-1.94458</td>\n",
       "      <td>1.85107</td>\n",
       "      <td>-2.82130</td>\n",
       "      <td>2.77023</td>\n",
       "      <td>-3.70884</td>\n",
       "      <td>3.69427</td>\n",
       "      <td>-0.912</td>\n",
       "      <td>70.15</td>\n",
       "      <td>2</td>\n",
       "      <td>5</td>\n",
       "      <td>1</td>\n",
       "      <td>291.376</td>\n",
       "      <td>0</td>\n",
       "      <td>0</td>\n",
       "      <td>Active</td>\n",
       "    </tr>\n",
       "    <tr>\n",
       "      <th>3</th>\n",
       "      <td>0</td>\n",
       "      <td>0</td>\n",
       "      <td>0</td>\n",
       "      <td>0</td>\n",
       "      <td>0</td>\n",
       "      <td>0</td>\n",
       "      <td>0</td>\n",
       "      <td>0</td>\n",
       "      <td>0</td>\n",
       "      <td>0</td>\n",
       "      <td>0</td>\n",
       "      <td>0</td>\n",
       "      <td>0</td>\n",
       "      <td>0</td>\n",
       "      <td>0</td>\n",
       "      <td>0</td>\n",
       "      <td>0</td>\n",
       "      <td>0</td>\n",
       "      <td>0</td>\n",
       "      <td>0</td>\n",
       "      <td>0</td>\n",
       "      <td>0</td>\n",
       "      <td>0</td>\n",
       "      <td>0</td>\n",
       "      <td>0</td>\n",
       "      <td>0</td>\n",
       "      <td>0</td>\n",
       "      <td>0</td>\n",
       "      <td>0</td>\n",
       "      <td>0</td>\n",
       "      <td>0</td>\n",
       "      <td>0</td>\n",
       "      <td>0</td>\n",
       "      <td>0</td>\n",
       "      <td>0</td>\n",
       "      <td>0</td>\n",
       "      <td>0</td>\n",
       "      <td>0</td>\n",
       "      <td>0</td>\n",
       "      <td>0</td>\n",
       "      <td>...</td>\n",
       "      <td>0</td>\n",
       "      <td>0</td>\n",
       "      <td>0</td>\n",
       "      <td>0</td>\n",
       "      <td>0</td>\n",
       "      <td>0</td>\n",
       "      <td>0</td>\n",
       "      <td>-1.44538</td>\n",
       "      <td>1.68904</td>\n",
       "      <td>-1.99270</td>\n",
       "      <td>2.32601</td>\n",
       "      <td>-2.71978</td>\n",
       "      <td>3.11183</td>\n",
       "      <td>-3.52755</td>\n",
       "      <td>3.96196</td>\n",
       "      <td>-0.826680</td>\n",
       "      <td>1.46749</td>\n",
       "      <td>-1.67655</td>\n",
       "      <td>2.26948</td>\n",
       "      <td>-2.53536</td>\n",
       "      <td>3.13989</td>\n",
       "      <td>-3.39862</td>\n",
       "      <td>4.03395</td>\n",
       "      <td>-0.844968</td>\n",
       "      <td>1.164190</td>\n",
       "      <td>-1.61725</td>\n",
       "      <td>2.06286</td>\n",
       "      <td>-2.46200</td>\n",
       "      <td>2.97568</td>\n",
       "      <td>-3.32200</td>\n",
       "      <td>3.89328</td>\n",
       "      <td>3.253</td>\n",
       "      <td>50.68</td>\n",
       "      <td>1</td>\n",
       "      <td>1</td>\n",
       "      <td>0</td>\n",
       "      <td>225.251</td>\n",
       "      <td>1</td>\n",
       "      <td>0</td>\n",
       "      <td>Active</td>\n",
       "    </tr>\n",
       "    <tr>\n",
       "      <th>4</th>\n",
       "      <td>0</td>\n",
       "      <td>0</td>\n",
       "      <td>0</td>\n",
       "      <td>0</td>\n",
       "      <td>0</td>\n",
       "      <td>0</td>\n",
       "      <td>0</td>\n",
       "      <td>0</td>\n",
       "      <td>0</td>\n",
       "      <td>0</td>\n",
       "      <td>0</td>\n",
       "      <td>0</td>\n",
       "      <td>0</td>\n",
       "      <td>0</td>\n",
       "      <td>0</td>\n",
       "      <td>0</td>\n",
       "      <td>0</td>\n",
       "      <td>0</td>\n",
       "      <td>0</td>\n",
       "      <td>0</td>\n",
       "      <td>0</td>\n",
       "      <td>0</td>\n",
       "      <td>0</td>\n",
       "      <td>0</td>\n",
       "      <td>0</td>\n",
       "      <td>0</td>\n",
       "      <td>0</td>\n",
       "      <td>0</td>\n",
       "      <td>0</td>\n",
       "      <td>0</td>\n",
       "      <td>0</td>\n",
       "      <td>0</td>\n",
       "      <td>0</td>\n",
       "      <td>0</td>\n",
       "      <td>0</td>\n",
       "      <td>0</td>\n",
       "      <td>0</td>\n",
       "      <td>0</td>\n",
       "      <td>0</td>\n",
       "      <td>0</td>\n",
       "      <td>...</td>\n",
       "      <td>0</td>\n",
       "      <td>0</td>\n",
       "      <td>0</td>\n",
       "      <td>0</td>\n",
       "      <td>0</td>\n",
       "      <td>0</td>\n",
       "      <td>0</td>\n",
       "      <td>-2.15168</td>\n",
       "      <td>1.79066</td>\n",
       "      <td>-2.29648</td>\n",
       "      <td>2.48068</td>\n",
       "      <td>-2.62344</td>\n",
       "      <td>3.34892</td>\n",
       "      <td>-3.17414</td>\n",
       "      <td>4.23416</td>\n",
       "      <td>-0.796108</td>\n",
       "      <td>1.51132</td>\n",
       "      <td>-1.62877</td>\n",
       "      <td>2.26744</td>\n",
       "      <td>-2.47121</td>\n",
       "      <td>3.11067</td>\n",
       "      <td>-3.31755</td>\n",
       "      <td>3.99027</td>\n",
       "      <td>-0.858186</td>\n",
       "      <td>0.992299</td>\n",
       "      <td>-1.67498</td>\n",
       "      <td>1.89483</td>\n",
       "      <td>-2.51920</td>\n",
       "      <td>2.80594</td>\n",
       "      <td>-3.36762</td>\n",
       "      <td>3.71921</td>\n",
       "      <td>0.949</td>\n",
       "      <td>120.62</td>\n",
       "      <td>6</td>\n",
       "      <td>6</td>\n",
       "      <td>1</td>\n",
       "      <td>293.235</td>\n",
       "      <td>0</td>\n",
       "      <td>0</td>\n",
       "      <td>Active</td>\n",
       "    </tr>\n",
       "  </tbody>\n",
       "</table>\n",
       "<p>5 rows × 155 columns</p>\n",
       "</div>"
      ],
      "text/plain": [
       "   NEG_01_NEG  NEG_02_NEG  NEG_03_NEG  ...  BBB  BadGroup  Outcome\n",
       "0           0           0           0  ...    1         0   Active\n",
       "1           0           0           0  ...    0         0   Active\n",
       "2           0           0           0  ...    0         0   Active\n",
       "3           0           0           0  ...    1         0   Active\n",
       "4           0           0           0  ...    0         0   Active\n",
       "\n",
       "[5 rows x 155 columns]"
      ]
     },
     "execution_count": 9,
     "metadata": {
      "tags": []
     },
     "output_type": "execute_result"
    }
   ],
   "source": [
    "test_data.head()"
   ]
  },
  {
   "cell_type": "markdown",
   "metadata": {
    "colab_type": "text",
    "id": "xconmhNWTsQj"
   },
   "source": [
    "## Data Preparation"
   ]
  },
  {
   "cell_type": "markdown",
   "metadata": {
    "colab_type": "text",
    "id": "Kb6j9av57YVB"
   },
   "source": [
    "In order to preprocess the data, I have written a function which can apply normalization, dimensionality reduction with pca and resampling which is used for data balancing (augmenting the active clas so that the model captures both classes well). I have not used dimensionality reduction in any of the final models as it did not give a higher roc-auc score compared to the original feature size. "
   ]
  },
  {
   "cell_type": "code",
   "execution_count": 2,
   "metadata": {
    "colab": {},
    "colab_type": "code",
    "executionInfo": {
     "elapsed": 1041,
     "status": "ok",
     "timestamp": 1595496384899,
     "user": {
      "displayName": "Yasamin Tabatabaee",
      "photoUrl": "",
      "userId": "07445355406834081164"
     },
     "user_tz": -270
    },
    "id": "soAmKn0yassU"
   },
   "outputs": [],
   "source": [
    "def prepare_data(file_path, normalization=False, balance=False, dim_reduction=False):\n",
    "    # reading data from csv to dataframe\n",
    "    data = pd.read_csv(file_path)\n",
    "\n",
    "    # balancing the data\n",
    "    if balance:\n",
    "        active = data[data.Outcome=='Active']\n",
    "        inactive = data[data.Outcome=='Inactive']\n",
    "        active_balanced = resample(active, replace=True, n_samples=len(inactive), random_state=27)\n",
    "        data = pd.concat([active_balanced, inactive])\n",
    "    \n",
    "    # building x and y\n",
    "    X = data.drop(['Outcome'], axis=1).to_numpy()\n",
    "    y = data['Outcome']\n",
    "    y = np.where(y.values == 'Active', 1, 0)\n",
    "\n",
    "    # normalizaition\n",
    "    if normalization:\n",
    "        X = normalize(X)\n",
    "\n",
    "    # dimensionality reduction\n",
    "    if dim_reduction:\n",
    "        pca = TruncatedSVD(n_components=20, random_state=42)\n",
    "        X = pca.fit_transform(X)\n",
    "\n",
    "    return X, y  "
   ]
  },
  {
   "cell_type": "markdown",
   "metadata": {
    "colab_type": "text",
    "id": "3dGiMrMZ88sD"
   },
   "source": [
    "Below you can see the function which plots roc-curve."
   ]
  },
  {
   "cell_type": "code",
   "execution_count": 3,
   "metadata": {
    "colab": {},
    "colab_type": "code",
    "executionInfo": {
     "elapsed": 958,
     "status": "ok",
     "timestamp": 1595492298611,
     "user": {
      "displayName": "Yasamin Tabatabaee",
      "photoUrl": "",
      "userId": "07445355406834081164"
     },
     "user_tz": -270
    },
    "id": "Uq_eGXhBPGuM"
   },
   "outputs": [],
   "source": [
    "def plot_roc_curve(y_test, y_preds):\n",
    "    fpr, tpr, _ = roc_curve(y_test, y_preds)\n",
    "    plt.plot(fpr, tpr)\n",
    "    plt.xlabel('False Positive Rate')\n",
    "    plt.ylabel('True Positive Rate')\n",
    "    plt.show()"
   ]
  },
  {
   "cell_type": "markdown",
   "metadata": {
    "colab_type": "text",
    "id": "d-Zrjo1Tyq9C"
   },
   "source": [
    "## Classifiers"
   ]
  },
  {
   "cell_type": "markdown",
   "metadata": {
    "colab_type": "text",
    "id": "3i-IbgyB87cg"
   },
   "source": [
    "I have tested a Perceptron, Random Forest and Xgboost classifiers with hyperparameter tuning as needed and below you can see the roc-score and roc-curves of these models. I have choosed Perceptron with resampling as my final model due to its higher roc-score. \n",
    "\n",
    " I have also applied dimensionality reduction with TruncatedSVD function on the data at early stages of implementing the classifiers but I couldn't achieve a higher roc-score so I omitted it in the final models below (dim-reduction flag is always false). "
   ]
  },
  {
   "cell_type": "markdown",
   "metadata": {
    "colab_type": "text",
    "id": "adXJjFWDygNE"
   },
   "source": [
    "### Perceptron"
   ]
  },
  {
   "cell_type": "code",
   "execution_count": 9,
   "metadata": {
    "colab": {
     "base_uri": "https://localhost:8080/",
     "height": 296
    },
    "colab_type": "code",
    "executionInfo": {
     "elapsed": 8461,
     "status": "ok",
     "timestamp": 1595492311153,
     "user": {
      "displayName": "Yasamin Tabatabaee",
      "photoUrl": "",
      "userId": "07445355406834081164"
     },
     "user_tz": -270
    },
    "id": "SryRScxWRzyO",
    "outputId": "162251c4-1e50-4e61-eb1a-cc366e897f60"
   },
   "outputs": [
    {
     "name": "stdout",
     "output_type": "stream",
     "text": [
      "roc score =  0.8232879723437843\n"
     ]
    },
    {
     "data": {
      "image/png": "[encoded data removed]",
      "text/plain": [
       "<Figure size 432x288 with 1 Axes>"
      ]
     },
     "metadata": {
      "needs_background": "light",
      "tags": []
     },
     "output_type": "display_data"
    }
   ],
   "source": [
    "X_train, y_train = prepare_data('AID604red_train.csv', normalization=True, balance=True, dim_reduction=False)\n",
    "X_test, y_test = prepare_data('AID604red_test.csv', normalization=True, balance=False, dim_reduction=False)\n",
    "\n",
    "clf = Perceptron()\n",
    "clf_isotonic = CalibratedClassifierCV(clf, cv=5, method='isotonic')\n",
    "clf_isotonic.fit(X_train, y_train)\n",
    "y_preds = clf_isotonic.predict_proba(X_test)\n",
    "print(\"roc score = \", roc_auc_score(y_test, y_preds[:, 1]))\n",
    "plot_roc_curve(y_test, y_preds[:, 1])"
   ]
  },
  {
   "cell_type": "code",
   "execution_count": 41,
   "metadata": {
    "colab": {
     "base_uri": "https://localhost:8080/",
     "height": 137
    },
    "colab_type": "code",
    "executionInfo": {
     "elapsed": 1098,
     "status": "ok",
     "timestamp": 1595498633226,
     "user": {
      "displayName": "Yasamin Tabatabaee",
      "photoUrl": "",
      "userId": "07445355406834081164"
     },
     "user_tz": -270
    },
    "id": "KbgAcQAaHNCo",
    "outputId": "0935eabd-403a-45cd-f442-26c51cb57d7b"
   },
   "outputs": [
    {
     "data": {
      "text/plain": [
       "array([[0.07814524, 0.92185476],\n",
       "       [0.10393015, 0.89606985],\n",
       "       [0.47857129, 0.52142871],\n",
       "       ...,\n",
       "       [0.84743328, 0.15256672],\n",
       "       [0.86297946, 0.13702054],\n",
       "       [0.37525815, 0.62474185]])"
      ]
     },
     "execution_count": 41,
     "metadata": {
      "tags": []
     },
     "output_type": "execute_result"
    }
   ],
   "source": [
    "y_preds"
   ]
  },
  {
   "cell_type": "markdown",
   "metadata": {
    "colab_type": "text",
    "id": "LCi93Sggy0y2"
   },
   "source": [
    "### Random Forest"
   ]
  },
  {
   "cell_type": "code",
   "execution_count": 21,
   "metadata": {
    "colab": {
     "base_uri": "https://localhost:8080/",
     "height": 34
    },
    "colab_type": "code",
    "executionInfo": {
     "elapsed": 1086008,
     "status": "ok",
     "timestamp": 1595495993778,
     "user": {
      "displayName": "Yasamin Tabatabaee",
      "photoUrl": "",
      "userId": "07445355406834081164"
     },
     "user_tz": -270
    },
    "id": "vHFf3wq50Cjp",
    "outputId": "173e2752-1ee6-4184-9264-8535b7c666b9"
   },
   "outputs": [
    {
     "name": "stdout",
     "output_type": "stream",
     "text": [
      "Best params =  {'max_depth': 6, 'n_estimators': 400}\n"
     ]
    }
   ],
   "source": [
    "# Hyper parameter Tuning\n",
    "X_train, y_train = prepare_data('AID604red_train.csv', normalization=True, balance=False, dim_reduction=False)\n",
    "X_test, y_test = prepare_data('AID604red_test.csv', normalization=True, balance=False, dim_reduction=False)\n",
    "\n",
    "n_estimators = [200, 300, 400]\n",
    "max_depth = [5, 6, 7]\n",
    "params = {'n_estimators': n_estimators, 'max_depth': max_depth}\n",
    "\n",
    "random_forest = RandomForestClassifier(class_weight = \"balanced\")\n",
    "best_model = GridSearchCV(estimator = random_forest, param_grid = params, cv = 5, scoring='roc_auc')\n",
    "best_model.fit(X_train, y_train)\n",
    "print(\"Best params = \", best_model.best_params_)"
   ]
  },
  {
   "cell_type": "code",
   "execution_count": 19,
   "metadata": {
    "colab": {
     "base_uri": "https://localhost:8080/",
     "height": 296
    },
    "colab_type": "code",
    "executionInfo": {
     "elapsed": 37451,
     "status": "ok",
     "timestamp": 1595494474673,
     "user": {
      "displayName": "Yasamin Tabatabaee",
      "photoUrl": "",
      "userId": "07445355406834081164"
     },
     "user_tz": -270
    },
    "id": "c0f8oMz34Nqk",
    "outputId": "72b7b6dc-9906-4efa-ccbb-db5c56727939"
   },
   "outputs": [
    {
     "name": "stdout",
     "output_type": "stream",
     "text": [
      "0.8103890654037528\n"
     ]
    },
    {
     "data": {
      "image/png": "[encoded data removed]",
      "text/plain": [
       "<Figure size 432x288 with 1 Axes>"
      ]
     },
     "metadata": {
      "needs_background": "light",
      "tags": []
     },
     "output_type": "display_data"
    }
   ],
   "source": [
    "# Best params\n",
    "X_train, y_train = prepare_data('AID604red_train.csv', normalization=True, balance=False, dim_reduction=False)\n",
    "X_test, y_test = prepare_data('AID604red_test.csv', normalization=True, balance=False, dim_reduction=False)\n",
    "\n",
    "clf = RandomForestClassifier(n_estimators = 400, max_depth = 6, class_weight = \"balanced\")\n",
    "clf = clf.fit(X_train, y_train)\n",
    "y_preds = clf.predict_proba(X_test)\n",
    "print(roc_auc_score(y_test, y_preds[:, 1]))\n",
    "plot_roc_curve(y_test, y_preds[:, 1])"
   ]
  },
  {
   "cell_type": "markdown",
   "metadata": {
    "colab_type": "text",
    "id": "Ar2uQn-Pyu64"
   },
   "source": [
    "### Xgboost"
   ]
  },
  {
   "cell_type": "code",
   "execution_count": 46,
   "metadata": {
    "colab": {
     "base_uri": "https://localhost:8080/",
     "height": 34
    },
    "colab_type": "code",
    "executionInfo": {
     "elapsed": 534806,
     "status": "ok",
     "timestamp": 1595499501962,
     "user": {
      "displayName": "Yasamin Tabatabaee",
      "photoUrl": "",
      "userId": "07445355406834081164"
     },
     "user_tz": -270
    },
    "id": "wo23ndsfwLR3",
    "outputId": "b8adcc62-b275-47de-eca7-f7bf83fbff78"
   },
   "outputs": [
    {
     "name": "stdout",
     "output_type": "stream",
     "text": [
      "Best params =  {'max_depth': 8, 'n_estimators': 200}\n"
     ]
    }
   ],
   "source": [
    "n_estimators = [100, 200, 300]\n",
    "max_depth = [6, 7, 8, 9]\n",
    "\n",
    "X_train, y_train = prepare_data('AID604red_train.csv', normalization=True, balance=False, dim_reduction=False)\n",
    "X_test, y_test = prepare_data('AID604red_test.csv', normalization=True, balance=False, dim_reduction=False)\n",
    "\n",
    "params = {'n_estimators': n_estimators, \n",
    "          'max_depth': max_depth}\n",
    "\n",
    "best_model = xgboost.XGBClassifier()\n",
    "best_model = GridSearchCV(estimator = best_model, param_grid = params, cv = 5, scoring='roc_auc')\n",
    "best_model.fit(X_train, y_train)\n",
    "print(\"Best params = \", best_model.best_params_)"
   ]
  },
  {
   "cell_type": "code",
   "execution_count": 6,
   "metadata": {
    "colab": {},
    "colab_type": "code",
    "id": "pbVlTj3DBCvw"
   },
   "outputs": [
    {
     "name": "stdout",
     "output_type": "stream",
     "text": [
      "roc score =  0.8019812960853666\n"
     ]
    },
    {
     "data": {
      "image/png": "[encoded data removed]",
      "text/plain": [
       "<Figure size 432x288 with 1 Axes>"
      ]
     },
     "metadata": {
      "needs_background": "light"
     },
     "output_type": "display_data"
    }
   ],
   "source": [
    "X_train, y_train = prepare_data('AID604red_train.csv', normalization=True, balance=False, dim_reduction=False)\n",
    "X_test, y_test = prepare_data('AID604red_test.csv', normalization=True, balance=False, dim_reduction=False)\n",
    "\n",
    "model = xgboost.XGBClassifier(max_depth = 8, n_estimators = 200, learning_rate = 0.1)\n",
    "model.fit(X_train, y_train)\n",
    "y_preds = model.predict_proba(X_test) \n",
    "print(\"roc score = \", roc_auc_score(y_test, y_preds[:, 1]))\n",
    "plot_roc_curve(y_test, y_preds[:, 1])"
   ]
  },
  {
   "cell_type": "code",
   "execution_count": 38,
   "metadata": {
    "colab": {
     "base_uri": "https://localhost:8080/",
     "height": 137
    },
    "colab_type": "code",
    "executionInfo": {
     "elapsed": 951,
     "status": "ok",
     "timestamp": 1595498236716,
     "user": {
      "displayName": "Yasamin Tabatabaee",
      "photoUrl": "",
      "userId": "07445355406834081164"
     },
     "user_tz": -270
    },
    "id": "einREnZvGl5J",
    "outputId": "6445f236-ac0a-40ae-e3de-cc82d4516a63"
   },
   "outputs": [
    {
     "data": {
      "text/plain": [
       "array([[8.97246268e-01, 1.02753732e-01],\n",
       "       [9.62756066e-01, 3.72439335e-02],\n",
       "       [9.94206967e-01, 5.79303334e-03],\n",
       "       ...,\n",
       "       [9.98905737e-01, 1.09426305e-03],\n",
       "       [9.99080086e-01, 9.19913771e-04],\n",
       "       [9.95700302e-01, 4.29969812e-03]])"
      ]
     },
     "execution_count": 38,
     "metadata": {
      "tags": []
     },
     "output_type": "execute_result"
    }
   ],
   "source": [
    "y_preds"
   ]
  },
  {
   "cell_type": "markdown",
   "metadata": {
    "colab_type": "text",
    "id": "GQfSPK88rfxc"
   },
   "source": [
    "## Training"
   ]
  },
  {
   "cell_type": "code",
   "execution_count": 49,
   "metadata": {
    "colab": {},
    "colab_type": "code",
    "executionInfo": {
     "elapsed": 972,
     "status": "ok",
     "timestamp": 1595500899237,
     "user": {
      "displayName": "Yasamin Tabatabaee",
      "photoUrl": "",
      "userId": "07445355406834081164"
     },
     "user_tz": -270
    },
    "id": "NJyS92LhTUtu"
   },
   "outputs": [],
   "source": [
    "# This function takes a csv file as input and returns a trained model as output\n",
    "def train_assay(file_path):\n",
    "    X_train, y_train = prepare_data(file_path, normalization=True, balance=True, dim_reduction=False)\n",
    "    clf = Perceptron()\n",
    "    clf_isotonic = CalibratedClassifierCV(clf, cv=5, method='isotonic')\n",
    "    clf_isotonic.fit(X_train, y_train)\n",
    "    y_preds = clf_isotonic.predict_proba(X_test)\n",
    "    return clf_isotonic"
   ]
  },
  {
   "cell_type": "markdown",
   "metadata": {
    "colab_type": "text",
    "id": "dW80wf_HrhTz"
   },
   "source": [
    "## Test"
   ]
  },
  {
   "cell_type": "code",
   "execution_count": 50,
   "metadata": {
    "colab": {},
    "colab_type": "code",
    "executionInfo": {
     "elapsed": 532,
     "status": "ok",
     "timestamp": 1595500904597,
     "user": {
      "displayName": "Yasamin Tabatabaee",
      "photoUrl": "",
      "userId": "07445355406834081164"
     },
     "user_tz": -270
    },
    "id": "QPEGEoNDTZjd"
   },
   "outputs": [],
   "source": [
    "# This function takes a model and a test csv file as input and returns the predictions as output\n",
    "def test_assay(model, file_path):\n",
    "    X_test, _ = prepare_data(file_path, normalization=True, balance=False, dim_reduction=False)\n",
    "    predicts = model.predict_proba(X_test) \n",
    "    return predicts"
   ]
  },
  {
   "cell_type": "code",
   "execution_count": 51,
   "metadata": {
    "colab": {},
    "colab_type": "code",
    "executionInfo": {
     "elapsed": 6826,
     "status": "ok",
     "timestamp": 1595501016964,
     "user": {
      "displayName": "Yasamin Tabatabaee",
      "photoUrl": "",
      "userId": "07445355406834081164"
     },
     "user_tz": -270
    },
    "id": "WE5hk7VeQ8kK"
   },
   "outputs": [],
   "source": [
    "y_preds = test_assay(train_assay('AID604red_train.csv'), 'AID604red_test.csv')"
   ]
  },
  {
   "cell_type": "code",
   "execution_count": 52,
   "metadata": {
    "colab": {
     "base_uri": "https://localhost:8080/",
     "height": 34
    },
    "colab_type": "code",
    "executionInfo": {
     "elapsed": 1009,
     "status": "ok",
     "timestamp": 1595501029566,
     "user": {
      "displayName": "Yasamin Tabatabaee",
      "photoUrl": "",
      "userId": "07445355406834081164"
     },
     "user_tz": -270
    },
    "id": "j1hYuwYRRWbK",
    "outputId": "cfd38bd2-0bc9-4e5d-e6e6-6b44362d4df6"
   },
   "outputs": [
    {
     "name": "stdout",
     "output_type": "stream",
     "text": [
      "roc score =  0.8232879723437843\n"
     ]
    }
   ],
   "source": [
    "print(\"roc score = \", roc_auc_score(y_test, y_preds[:, 1]))"
   ]
  }
 ],
 "metadata": {
  "colab": {
   "authorship_tag": "ABX9TyNN71cMuIuABo1oXvXvZDCp",
   "collapsed_sections": [],
   "name": "Final",
   "provenance": [],
   "toc_visible": true
  },
  "kernelspec": {
   "display_name": "Python 3",
   "language": "python",
   "name": "python3"
  },
  "language_info": {
   "codemirror_mode": {
    "name": "ipython",
    "version": 3
   },
   "file_extension": ".py",
   "mimetype": "text/x-python",
   "name": "python",
   "nbconvert_exporter": "python",
   "pygments_lexer": "ipython3",
   "version": "3.7.5rc1"
  }
 },
 "nbformat": 4,
 "nbformat_minor": 1
}
