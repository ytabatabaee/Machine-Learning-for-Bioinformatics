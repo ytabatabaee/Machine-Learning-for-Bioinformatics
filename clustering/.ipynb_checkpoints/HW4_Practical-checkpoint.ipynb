{
 "cells": [
  {
   "cell_type": "markdown",
   "metadata": {
    "colab_type": "text",
    "id": "uvXSx2_9qxMn"
   },
   "source": [
    "#  Machine Learning for Bioinformatics\n",
    "## Practical Homework No.4 (100 points)"
   ]
  },
  {
   "cell_type": "markdown",
   "metadata": {
    "colab_type": "text",
    "id": "kXhZtIIaq69Y"
   },
   "source": [
    "#### Name: Yasamin Tabatabaee\n",
    "#### Student No.:  95104866\n"
   ]
  },
  {
   "cell_type": "markdown",
   "metadata": {
    "colab_type": "text",
    "id": "OTQVem0I8SgS"
   },
   "source": [
    "## Imports"
   ]
  },
  {
   "cell_type": "markdown",
   "metadata": {
    "colab_type": "text",
    "id": "JgyrjEtdKY4k"
   },
   "source": [
    "run below cell to import necessary libraries. You are only allowed to use these libraries"
   ]
  },
  {
   "cell_type": "code",
   "execution_count": 1,
   "metadata": {
    "colab": {},
    "colab_type": "code",
    "id": "X4CELfLm8UpR"
   },
   "outputs": [],
   "source": [
    "import pandas as pd\n",
    "import numpy as np\n",
    "import matplotlib.pyplot as plt\n",
    "%matplotlib inline\n",
    "import seaborn as sns\n",
    "from sklearn.manifold import TSNE\n",
    "from sklearn.decomposition import PCA\n",
    "\n",
    "sns.set(rc={'figure.figsize':(11.7,8.27)})\n",
    "palette = sns.color_palette(\"bright\", 2)"
   ]
  },
  {
   "cell_type": "markdown",
   "metadata": {
    "colab_type": "text",
    "id": "hVgBVxJ4rqw3"
   },
   "source": [
    "## Dataset (10 points)"
   ]
  },
  {
   "cell_type": "markdown",
   "metadata": {
    "colab_type": "text",
    "id": "gSsTXPNcKPl-"
   },
   "source": [
    "This dataset comes from a proof-of-concept study published in 1999 by Golub et al. It showed how new cases of cancer could be classified by gene expression monitoring (via DNA microarray) and thereby provided a general approach for identifying new cancer classes and assigning tumors to known classes. These data were used to classify patients with acute myeloid leukemia (AML) and acute lymphoblastic leukemia (ALL)."
   ]
  },
  {
   "cell_type": "code",
   "execution_count": 2,
   "metadata": {
    "colab": {},
    "colab_type": "code",
    "id": "ICKMn_n9rtkv"
   },
   "outputs": [
    {
     "data": {
      "text/html": [
       "<div>\n",
       "<style scoped>\n",
       "    .dataframe tbody tr th:only-of-type {\n",
       "        vertical-align: middle;\n",
       "    }\n",
       "\n",
       "    .dataframe tbody tr th {\n",
       "        vertical-align: top;\n",
       "    }\n",
       "\n",
       "    .dataframe thead th {\n",
       "        text-align: right;\n",
       "    }\n",
       "</style>\n",
       "<table border=\"1\" class=\"dataframe\">\n",
       "  <thead>\n",
       "    <tr style=\"text-align: right;\">\n",
       "      <th></th>\n",
       "      <th>Gene Description</th>\n",
       "      <th>Gene Accession Number</th>\n",
       "      <th>1</th>\n",
       "      <th>2</th>\n",
       "      <th>3</th>\n",
       "      <th>4</th>\n",
       "      <th>5</th>\n",
       "      <th>6</th>\n",
       "      <th>7</th>\n",
       "      <th>8</th>\n",
       "      <th>...</th>\n",
       "      <th>57</th>\n",
       "      <th>58</th>\n",
       "      <th>60</th>\n",
       "      <th>61</th>\n",
       "      <th>65</th>\n",
       "      <th>66</th>\n",
       "      <th>63</th>\n",
       "      <th>64</th>\n",
       "      <th>62</th>\n",
       "      <th>72</th>\n",
       "    </tr>\n",
       "  </thead>\n",
       "  <tbody>\n",
       "    <tr>\n",
       "      <th>0</th>\n",
       "      <td>AFFX-BioB-5_at (endogenous control)</td>\n",
       "      <td>AFFX-BioB-5_at</td>\n",
       "      <td>-214</td>\n",
       "      <td>-139</td>\n",
       "      <td>-76</td>\n",
       "      <td>-135</td>\n",
       "      <td>-106</td>\n",
       "      <td>-138</td>\n",
       "      <td>-72</td>\n",
       "      <td>-413</td>\n",
       "      <td>...</td>\n",
       "      <td>-137</td>\n",
       "      <td>-157</td>\n",
       "      <td>-172</td>\n",
       "      <td>-47</td>\n",
       "      <td>-62</td>\n",
       "      <td>-58</td>\n",
       "      <td>-161</td>\n",
       "      <td>-48</td>\n",
       "      <td>-176</td>\n",
       "      <td>-131</td>\n",
       "    </tr>\n",
       "    <tr>\n",
       "      <th>1</th>\n",
       "      <td>AFFX-BioB-M_at (endogenous control)</td>\n",
       "      <td>AFFX-BioB-M_at</td>\n",
       "      <td>-153</td>\n",
       "      <td>-73</td>\n",
       "      <td>-49</td>\n",
       "      <td>-114</td>\n",
       "      <td>-125</td>\n",
       "      <td>-85</td>\n",
       "      <td>-144</td>\n",
       "      <td>-260</td>\n",
       "      <td>...</td>\n",
       "      <td>-51</td>\n",
       "      <td>-370</td>\n",
       "      <td>-122</td>\n",
       "      <td>-442</td>\n",
       "      <td>-198</td>\n",
       "      <td>-217</td>\n",
       "      <td>-215</td>\n",
       "      <td>-531</td>\n",
       "      <td>-284</td>\n",
       "      <td>-126</td>\n",
       "    </tr>\n",
       "    <tr>\n",
       "      <th>2</th>\n",
       "      <td>AFFX-BioB-3_at (endogenous control)</td>\n",
       "      <td>AFFX-BioB-3_at</td>\n",
       "      <td>-58</td>\n",
       "      <td>-1</td>\n",
       "      <td>-307</td>\n",
       "      <td>265</td>\n",
       "      <td>-76</td>\n",
       "      <td>215</td>\n",
       "      <td>238</td>\n",
       "      <td>7</td>\n",
       "      <td>...</td>\n",
       "      <td>-82</td>\n",
       "      <td>-77</td>\n",
       "      <td>38</td>\n",
       "      <td>-21</td>\n",
       "      <td>-5</td>\n",
       "      <td>63</td>\n",
       "      <td>-46</td>\n",
       "      <td>-124</td>\n",
       "      <td>-81</td>\n",
       "      <td>-50</td>\n",
       "    </tr>\n",
       "    <tr>\n",
       "      <th>3</th>\n",
       "      <td>AFFX-BioC-5_at (endogenous control)</td>\n",
       "      <td>AFFX-BioC-5_at</td>\n",
       "      <td>88</td>\n",
       "      <td>283</td>\n",
       "      <td>309</td>\n",
       "      <td>12</td>\n",
       "      <td>168</td>\n",
       "      <td>71</td>\n",
       "      <td>55</td>\n",
       "      <td>-2</td>\n",
       "      <td>...</td>\n",
       "      <td>178</td>\n",
       "      <td>340</td>\n",
       "      <td>31</td>\n",
       "      <td>396</td>\n",
       "      <td>141</td>\n",
       "      <td>95</td>\n",
       "      <td>146</td>\n",
       "      <td>431</td>\n",
       "      <td>9</td>\n",
       "      <td>211</td>\n",
       "    </tr>\n",
       "    <tr>\n",
       "      <th>4</th>\n",
       "      <td>AFFX-BioC-3_at (endogenous control)</td>\n",
       "      <td>AFFX-BioC-3_at</td>\n",
       "      <td>-295</td>\n",
       "      <td>-264</td>\n",
       "      <td>-376</td>\n",
       "      <td>-419</td>\n",
       "      <td>-230</td>\n",
       "      <td>-272</td>\n",
       "      <td>-399</td>\n",
       "      <td>-541</td>\n",
       "      <td>...</td>\n",
       "      <td>-135</td>\n",
       "      <td>-438</td>\n",
       "      <td>-201</td>\n",
       "      <td>-351</td>\n",
       "      <td>-256</td>\n",
       "      <td>-191</td>\n",
       "      <td>-172</td>\n",
       "      <td>-496</td>\n",
       "      <td>-294</td>\n",
       "      <td>-206</td>\n",
       "    </tr>\n",
       "  </tbody>\n",
       "</table>\n",
       "<p>5 rows × 74 columns</p>\n",
       "</div>"
      ],
      "text/plain": [
       "                      Gene Description Gene Accession Number    1    2    3  \\\n",
       "0  AFFX-BioB-5_at (endogenous control)        AFFX-BioB-5_at -214 -139  -76   \n",
       "1  AFFX-BioB-M_at (endogenous control)        AFFX-BioB-M_at -153  -73  -49   \n",
       "2  AFFX-BioB-3_at (endogenous control)        AFFX-BioB-3_at  -58   -1 -307   \n",
       "3  AFFX-BioC-5_at (endogenous control)        AFFX-BioC-5_at   88  283  309   \n",
       "4  AFFX-BioC-3_at (endogenous control)        AFFX-BioC-3_at -295 -264 -376   \n",
       "\n",
       "     4    5    6    7    8  ...   57   58   60   61   65   66   63   64   62  \\\n",
       "0 -135 -106 -138  -72 -413  ... -137 -157 -172  -47  -62  -58 -161  -48 -176   \n",
       "1 -114 -125  -85 -144 -260  ...  -51 -370 -122 -442 -198 -217 -215 -531 -284   \n",
       "2  265  -76  215  238    7  ...  -82  -77   38  -21   -5   63  -46 -124  -81   \n",
       "3   12  168   71   55   -2  ...  178  340   31  396  141   95  146  431    9   \n",
       "4 -419 -230 -272 -399 -541  ... -135 -438 -201 -351 -256 -191 -172 -496 -294   \n",
       "\n",
       "    72  \n",
       "0 -131  \n",
       "1 -126  \n",
       "2  -50  \n",
       "3  211  \n",
       "4 -206  \n",
       "\n",
       "[5 rows x 74 columns]"
      ]
     },
     "execution_count": 2,
     "metadata": {},
     "output_type": "execute_result"
    }
   ],
   "source": [
    "#####################################################################################\n",
    "#                          COMPLETE THE FOLLOWING SECTION                           #\n",
    "#####################################################################################\n",
    "# load all data using pandas. \n",
    "# DataSet.csv as train dataset.\n",
    "# labels.csv as data labels.\n",
    "##################################################################################### \n",
    "Train_Data = pd.read_csv(\"DataSet.csv\")\n",
    "labels = pd.read_csv(\"Labels.csv\")\n",
    "####################################################################################\n",
    "#                                   THE END                                        #\n",
    "####################################################################################  \n",
    "Train_Data.head()"
   ]
  },
  {
   "cell_type": "code",
   "execution_count": 3,
   "metadata": {},
   "outputs": [
    {
     "data": {
      "text/html": [
       "<div>\n",
       "<style scoped>\n",
       "    .dataframe tbody tr th:only-of-type {\n",
       "        vertical-align: middle;\n",
       "    }\n",
       "\n",
       "    .dataframe tbody tr th {\n",
       "        vertical-align: top;\n",
       "    }\n",
       "\n",
       "    .dataframe thead th {\n",
       "        text-align: right;\n",
       "    }\n",
       "</style>\n",
       "<table border=\"1\" class=\"dataframe\">\n",
       "  <thead>\n",
       "    <tr style=\"text-align: right;\">\n",
       "      <th></th>\n",
       "      <th>patient</th>\n",
       "      <th>cancer</th>\n",
       "    </tr>\n",
       "  </thead>\n",
       "  <tbody>\n",
       "    <tr>\n",
       "      <th>0</th>\n",
       "      <td>1</td>\n",
       "      <td>ALL</td>\n",
       "    </tr>\n",
       "    <tr>\n",
       "      <th>1</th>\n",
       "      <td>2</td>\n",
       "      <td>ALL</td>\n",
       "    </tr>\n",
       "    <tr>\n",
       "      <th>2</th>\n",
       "      <td>3</td>\n",
       "      <td>ALL</td>\n",
       "    </tr>\n",
       "    <tr>\n",
       "      <th>3</th>\n",
       "      <td>4</td>\n",
       "      <td>ALL</td>\n",
       "    </tr>\n",
       "    <tr>\n",
       "      <th>4</th>\n",
       "      <td>5</td>\n",
       "      <td>ALL</td>\n",
       "    </tr>\n",
       "    <tr>\n",
       "      <th>...</th>\n",
       "      <td>...</td>\n",
       "      <td>...</td>\n",
       "    </tr>\n",
       "    <tr>\n",
       "      <th>67</th>\n",
       "      <td>68</td>\n",
       "      <td>ALL</td>\n",
       "    </tr>\n",
       "    <tr>\n",
       "      <th>68</th>\n",
       "      <td>69</td>\n",
       "      <td>ALL</td>\n",
       "    </tr>\n",
       "    <tr>\n",
       "      <th>69</th>\n",
       "      <td>70</td>\n",
       "      <td>ALL</td>\n",
       "    </tr>\n",
       "    <tr>\n",
       "      <th>70</th>\n",
       "      <td>71</td>\n",
       "      <td>ALL</td>\n",
       "    </tr>\n",
       "    <tr>\n",
       "      <th>71</th>\n",
       "      <td>72</td>\n",
       "      <td>ALL</td>\n",
       "    </tr>\n",
       "  </tbody>\n",
       "</table>\n",
       "<p>72 rows × 2 columns</p>\n",
       "</div>"
      ],
      "text/plain": [
       "    patient cancer\n",
       "0         1    ALL\n",
       "1         2    ALL\n",
       "2         3    ALL\n",
       "3         4    ALL\n",
       "4         5    ALL\n",
       "..      ...    ...\n",
       "67       68    ALL\n",
       "68       69    ALL\n",
       "69       70    ALL\n",
       "70       71    ALL\n",
       "71       72    ALL\n",
       "\n",
       "[72 rows x 2 columns]"
      ]
     },
     "execution_count": 3,
     "metadata": {},
     "output_type": "execute_result"
    }
   ],
   "source": [
    "labels"
   ]
  },
  {
   "cell_type": "markdown",
   "metadata": {
    "colab_type": "text",
    "id": "yEVNpveEPL58"
   },
   "source": [
    "Here we go to pre process the data for pca analysis. do these steps one by one"
   ]
  },
  {
   "cell_type": "code",
   "execution_count": 4,
   "metadata": {
    "colab": {},
    "colab_type": "code",
    "id": "O5PpJg558njC"
   },
   "outputs": [],
   "source": [
    "#####################################################################################\n",
    "#                          COMPLETE THE FOLLOWING SECTION                           #\n",
    "#####################################################################################\n",
    "# Drop Gene Description and Gene Accession Number to have a numeric matrix.\n",
    "# the result should be stored in train variable.\n",
    "#####################################################################################\n",
    "train = Train_Data.drop(\"Gene Description\", axis=1).drop(\"Gene Accession Number\", axis=1)\n",
    "####################################################################################\n",
    "#                                   THE END                                        #\n",
    "####################################################################################  \n",
    "train.index = pd.to_numeric(train.index)\n",
    "train.sort_index(inplace=True)"
   ]
  },
  {
   "cell_type": "code",
   "execution_count": 5,
   "metadata": {},
   "outputs": [
    {
     "data": {
      "text/html": [
       "<div>\n",
       "<style scoped>\n",
       "    .dataframe tbody tr th:only-of-type {\n",
       "        vertical-align: middle;\n",
       "    }\n",
       "\n",
       "    .dataframe tbody tr th {\n",
       "        vertical-align: top;\n",
       "    }\n",
       "\n",
       "    .dataframe thead th {\n",
       "        text-align: right;\n",
       "    }\n",
       "</style>\n",
       "<table border=\"1\" class=\"dataframe\">\n",
       "  <thead>\n",
       "    <tr style=\"text-align: right;\">\n",
       "      <th></th>\n",
       "      <th>1</th>\n",
       "      <th>2</th>\n",
       "      <th>3</th>\n",
       "      <th>4</th>\n",
       "      <th>5</th>\n",
       "      <th>6</th>\n",
       "      <th>7</th>\n",
       "      <th>8</th>\n",
       "      <th>9</th>\n",
       "      <th>10</th>\n",
       "      <th>...</th>\n",
       "      <th>57</th>\n",
       "      <th>58</th>\n",
       "      <th>60</th>\n",
       "      <th>61</th>\n",
       "      <th>65</th>\n",
       "      <th>66</th>\n",
       "      <th>63</th>\n",
       "      <th>64</th>\n",
       "      <th>62</th>\n",
       "      <th>72</th>\n",
       "    </tr>\n",
       "  </thead>\n",
       "  <tbody>\n",
       "    <tr>\n",
       "      <th>0</th>\n",
       "      <td>-214</td>\n",
       "      <td>-139</td>\n",
       "      <td>-76</td>\n",
       "      <td>-135</td>\n",
       "      <td>-106</td>\n",
       "      <td>-138</td>\n",
       "      <td>-72</td>\n",
       "      <td>-413</td>\n",
       "      <td>5</td>\n",
       "      <td>-88</td>\n",
       "      <td>...</td>\n",
       "      <td>-137</td>\n",
       "      <td>-157</td>\n",
       "      <td>-172</td>\n",
       "      <td>-47</td>\n",
       "      <td>-62</td>\n",
       "      <td>-58</td>\n",
       "      <td>-161</td>\n",
       "      <td>-48</td>\n",
       "      <td>-176</td>\n",
       "      <td>-131</td>\n",
       "    </tr>\n",
       "    <tr>\n",
       "      <th>1</th>\n",
       "      <td>-153</td>\n",
       "      <td>-73</td>\n",
       "      <td>-49</td>\n",
       "      <td>-114</td>\n",
       "      <td>-125</td>\n",
       "      <td>-85</td>\n",
       "      <td>-144</td>\n",
       "      <td>-260</td>\n",
       "      <td>-127</td>\n",
       "      <td>-105</td>\n",
       "      <td>...</td>\n",
       "      <td>-51</td>\n",
       "      <td>-370</td>\n",
       "      <td>-122</td>\n",
       "      <td>-442</td>\n",
       "      <td>-198</td>\n",
       "      <td>-217</td>\n",
       "      <td>-215</td>\n",
       "      <td>-531</td>\n",
       "      <td>-284</td>\n",
       "      <td>-126</td>\n",
       "    </tr>\n",
       "    <tr>\n",
       "      <th>2</th>\n",
       "      <td>-58</td>\n",
       "      <td>-1</td>\n",
       "      <td>-307</td>\n",
       "      <td>265</td>\n",
       "      <td>-76</td>\n",
       "      <td>215</td>\n",
       "      <td>238</td>\n",
       "      <td>7</td>\n",
       "      <td>106</td>\n",
       "      <td>42</td>\n",
       "      <td>...</td>\n",
       "      <td>-82</td>\n",
       "      <td>-77</td>\n",
       "      <td>38</td>\n",
       "      <td>-21</td>\n",
       "      <td>-5</td>\n",
       "      <td>63</td>\n",
       "      <td>-46</td>\n",
       "      <td>-124</td>\n",
       "      <td>-81</td>\n",
       "      <td>-50</td>\n",
       "    </tr>\n",
       "    <tr>\n",
       "      <th>3</th>\n",
       "      <td>88</td>\n",
       "      <td>283</td>\n",
       "      <td>309</td>\n",
       "      <td>12</td>\n",
       "      <td>168</td>\n",
       "      <td>71</td>\n",
       "      <td>55</td>\n",
       "      <td>-2</td>\n",
       "      <td>268</td>\n",
       "      <td>219</td>\n",
       "      <td>...</td>\n",
       "      <td>178</td>\n",
       "      <td>340</td>\n",
       "      <td>31</td>\n",
       "      <td>396</td>\n",
       "      <td>141</td>\n",
       "      <td>95</td>\n",
       "      <td>146</td>\n",
       "      <td>431</td>\n",
       "      <td>9</td>\n",
       "      <td>211</td>\n",
       "    </tr>\n",
       "    <tr>\n",
       "      <th>4</th>\n",
       "      <td>-295</td>\n",
       "      <td>-264</td>\n",
       "      <td>-376</td>\n",
       "      <td>-419</td>\n",
       "      <td>-230</td>\n",
       "      <td>-272</td>\n",
       "      <td>-399</td>\n",
       "      <td>-541</td>\n",
       "      <td>-210</td>\n",
       "      <td>-178</td>\n",
       "      <td>...</td>\n",
       "      <td>-135</td>\n",
       "      <td>-438</td>\n",
       "      <td>-201</td>\n",
       "      <td>-351</td>\n",
       "      <td>-256</td>\n",
       "      <td>-191</td>\n",
       "      <td>-172</td>\n",
       "      <td>-496</td>\n",
       "      <td>-294</td>\n",
       "      <td>-206</td>\n",
       "    </tr>\n",
       "    <tr>\n",
       "      <th>...</th>\n",
       "      <td>...</td>\n",
       "      <td>...</td>\n",
       "      <td>...</td>\n",
       "      <td>...</td>\n",
       "      <td>...</td>\n",
       "      <td>...</td>\n",
       "      <td>...</td>\n",
       "      <td>...</td>\n",
       "      <td>...</td>\n",
       "      <td>...</td>\n",
       "      <td>...</td>\n",
       "      <td>...</td>\n",
       "      <td>...</td>\n",
       "      <td>...</td>\n",
       "      <td>...</td>\n",
       "      <td>...</td>\n",
       "      <td>...</td>\n",
       "      <td>...</td>\n",
       "      <td>...</td>\n",
       "      <td>...</td>\n",
       "      <td>...</td>\n",
       "    </tr>\n",
       "    <tr>\n",
       "      <th>7124</th>\n",
       "      <td>793</td>\n",
       "      <td>782</td>\n",
       "      <td>1138</td>\n",
       "      <td>627</td>\n",
       "      <td>250</td>\n",
       "      <td>645</td>\n",
       "      <td>1140</td>\n",
       "      <td>1799</td>\n",
       "      <td>758</td>\n",
       "      <td>570</td>\n",
       "      <td>...</td>\n",
       "      <td>507</td>\n",
       "      <td>1372</td>\n",
       "      <td>87</td>\n",
       "      <td>1111</td>\n",
       "      <td>707</td>\n",
       "      <td>423</td>\n",
       "      <td>809</td>\n",
       "      <td>466</td>\n",
       "      <td>551</td>\n",
       "      <td>874</td>\n",
       "    </tr>\n",
       "    <tr>\n",
       "      <th>7125</th>\n",
       "      <td>329</td>\n",
       "      <td>295</td>\n",
       "      <td>777</td>\n",
       "      <td>170</td>\n",
       "      <td>314</td>\n",
       "      <td>341</td>\n",
       "      <td>482</td>\n",
       "      <td>446</td>\n",
       "      <td>385</td>\n",
       "      <td>359</td>\n",
       "      <td>...</td>\n",
       "      <td>64</td>\n",
       "      <td>642</td>\n",
       "      <td>98</td>\n",
       "      <td>459</td>\n",
       "      <td>354</td>\n",
       "      <td>41</td>\n",
       "      <td>445</td>\n",
       "      <td>349</td>\n",
       "      <td>194</td>\n",
       "      <td>393</td>\n",
       "    </tr>\n",
       "    <tr>\n",
       "      <th>7126</th>\n",
       "      <td>36</td>\n",
       "      <td>11</td>\n",
       "      <td>41</td>\n",
       "      <td>-50</td>\n",
       "      <td>14</td>\n",
       "      <td>26</td>\n",
       "      <td>10</td>\n",
       "      <td>59</td>\n",
       "      <td>115</td>\n",
       "      <td>9</td>\n",
       "      <td>...</td>\n",
       "      <td>-11</td>\n",
       "      <td>-9</td>\n",
       "      <td>-26</td>\n",
       "      <td>-8</td>\n",
       "      <td>-22</td>\n",
       "      <td>0</td>\n",
       "      <td>-2</td>\n",
       "      <td>0</td>\n",
       "      <td>20</td>\n",
       "      <td>34</td>\n",
       "    </tr>\n",
       "    <tr>\n",
       "      <th>7127</th>\n",
       "      <td>191</td>\n",
       "      <td>76</td>\n",
       "      <td>228</td>\n",
       "      <td>126</td>\n",
       "      <td>56</td>\n",
       "      <td>193</td>\n",
       "      <td>369</td>\n",
       "      <td>781</td>\n",
       "      <td>244</td>\n",
       "      <td>171</td>\n",
       "      <td>...</td>\n",
       "      <td>198</td>\n",
       "      <td>608</td>\n",
       "      <td>153</td>\n",
       "      <td>73</td>\n",
       "      <td>260</td>\n",
       "      <td>1777</td>\n",
       "      <td>210</td>\n",
       "      <td>284</td>\n",
       "      <td>379</td>\n",
       "      <td>237</td>\n",
       "    </tr>\n",
       "    <tr>\n",
       "      <th>7128</th>\n",
       "      <td>-37</td>\n",
       "      <td>-14</td>\n",
       "      <td>-41</td>\n",
       "      <td>-91</td>\n",
       "      <td>-25</td>\n",
       "      <td>-53</td>\n",
       "      <td>-42</td>\n",
       "      <td>20</td>\n",
       "      <td>-39</td>\n",
       "      <td>7</td>\n",
       "      <td>...</td>\n",
       "      <td>-33</td>\n",
       "      <td>-71</td>\n",
       "      <td>-49</td>\n",
       "      <td>-41</td>\n",
       "      <td>5</td>\n",
       "      <td>-49</td>\n",
       "      <td>16</td>\n",
       "      <td>-73</td>\n",
       "      <td>-60</td>\n",
       "      <td>-2</td>\n",
       "    </tr>\n",
       "  </tbody>\n",
       "</table>\n",
       "<p>7129 rows × 72 columns</p>\n",
       "</div>"
      ],
      "text/plain": [
       "        1    2     3    4    5    6     7     8    9   10  ...   57    58  \\\n",
       "0    -214 -139   -76 -135 -106 -138   -72  -413    5  -88  ... -137  -157   \n",
       "1    -153  -73   -49 -114 -125  -85  -144  -260 -127 -105  ...  -51  -370   \n",
       "2     -58   -1  -307  265  -76  215   238     7  106   42  ...  -82   -77   \n",
       "3      88  283   309   12  168   71    55    -2  268  219  ...  178   340   \n",
       "4    -295 -264  -376 -419 -230 -272  -399  -541 -210 -178  ... -135  -438   \n",
       "...   ...  ...   ...  ...  ...  ...   ...   ...  ...  ...  ...  ...   ...   \n",
       "7124  793  782  1138  627  250  645  1140  1799  758  570  ...  507  1372   \n",
       "7125  329  295   777  170  314  341   482   446  385  359  ...   64   642   \n",
       "7126   36   11    41  -50   14   26    10    59  115    9  ...  -11    -9   \n",
       "7127  191   76   228  126   56  193   369   781  244  171  ...  198   608   \n",
       "7128  -37  -14   -41  -91  -25  -53   -42    20  -39    7  ...  -33   -71   \n",
       "\n",
       "       60    61   65    66   63   64   62   72  \n",
       "0    -172   -47  -62   -58 -161  -48 -176 -131  \n",
       "1    -122  -442 -198  -217 -215 -531 -284 -126  \n",
       "2      38   -21   -5    63  -46 -124  -81  -50  \n",
       "3      31   396  141    95  146  431    9  211  \n",
       "4    -201  -351 -256  -191 -172 -496 -294 -206  \n",
       "...   ...   ...  ...   ...  ...  ...  ...  ...  \n",
       "7124   87  1111  707   423  809  466  551  874  \n",
       "7125   98   459  354    41  445  349  194  393  \n",
       "7126  -26    -8  -22     0   -2    0   20   34  \n",
       "7127  153    73  260  1777  210  284  379  237  \n",
       "7128  -49   -41    5   -49   16  -73  -60   -2  \n",
       "\n",
       "[7129 rows x 72 columns]"
      ]
     },
     "execution_count": 5,
     "metadata": {},
     "output_type": "execute_result"
    }
   ],
   "source": [
    "train"
   ]
  },
  {
   "cell_type": "markdown",
   "metadata": {
    "colab_type": "text",
    "id": "gppaxpk-RtXD"
   },
   "source": [
    "## Variable Selection\n",
    "\n",
    "To reduce the computation costs, instead of working on all 20184 genes present in the dataset, we will focus on 1000 genes that have the most variance."
   ]
  },
  {
   "cell_type": "code",
   "execution_count": 6,
   "metadata": {
    "colab": {},
    "colab_type": "code",
    "id": "ajzcaXDXRr-P"
   },
   "outputs": [],
   "source": [
    "# TODO: limited_data should contain columns of data corresponding to genes with most variance\n",
    "limited_data = train.loc[train.var(axis=1).nlargest(1000).index].T"
   ]
  },
  {
   "cell_type": "code",
   "execution_count": 7,
   "metadata": {},
   "outputs": [
    {
     "data": {
      "text/html": [
       "<div>\n",
       "<style scoped>\n",
       "    .dataframe tbody tr th:only-of-type {\n",
       "        vertical-align: middle;\n",
       "    }\n",
       "\n",
       "    .dataframe tbody tr th {\n",
       "        vertical-align: top;\n",
       "    }\n",
       "\n",
       "    .dataframe thead th {\n",
       "        text-align: right;\n",
       "    }\n",
       "</style>\n",
       "<table border=\"1\" class=\"dataframe\">\n",
       "  <thead>\n",
       "    <tr style=\"text-align: right;\">\n",
       "      <th></th>\n",
       "      <th>5709</th>\n",
       "      <th>5710</th>\n",
       "      <th>18</th>\n",
       "      <th>5506</th>\n",
       "      <th>1867</th>\n",
       "      <th>5647</th>\n",
       "      <th>5228</th>\n",
       "      <th>1221</th>\n",
       "      <th>6223</th>\n",
       "      <th>4016</th>\n",
       "      <th>...</th>\n",
       "      <th>1569</th>\n",
       "      <th>6372</th>\n",
       "      <th>5923</th>\n",
       "      <th>1198</th>\n",
       "      <th>4864</th>\n",
       "      <th>6567</th>\n",
       "      <th>1267</th>\n",
       "      <th>6076</th>\n",
       "      <th>2048</th>\n",
       "      <th>7037</th>\n",
       "    </tr>\n",
       "  </thead>\n",
       "  <tbody>\n",
       "    <tr>\n",
       "      <th>1</th>\n",
       "      <td>17602</td>\n",
       "      <td>17962</td>\n",
       "      <td>15091</td>\n",
       "      <td>21011</td>\n",
       "      <td>-272</td>\n",
       "      <td>31086</td>\n",
       "      <td>8656</td>\n",
       "      <td>20764</td>\n",
       "      <td>-113</td>\n",
       "      <td>19748</td>\n",
       "      <td>...</td>\n",
       "      <td>443</td>\n",
       "      <td>695</td>\n",
       "      <td>509</td>\n",
       "      <td>-796</td>\n",
       "      <td>788</td>\n",
       "      <td>1624</td>\n",
       "      <td>536</td>\n",
       "      <td>730</td>\n",
       "      <td>1917</td>\n",
       "      <td>1183</td>\n",
       "    </tr>\n",
       "    <tr>\n",
       "      <th>2</th>\n",
       "      <td>9868</td>\n",
       "      <td>16964</td>\n",
       "      <td>11038</td>\n",
       "      <td>25240</td>\n",
       "      <td>-194</td>\n",
       "      <td>29288</td>\n",
       "      <td>13285</td>\n",
       "      <td>17636</td>\n",
       "      <td>4452</td>\n",
       "      <td>7657</td>\n",
       "      <td>...</td>\n",
       "      <td>389</td>\n",
       "      <td>812</td>\n",
       "      <td>286</td>\n",
       "      <td>-970</td>\n",
       "      <td>1691</td>\n",
       "      <td>238</td>\n",
       "      <td>1258</td>\n",
       "      <td>131</td>\n",
       "      <td>1603</td>\n",
       "      <td>1434</td>\n",
       "    </tr>\n",
       "    <tr>\n",
       "      <th>3</th>\n",
       "      <td>28056</td>\n",
       "      <td>23436</td>\n",
       "      <td>16692</td>\n",
       "      <td>14950</td>\n",
       "      <td>-79</td>\n",
       "      <td>14835</td>\n",
       "      <td>15704</td>\n",
       "      <td>23324</td>\n",
       "      <td>775</td>\n",
       "      <td>1032</td>\n",
       "      <td>...</td>\n",
       "      <td>443</td>\n",
       "      <td>810</td>\n",
       "      <td>610</td>\n",
       "      <td>-2111</td>\n",
       "      <td>1029</td>\n",
       "      <td>1081</td>\n",
       "      <td>2098</td>\n",
       "      <td>91</td>\n",
       "      <td>3200</td>\n",
       "      <td>2022</td>\n",
       "    </tr>\n",
       "    <tr>\n",
       "      <th>4</th>\n",
       "      <td>23812</td>\n",
       "      <td>22240</td>\n",
       "      <td>15763</td>\n",
       "      <td>31449</td>\n",
       "      <td>-300</td>\n",
       "      <td>25421</td>\n",
       "      <td>15691</td>\n",
       "      <td>21733</td>\n",
       "      <td>157</td>\n",
       "      <td>13356</td>\n",
       "      <td>...</td>\n",
       "      <td>509</td>\n",
       "      <td>599</td>\n",
       "      <td>294</td>\n",
       "      <td>-1555</td>\n",
       "      <td>695</td>\n",
       "      <td>1223</td>\n",
       "      <td>254</td>\n",
       "      <td>49</td>\n",
       "      <td>1416</td>\n",
       "      <td>2615</td>\n",
       "    </tr>\n",
       "    <tr>\n",
       "      <th>5</th>\n",
       "      <td>3553</td>\n",
       "      <td>5472</td>\n",
       "      <td>18128</td>\n",
       "      <td>12606</td>\n",
       "      <td>-157</td>\n",
       "      <td>29543</td>\n",
       "      <td>3390</td>\n",
       "      <td>20332</td>\n",
       "      <td>2175</td>\n",
       "      <td>13769</td>\n",
       "      <td>...</td>\n",
       "      <td>35</td>\n",
       "      <td>282</td>\n",
       "      <td>375</td>\n",
       "      <td>-331</td>\n",
       "      <td>1627</td>\n",
       "      <td>761</td>\n",
       "      <td>127</td>\n",
       "      <td>0</td>\n",
       "      <td>1749</td>\n",
       "      <td>924</td>\n",
       "    </tr>\n",
       "    <tr>\n",
       "      <th>...</th>\n",
       "      <td>...</td>\n",
       "      <td>...</td>\n",
       "      <td>...</td>\n",
       "      <td>...</td>\n",
       "      <td>...</td>\n",
       "      <td>...</td>\n",
       "      <td>...</td>\n",
       "      <td>...</td>\n",
       "      <td>...</td>\n",
       "      <td>...</td>\n",
       "      <td>...</td>\n",
       "      <td>...</td>\n",
       "      <td>...</td>\n",
       "      <td>...</td>\n",
       "      <td>...</td>\n",
       "      <td>...</td>\n",
       "      <td>...</td>\n",
       "      <td>...</td>\n",
       "      <td>...</td>\n",
       "      <td>...</td>\n",
       "      <td>...</td>\n",
       "    </tr>\n",
       "    <tr>\n",
       "      <th>66</th>\n",
       "      <td>53204</td>\n",
       "      <td>33833</td>\n",
       "      <td>39323</td>\n",
       "      <td>3946</td>\n",
       "      <td>58</td>\n",
       "      <td>24407</td>\n",
       "      <td>29136</td>\n",
       "      <td>37795</td>\n",
       "      <td>410</td>\n",
       "      <td>3670</td>\n",
       "      <td>...</td>\n",
       "      <td>375</td>\n",
       "      <td>226</td>\n",
       "      <td>458</td>\n",
       "      <td>-373</td>\n",
       "      <td>1219</td>\n",
       "      <td>588</td>\n",
       "      <td>49</td>\n",
       "      <td>71</td>\n",
       "      <td>389</td>\n",
       "      <td>778</td>\n",
       "    </tr>\n",
       "    <tr>\n",
       "      <th>63</th>\n",
       "      <td>32</td>\n",
       "      <td>77</td>\n",
       "      <td>15689</td>\n",
       "      <td>25367</td>\n",
       "      <td>-398</td>\n",
       "      <td>31585</td>\n",
       "      <td>-52</td>\n",
       "      <td>20306</td>\n",
       "      <td>17505</td>\n",
       "      <td>21350</td>\n",
       "      <td>...</td>\n",
       "      <td>416</td>\n",
       "      <td>2063</td>\n",
       "      <td>531</td>\n",
       "      <td>-167</td>\n",
       "      <td>3280</td>\n",
       "      <td>1518</td>\n",
       "      <td>312</td>\n",
       "      <td>107</td>\n",
       "      <td>1484</td>\n",
       "      <td>1590</td>\n",
       "    </tr>\n",
       "    <tr>\n",
       "      <th>64</th>\n",
       "      <td>382</td>\n",
       "      <td>780</td>\n",
       "      <td>41570</td>\n",
       "      <td>71369</td>\n",
       "      <td>252</td>\n",
       "      <td>17789</td>\n",
       "      <td>252</td>\n",
       "      <td>49267</td>\n",
       "      <td>-154</td>\n",
       "      <td>10640</td>\n",
       "      <td>...</td>\n",
       "      <td>-13</td>\n",
       "      <td>1580</td>\n",
       "      <td>105</td>\n",
       "      <td>-284</td>\n",
       "      <td>1726</td>\n",
       "      <td>2334</td>\n",
       "      <td>284</td>\n",
       "      <td>70</td>\n",
       "      <td>2605</td>\n",
       "      <td>2453</td>\n",
       "    </tr>\n",
       "    <tr>\n",
       "      <th>62</th>\n",
       "      <td>7531</td>\n",
       "      <td>11055</td>\n",
       "      <td>39538</td>\n",
       "      <td>48374</td>\n",
       "      <td>-97</td>\n",
       "      <td>29775</td>\n",
       "      <td>5347</td>\n",
       "      <td>41778</td>\n",
       "      <td>17626</td>\n",
       "      <td>27467</td>\n",
       "      <td>...</td>\n",
       "      <td>257</td>\n",
       "      <td>1962</td>\n",
       "      <td>634</td>\n",
       "      <td>593</td>\n",
       "      <td>1663</td>\n",
       "      <td>1663</td>\n",
       "      <td>53</td>\n",
       "      <td>37</td>\n",
       "      <td>1427</td>\n",
       "      <td>1223</td>\n",
       "    </tr>\n",
       "    <tr>\n",
       "      <th>72</th>\n",
       "      <td>27457</td>\n",
       "      <td>23314</td>\n",
       "      <td>23462</td>\n",
       "      <td>17061</td>\n",
       "      <td>746</td>\n",
       "      <td>32358</td>\n",
       "      <td>15505</td>\n",
       "      <td>27087</td>\n",
       "      <td>389</td>\n",
       "      <td>22970</td>\n",
       "      <td>...</td>\n",
       "      <td>151</td>\n",
       "      <td>358</td>\n",
       "      <td>245</td>\n",
       "      <td>-351</td>\n",
       "      <td>1167</td>\n",
       "      <td>1145</td>\n",
       "      <td>494</td>\n",
       "      <td>1078</td>\n",
       "      <td>1239</td>\n",
       "      <td>1151</td>\n",
       "    </tr>\n",
       "  </tbody>\n",
       "</table>\n",
       "<p>72 rows × 1000 columns</p>\n",
       "</div>"
      ],
      "text/plain": [
       "     5709   5710   18     5506  1867   5647   5228   1221   6223   4016  ...  \\\n",
       "1   17602  17962  15091  21011  -272  31086   8656  20764   -113  19748  ...   \n",
       "2    9868  16964  11038  25240  -194  29288  13285  17636   4452   7657  ...   \n",
       "3   28056  23436  16692  14950   -79  14835  15704  23324    775   1032  ...   \n",
       "4   23812  22240  15763  31449  -300  25421  15691  21733    157  13356  ...   \n",
       "5    3553   5472  18128  12606  -157  29543   3390  20332   2175  13769  ...   \n",
       "..    ...    ...    ...    ...   ...    ...    ...    ...    ...    ...  ...   \n",
       "66  53204  33833  39323   3946    58  24407  29136  37795    410   3670  ...   \n",
       "63     32     77  15689  25367  -398  31585    -52  20306  17505  21350  ...   \n",
       "64    382    780  41570  71369   252  17789    252  49267   -154  10640  ...   \n",
       "62   7531  11055  39538  48374   -97  29775   5347  41778  17626  27467  ...   \n",
       "72  27457  23314  23462  17061   746  32358  15505  27087    389  22970  ...   \n",
       "\n",
       "    1569  6372  5923  1198  4864  6567  1267  6076  2048  7037  \n",
       "1    443   695   509  -796   788  1624   536   730  1917  1183  \n",
       "2    389   812   286  -970  1691   238  1258   131  1603  1434  \n",
       "3    443   810   610 -2111  1029  1081  2098    91  3200  2022  \n",
       "4    509   599   294 -1555   695  1223   254    49  1416  2615  \n",
       "5     35   282   375  -331  1627   761   127     0  1749   924  \n",
       "..   ...   ...   ...   ...   ...   ...   ...   ...   ...   ...  \n",
       "66   375   226   458  -373  1219   588    49    71   389   778  \n",
       "63   416  2063   531  -167  3280  1518   312   107  1484  1590  \n",
       "64   -13  1580   105  -284  1726  2334   284    70  2605  2453  \n",
       "62   257  1962   634   593  1663  1663    53    37  1427  1223  \n",
       "72   151   358   245  -351  1167  1145   494  1078  1239  1151  \n",
       "\n",
       "[72 rows x 1000 columns]"
      ]
     },
     "execution_count": 7,
     "metadata": {},
     "output_type": "execute_result"
    }
   ],
   "source": [
    "limited_data"
   ]
  },
  {
   "cell_type": "markdown",
   "metadata": {
    "colab_type": "text",
    "id": "O8WfvVXYrvZA"
   },
   "source": [
    "## PCA (30 points)\n"
   ]
  },
  {
   "cell_type": "markdown",
   "metadata": {
    "colab_type": "text",
    "id": "GNlO2lGATkiA"
   },
   "source": [
    "Implement PCA. Then use it to project the data to the latent space. Finally, reconstruct the data and report the reconstruction error for both training and test datasets. Note that you should implement the PCA, so using existing libraries is not allowed. you should use numpy to compute eigenvectors/eigenvalues of a matrix."
   ]
  },
  {
   "cell_type": "code",
   "execution_count": 8,
   "metadata": {
    "colab": {},
    "colab_type": "code",
    "id": "VcaZiPwFPupP"
   },
   "outputs": [],
   "source": [
    "def loss_function(a, b):\n",
    "  #####################################################################################\n",
    "  #                          COMPLETE THE FOLLOWING SECTION                           #\n",
    "  #####################################################################################\n",
    "  # Implement a function that given the original data and a\n",
    "  # reconstructed version, returns the reconstruction's mean squared error.\n",
    "  #####################################################################################\n",
    "    result = np.sum(np.mean((a - b) ** 2))\n",
    "  ####################################################################################\n",
    "  #                                   THE END                                        #\n",
    "  #################################################################################### \n",
    "    return result"
   ]
  },
  {
   "cell_type": "code",
   "execution_count": 9,
   "metadata": {
    "colab": {},
    "colab_type": "code",
    "id": "K45o0KZaT3XY"
   },
   "outputs": [],
   "source": [
    "def PCA(X, n_components=72):\n",
    "    #####################################################################################\n",
    "    #                          COMPLETE THE FOLLOWING SECTION                           #\n",
    "    #####################################################################################\n",
    "    # X: a vector of shape (N, M)\n",
    "    # n_components: size of latent space (< M)\n",
    "    # returns a vector of shape (n_components, M) containing the first `n_components` PCs.\n",
    "    #####################################################################################\n",
    "    cov_mat = np.cov(X)\n",
    "    eig_vals, eig_vecs = np.linalg.eig(cov_mat)\n",
    "    vector = eig_vecs[:,:n_components]\n",
    "    ####################################################################################\n",
    "    #                                   THE END                                        #\n",
    "    #################################################################################### \n",
    "    return vector"
   ]
  },
  {
   "cell_type": "code",
   "execution_count": 10,
   "metadata": {},
   "outputs": [
    {
     "data": {
      "text/plain": [
       "array([[1, 1, 2, 0, 7, 6, 7, 8],\n",
       "       [2, 2, 2, 2, 2, 2, 2, 2],\n",
       "       [5, 6, 5, 9, 1, 2, 1, 4],\n",
       "       [3, 2, 3, 3, 4, 5, 5, 4]])"
      ]
     },
     "execution_count": 10,
     "metadata": {},
     "output_type": "execute_result"
    }
   ],
   "source": [
    "a = np.array([[90,60,90], [90,90,30], [60, 60, 60], [60, 60, 90], [30, 30, 30]])\n",
    "a = np.array([[7,4,6], [8,8, 7], [5,9, 7], [8, 4,1], [3, 6, 5], [2, 3, 5], [4, 2, 3], [8, 5, 1], [7, 9, 3], [8, 5, 2]])\n",
    "a = np.array([[1, 1, 2, 0, 7, 6, 7, 8], [2, 2, 2, 2, 2, 2, 2, 2], [5, 6, 5, 9, 1, 2, 1, 4], [3, 2, 3, 3, 4, 5, 5, 4]])\n",
    "# 746887597841365235423851793852\n",
    "a"
   ]
  },
  {
   "cell_type": "code",
   "execution_count": 11,
   "metadata": {
    "colab": {},
    "colab_type": "code",
    "id": "L06lCh8I-0F2"
   },
   "outputs": [],
   "source": [
    "pca = PCA(limited_data)"
   ]
  },
  {
   "cell_type": "code",
   "execution_count": 12,
   "metadata": {
    "colab": {},
    "colab_type": "code",
    "id": "u8KGa5L9tf_j"
   },
   "outputs": [],
   "source": [
    "def reconstruct_PCA(X):\n",
    "    #####################################################################################\n",
    "    #                          COMPLETE THE FOLLOWING SECTION                           #\n",
    "    #####################################################################################\n",
    "    # Compute PCs for the X.\n",
    "    # Project X to the space of computed PCs.\n",
    "    # Reconstruct X from projected data.\n",
    "    #####################################################################################\n",
    "    principal_components = PCA(X)\n",
    "    projected_data = np.matmul(principal_components.T, (X.T - np.mean(X, axis=1)).T)  \n",
    "    reconstructed_data = (np.matmul(projected_data.T, principal_components.T) + np.mean(X, axis=1)).T\n",
    "    ####################################################################################\n",
    "    #                                   THE END                                        #\n",
    "    ####################################################################################     \n",
    "    return reconstructed_data"
   ]
  },
  {
   "cell_type": "code",
   "execution_count": 13,
   "metadata": {
    "colab": {},
    "colab_type": "code",
    "id": "uxyrH2Wq_CQv"
   },
   "outputs": [],
   "source": [
    "pca_rec = reconstruct_PCA(limited_data)"
   ]
  },
  {
   "cell_type": "code",
   "execution_count": 14,
   "metadata": {},
   "outputs": [],
   "source": [
    "#pca_rec = reconstruct_PCA(a)\n",
    "#loss_function(pca_rec , a)"
   ]
  },
  {
   "cell_type": "code",
   "execution_count": 15,
   "metadata": {
    "colab": {},
    "colab_type": "code",
    "id": "W9-zt2Gp9y52"
   },
   "outputs": [
    {
     "data": {
      "text/plain": [
       "4.3966137227882364e-17"
      ]
     },
     "execution_count": 15,
     "metadata": {},
     "output_type": "execute_result"
    }
   ],
   "source": [
    "## Run This cell to find how your functions working!\n",
    "loss_function(pca_rec , limited_data.values)"
   ]
  },
  {
   "cell_type": "markdown",
   "metadata": {
    "colab_type": "text",
    "id": "RmGUESkSthcB"
   },
   "source": [
    "## K-Means (20 points)\n",
    "\n"
   ]
  },
  {
   "cell_type": "markdown",
   "metadata": {
    "colab_type": "text",
    "id": "WquMFXsuuYsi"
   },
   "source": [
    "read the below cell codes. this is using sklearn pca implementation. we use this function to use in our kmeans clustering."
   ]
  },
  {
   "cell_type": "code",
   "execution_count": 16,
   "metadata": {
    "colab": {},
    "colab_type": "code",
    "id": "weP1UN8ATaJi"
   },
   "outputs": [
    {
     "data": {
      "text/html": [
       "<div>\n",
       "<style scoped>\n",
       "    .dataframe tbody tr th:only-of-type {\n",
       "        vertical-align: middle;\n",
       "    }\n",
       "\n",
       "    .dataframe tbody tr th {\n",
       "        vertical-align: top;\n",
       "    }\n",
       "\n",
       "    .dataframe thead th {\n",
       "        text-align: right;\n",
       "    }\n",
       "</style>\n",
       "<table border=\"1\" class=\"dataframe\">\n",
       "  <thead>\n",
       "    <tr style=\"text-align: right;\">\n",
       "      <th></th>\n",
       "      <th>PC1</th>\n",
       "      <th>PC2</th>\n",
       "      <th>cancer</th>\n",
       "    </tr>\n",
       "  </thead>\n",
       "  <tbody>\n",
       "    <tr>\n",
       "      <th>0</th>\n",
       "      <td>4.341202</td>\n",
       "      <td>-4.770871</td>\n",
       "      <td>ALL</td>\n",
       "    </tr>\n",
       "    <tr>\n",
       "      <th>1</th>\n",
       "      <td>14.195648</td>\n",
       "      <td>1.693617</td>\n",
       "      <td>ALL</td>\n",
       "    </tr>\n",
       "    <tr>\n",
       "      <th>2</th>\n",
       "      <td>14.183927</td>\n",
       "      <td>-1.751282</td>\n",
       "      <td>ALL</td>\n",
       "    </tr>\n",
       "    <tr>\n",
       "      <th>3</th>\n",
       "      <td>1.756293</td>\n",
       "      <td>-3.357067</td>\n",
       "      <td>ALL</td>\n",
       "    </tr>\n",
       "    <tr>\n",
       "      <th>4</th>\n",
       "      <td>11.519685</td>\n",
       "      <td>-9.365321</td>\n",
       "      <td>ALL</td>\n",
       "    </tr>\n",
       "    <tr>\n",
       "      <th>...</th>\n",
       "      <td>...</td>\n",
       "      <td>...</td>\n",
       "      <td>...</td>\n",
       "    </tr>\n",
       "    <tr>\n",
       "      <th>67</th>\n",
       "      <td>-9.111561</td>\n",
       "      <td>-8.859139</td>\n",
       "      <td>ALL</td>\n",
       "    </tr>\n",
       "    <tr>\n",
       "      <th>68</th>\n",
       "      <td>9.836477</td>\n",
       "      <td>22.720645</td>\n",
       "      <td>ALL</td>\n",
       "    </tr>\n",
       "    <tr>\n",
       "      <th>69</th>\n",
       "      <td>-1.017387</td>\n",
       "      <td>19.754244</td>\n",
       "      <td>ALL</td>\n",
       "    </tr>\n",
       "    <tr>\n",
       "      <th>70</th>\n",
       "      <td>-4.869207</td>\n",
       "      <td>17.797062</td>\n",
       "      <td>ALL</td>\n",
       "    </tr>\n",
       "    <tr>\n",
       "      <th>71</th>\n",
       "      <td>1.404915</td>\n",
       "      <td>-5.935700</td>\n",
       "      <td>ALL</td>\n",
       "    </tr>\n",
       "  </tbody>\n",
       "</table>\n",
       "<p>72 rows × 3 columns</p>\n",
       "</div>"
      ],
      "text/plain": [
       "          PC1        PC2 cancer\n",
       "0    4.341202  -4.770871    ALL\n",
       "1   14.195648   1.693617    ALL\n",
       "2   14.183927  -1.751282    ALL\n",
       "3    1.756293  -3.357067    ALL\n",
       "4   11.519685  -9.365321    ALL\n",
       "..        ...        ...    ...\n",
       "67  -9.111561  -8.859139    ALL\n",
       "68   9.836477  22.720645    ALL\n",
       "69  -1.017387  19.754244    ALL\n",
       "70  -4.869207  17.797062    ALL\n",
       "71   1.404915  -5.935700    ALL\n",
       "\n",
       "[72 rows x 3 columns]"
      ]
     },
     "execution_count": 16,
     "metadata": {},
     "output_type": "execute_result"
    }
   ],
   "source": [
    "from sklearn.preprocessing import StandardScaler\n",
    "from sklearn.decomposition import PCA\n",
    "x_norm = StandardScaler().fit_transform(limited_data)\n",
    "pca = PCA(n_components=2)\n",
    "principalComponents = pca.fit_transform(x_norm)\n",
    "principalDf = pd.DataFrame(data = principalComponents\n",
    "             , columns = ['PC1', 'PC2'])\n",
    "principalDf = principalDf.set_index(labels.index)\n",
    "finalDf = pd.concat([principalDf, labels['cancer']], axis = 1)\n",
    "finalDf"
   ]
  },
  {
   "cell_type": "markdown",
   "metadata": {
    "colab_type": "text",
    "id": "PdOAi2mSkZKR"
   },
   "source": [
    "here we try to initialize centroids. Note that we already knows we have two cluster, So from our prior knowledge we define number of clusters equal to two."
   ]
  },
  {
   "cell_type": "code",
   "execution_count": 17,
   "metadata": {
    "colab": {},
    "colab_type": "code",
    "id": "f2ZM3kLwvX_n"
   },
   "outputs": [
    {
     "name": "stdout",
     "output_type": "stream",
     "text": [
      "[[23.  0.]\n",
      " [ 7. 30.]]\n"
     ]
    }
   ],
   "source": [
    "np.random.seed(1000)\n",
    "# Number of clusters\n",
    "k = 2\n",
    "X = np.array(list(zip(finalDf['PC1'], finalDf['PC2'])))\n",
    "# X coordinates of random centroids\n",
    "C_x = np.random.randint(0, np.max(X)-20, size=k)\n",
    "# Y coordinates of random centroids\n",
    "C_y = np.random.randint(0, np.max(X)-20, size=k)\n",
    "C = np.array(list(zip(C_x, C_y)), dtype=np.float32)\n",
    "print(C)"
   ]
  },
  {
   "cell_type": "markdown",
   "metadata": {
    "colab_type": "text",
    "id": "7hyU49kHkqhD"
   },
   "source": [
    "Now you can see the unlabeled data and our initialization data by running following cell"
   ]
  },
  {
   "cell_type": "code",
   "execution_count": 18,
   "metadata": {
    "colab": {},
    "colab_type": "code",
    "id": "44In_GGZvuHh"
   },
   "outputs": [
    {
     "data": {
      "text/plain": [
       "<matplotlib.collections.PathCollection at 0x172822e7788>"
      ]
     },
     "execution_count": 18,
     "metadata": {},
     "output_type": "execute_result"
    },
    {
     "data": {
      "image/png": "[encoded data removed]",
      "text/plain": [
       "<Figure size 432x288 with 1 Axes>"
      ]
     },
     "metadata": {
      "needs_background": "light"
     },
     "output_type": "display_data"
    }
   ],
   "source": [
    "# Plotting along with the Centroids\n",
    "plt.scatter(finalDf['PC1'], finalDf['PC2'], c='#050505', s=7)\n",
    "plt.scatter(C_x, C_y, marker='*', s=200, c='g')"
   ]
  },
  {
   "cell_type": "markdown",
   "metadata": {
    "colab_type": "text",
    "id": "ugKD1qEDkzLZ"
   },
   "source": [
    "It's your turn. Implement K-Means function which return a np.array with size equal to your data. this array contain each point label that you assigned using kmeans clustering."
   ]
  },
  {
   "cell_type": "code",
   "execution_count": 19,
   "metadata": {
    "colab": {},
    "colab_type": "code",
    "id": "KCu4Q92Uv6mQ"
   },
   "outputs": [],
   "source": [
    "def Kmeans(X, Centroids):\n",
    "      clusters = np.zeros(len(X))\n",
    "      # To store the value of centroids when it updates\n",
    "      C = Centroids\n",
    "      C_old = np.zeros(C.shape)\n",
    "      # Cluster Lables(0, 1)\n",
    "      clusters = np.zeros(len(X))\n",
    "      # Error func. - Distance between new centroids and old centroids\n",
    "      error = np.linalg.norm(C - C_old)\n",
    "      ####################################################################################\n",
    "      #                          COMPLETE THE FOLLOWING SECTION                          #\n",
    "      ####################################################################################\n",
    "      # Implement K-Means Clustering\n",
    "      # Assigning each value to its closest cluster\n",
    "      # Storing the old centroid values\n",
    "      # Finding the new centroids by taking the average value\n",
    "      # clusters variable should contain (0,1) labels. 0 for first cluster and 1 for the second. \n",
    "      ####################################################################################\n",
    "      # Loop will run till the error becomes zero\n",
    "      # Do Not Forget to update error condition.\n",
    "      while error != 0:\n",
    "            dist_mat = np.sqrt(np.sum((X[:,None,:] - C[None,:,:]) ** 2, axis=2))\n",
    "            clusters = np.argmin(dist_mat, axis=1)        \n",
    "            C_old = C\n",
    "            C = np.array([np.mean(X[clusters == c], axis=0) for c in range(C.shape[0])])\n",
    "            error = np.linalg.norm(C - C_old)    \n",
    "\n",
    "      ####################################################################################\n",
    "      #                                   THE END                                        #\n",
    "      ####################################################################################\n",
    "      return clusters, C"
   ]
  },
  {
   "cell_type": "code",
   "execution_count": 20,
   "metadata": {
    "colab": {},
    "colab_type": "code",
    "id": "_ZY4LglCj2Oz"
   },
   "outputs": [],
   "source": [
    "clusters, C = Kmeans(X, C)"
   ]
  },
  {
   "cell_type": "markdown",
   "metadata": {
    "colab_type": "text",
    "id": "liuvdw6Ml7wZ"
   },
   "source": [
    "Now just run cell below to plot your result. "
   ]
  },
  {
   "cell_type": "code",
   "execution_count": 21,
   "metadata": {
    "colab": {},
    "colab_type": "code",
    "id": "GOam4hp1wbn4"
   },
   "outputs": [
    {
     "name": "stdout",
     "output_type": "stream",
     "text": [
      "0.7777777777777778\n"
     ]
    },
    {
     "data": {
      "text/plain": [
       "<matplotlib.collections.PathCollection at 0x17282256588>"
      ]
     },
     "execution_count": 21,
     "metadata": {},
     "output_type": "execute_result"
    },
    {
     "data": {
      "image/png": "[encoded data removed]",
      "text/plain": [
       "<Figure size 432x288 with 1 Axes>"
      ]
     },
     "metadata": {
      "needs_background": "light"
     },
     "output_type": "display_data"
    }
   ],
   "source": [
    "colors = ['r', 'g', 'b', 'y', 'c', 'm']\n",
    "fig, ax = plt.subplots()\n",
    "targets = ['ALL','AML']\n",
    "\n",
    "diff = 0\n",
    "for i in range(k):\n",
    "        points = np.array([X[j] for j in range(len(X)) if clusters[j] == i])\n",
    "        indices = np.array([j for j in range(len(X)) if clusters[j] == i])\n",
    "        reals = np.array([j for j in range(len(X)) if finalDf['cancer'][j] == targets[i]])\n",
    "        diff += len(list(set(reals) - set(indices)))\n",
    "        ax.scatter(points[:, 0], points[:, 1], s=7, c=colors[i])\n",
    "        \n",
    "print(\"Kmeans accuracy = \", max(1 - diff / 72, diff / 72))        \n",
    "ax.scatter(C[:, 0], C[:, 1], marker='*', s=200, c='#050505')"
   ]
  },
  {
   "cell_type": "markdown",
   "metadata": {
    "colab_type": "text",
    "id": "fZPQjdLdMLmo"
   },
   "source": [
    "This part shows real labels of the samples. just run this cell and answer the next question. "
   ]
  },
  {
   "cell_type": "code",
   "execution_count": 22,
   "metadata": {
    "colab": {},
    "colab_type": "code",
    "id": "Qd6GZwJnMF8n"
   },
   "outputs": [
    {
     "data": {
      "text/plain": [
       "(-20, 25)"
      ]
     },
     "execution_count": 22,
     "metadata": {},
     "output_type": "execute_result"
    },
    {
     "data": {
      "image/png": "[encoded data removed]",
      "text/plain": [
       "<Figure size 720x720 with 1 Axes>"
      ]
     },
     "metadata": {
      "needs_background": "light"
     },
     "output_type": "display_data"
    }
   ],
   "source": [
    "fig = plt.figure(figsize=(10,10))\n",
    "ax = fig.add_subplot(1,1,1) \n",
    "ax.set_xlabel('PC1', fontsize=15)\n",
    "ax.set_ylabel('PC2', fontsize=15)\n",
    "ax.set_title('2 component PCA', fontsize=20)\n",
    "targets = ['ALL','AML']\n",
    "colors = ['r', 'g']\n",
    "for target, color in zip(targets,colors):\n",
    "    indicesToKeep = finalDf['cancer'] == target\n",
    "    ax.scatter(finalDf.loc[indicesToKeep, 'PC1'],\n",
    "               finalDf.loc[indicesToKeep, 'PC2'],\n",
    "               c=color,\n",
    "               s=50)\n",
    "ax.legend(targets)\n",
    "ax.grid()\n",
    "ax.set_xlim([-20, 25])\n",
    "ax.set_ylim([-20, 25])"
   ]
  },
  {
   "cell_type": "markdown",
   "metadata": {
    "colab_type": "text",
    "id": "NXv0R4dDNwoa"
   },
   "source": [
    "Compare your results with the figure above and tell us what will change if we change the random seed (try it with two or three different seeds) and what is the solution?"
   ]
  },
  {
   "cell_type": "markdown",
   "metadata": {
    "colab_type": "text",
    "id": "CmhXIZAFOgKZ"
   },
   "source": [
    "--> \n",
    "   Write Your Answer Here \n",
    "<--"
   ]
  },
  {
   "cell_type": "markdown",
   "metadata": {
    "colab_type": "text",
    "id": "YQN_77qvfrnE"
   },
   "source": [
    "## GMM (30 points)\n",
    "\n",
    "The EM algorithm for GMM can be simplified in the following steps:\n",
    "\n",
    "Assuming K is the number of clusters, and N is the number of data points\n",
    "\n",
    "\n",
    "$z_j^i$ is 1 if $x^i$ is generated from mixture j\n",
    "\n",
    "Initialize $\\mu_k$, $\\Sigma_k$ and $\\pi_k$ k=1,...K\n",
    "\n",
    "\n",
    "$\\theta=[\\pi,\\mu,\\Sigma]$\n",
    "## E step:\n",
    "$\\gamma_j^i=P(z_j^i=1|x^i, \\theta^{old})=\\frac{\\pi_j^{old}\\mathcal{N}(x^i|\\mu_j^{old},\\Sigma_j^{old})}{\\sum_{k=1}^K\\pi_k^{old}\\mathcal{N}(x^i|\\mu_k^{old},\\Sigma_k^{old})}$\n",
    "\n",
    "## M step:\n",
    "$\\mu_j^{new}=\\frac{\\sum_{i=1}^N \\gamma_j^i x^i}{\\sum_{i=1}^N \\gamma_j^i}$\n",
    "\n",
    "\n",
    "$\\Sigma_j^{new} = \\frac{1}{\\sum_{i=1}^N \\gamma_j^i} \\sum_{i=1}^N \\gamma_j^i (x^i-\\mu_j^{new}) (x^i-\\mu_j^{new})^T$\n",
    "\n",
    "\n",
    "$\\pi_j^{new} = \\frac{\\sum_{i=1}^N \\gamma_j^i}{N}$\n",
    "\n",
    "Repeat E and M steps until convergence.\n"
   ]
  },
  {
   "cell_type": "code",
   "execution_count": 163,
   "metadata": {
    "colab": {},
    "colab_type": "code",
    "id": "YdRTYxnefrnG"
   },
   "outputs": [],
   "source": [
    "from scipy.stats import multivariate_normal\n",
    "\n",
    "class GMM(object):\n",
    "    def __init__(self, x, k, iterations):\n",
    "        self.x = x\n",
    "        self.n = x.shape[0] # data points\n",
    "        self.f = x.shape[1] # features\n",
    "        self.k = k  # number of clusters\n",
    "        self.iterations = iterations\n",
    "\n",
    "        self.predictions = clusters\n",
    "        \n",
    "        # TODO: initialize parameters according to kmeans output\n",
    "        \n",
    "        self.pi = np.zeros(self.k) # of size (k)\n",
    "        self.mu = np.zeros((self.k, self.f)) # of size (k, f)\n",
    "        \n",
    "        for j in range(k):\n",
    "            class_idx = np.where(clusters == j)[0]\n",
    "            self.pi[j] = len(class_idx) / self.n   \n",
    "            self.mu[j, :] = np.mean(self.x[class_idx], axis = 0)\n",
    "            # self.sigma[j, :, :] = np.dot()\n",
    "        \n",
    "        self.sigma = np.tile(np.diag(np.ones(self.f)), (k, 1)).reshape(k, self.f, self.f)  # of size (k, f, f)\n",
    "        \n",
    "\n",
    "    def calc_gamma(self):\n",
    "        # TODO: calculate gamma matrix based on parameters and x\n",
    "        # returns a matrix of shape (n, k) where n is the number of data points\n",
    "        gamma = np.zeros((self.n, self.k))\n",
    "        for i in range(self.k):\n",
    "            gamma[:, i] = self.pi[i] * multivariate_normal.pdf(self.x, self.mu[i, :], self.sigma[i])  \n",
    "        return np.nan_to_num(gamma / np.sum(gamma, axis=1)[:, None])\n",
    "            \n",
    "        \n",
    "    def update_mu(self, gamma):\n",
    "        # TODO: update self.mu based on x and gamma matrix\n",
    "        self.mu = np.dot(gamma.T, self.x) / np.sum(gamma, axis=0)[:,None]    \n",
    "    \n",
    "    def update_sigma(self, gamma):\n",
    "        # TODO: update self.sigma based on x, mu and gamma matrix\n",
    "        for j in range(self.k):\n",
    "            x_centered = self.x - self.mu[j, :]\n",
    "            self.sigma[j, :, :] = (x_centered.T) * np.matrix(np.diag(gamma[:,j])) * x_centered / np.sum(gamma, axis=0)[:,None][j]\n",
    "        \n",
    "        \n",
    "    def update_pi(self, gamma):\n",
    "        # TODO: update self.mu based on gamma matrix\n",
    "        self.pi = np.mean(gamma, axis=0)\n",
    "\n",
    "        \n",
    "    def fit(self):\n",
    "        for i in range(self.iterations):\n",
    "            gamma = self.calc_gamma()\n",
    "            self.update_mu(gamma)\n",
    "            self.update_sigma(gamma)\n",
    "            self.update_pi(gamma)\n",
    "        \n",
    "        # TODO: predict the mixture for each data\n",
    "        self.predictions = np.zeros((self.n, self.k))\n",
    "        \n",
    "        for j in range(self.k):\n",
    "            self.predictions[:,j] = self.pi[j] * multivariate_normal.pdf(self.x, self.mu[j, :], self.sigma[j])\n",
    "            \n",
    "        self.predictions = self.predictions.argmax(axis=1)\n",
    "        "
   ]
  },
  {
   "cell_type": "code",
   "execution_count": 166,
   "metadata": {
    "colab": {},
    "colab_type": "code",
    "id": "qvcfZa_dfrnL"
   },
   "outputs": [
    {
     "name": "stderr",
     "output_type": "stream",
     "text": [
      "c:\\users\\y.tabatabaee\\appdata\\local\\programs\\python\\python37\\lib\\site-packages\\ipykernel_launcher.py:33: RuntimeWarning: invalid value encountered in true_divide\n"
     ]
    },
    {
     "name": "stdout",
     "output_type": "stream",
     "text": [
      "[0 0 0 0 0 0 1 1 0 0 0 0 0 0 0 0 0 1 0 0 0 1 1 0 0 0 1 1 0 1 1 1 1 1 1 1 1\n",
      " 1 1 1 0 0 0 1 0 1 0 0 1 1 0 0 0 0 0 0 0 1 1 1 1 1 0 0 0 1 1 0 1 1 1 0]\n"
     ]
    }
   ],
   "source": [
    "gmm = GMM(X, 2, 300)\n",
    "gmm.fit()\n",
    "gmm_clusters = gmm.predictions \n",
    "print(gmm_clusters)"
   ]
  },
  {
   "cell_type": "code",
   "execution_count": 167,
   "metadata": {
    "colab": {},
    "colab_type": "code",
    "id": "iu-8ZKQLfrnQ"
   },
   "outputs": [
    {
     "name": "stdout",
     "output_type": "stream",
     "text": [
      "GMM accuracy =  0.6527777777777778\n"
     ]
    },
    {
     "data": {
      "text/plain": [
       "<matplotlib.collections.PathCollection at 0x17282584648>"
      ]
     },
     "execution_count": 167,
     "metadata": {},
     "output_type": "execute_result"
    },
    {
     "data": {
      "image/png": "[encoded data removed]",
      "text/plain": [
       "<Figure size 432x288 with 1 Axes>"
      ]
     },
     "metadata": {
      "needs_background": "light"
     },
     "output_type": "display_data"
    }
   ],
   "source": [
    "fig, ax = plt.subplots()\n",
    "\n",
    "diff = 0\n",
    "for i in range(k):\n",
    "        points = np.array([X[j] for j in range(len(X)) if gmm_clusters[j] == i])\n",
    "        indices = np.array([j for j in range(len(X)) if gmm_clusters[j] == i])\n",
    "        reals = np.array([j for j in range(len(X)) if finalDf['cancer'][j] == targets[i]])\n",
    "        diff += len(list(set(reals) - set(indices)))\n",
    "        ax.scatter(points[:, 0], points[:, 1], s=7, c=colors[i])\n",
    "        \n",
    "print(\"GMM accuracy = \", max(1 - diff / len(gmm_clusters), diff / len(gmm_clusters)))  \n",
    "ax.scatter(C[:, 0], C[:, 1], marker='*', s=200, c='#050505')"
   ]
  },
  {
   "cell_type": "markdown",
   "metadata": {
    "colab_type": "text",
    "id": "i8m21EhVfrnW"
   },
   "source": [
    "## t-SNE (10 points)"
   ]
  },
  {
   "cell_type": "markdown",
   "metadata": {
    "colab_type": "text",
    "id": "Jb8CAX8cfrnX"
   },
   "source": [
    "In this part we are using a generated dataset to test the effect of t-SNE hyperparameters.\n",
    "The data points are on two paralllel lines with a small additive noise."
   ]
  },
  {
   "cell_type": "code",
   "execution_count": null,
   "metadata": {
    "colab": {},
    "colab_type": "code",
    "id": "6dBH6AmSfrnY"
   },
   "outputs": [],
   "source": [
    "# load the dataset\n",
    "\n",
    "X = np.load('X.npy')\n",
    "y = np.load('y.npy')\n",
    "print(X.shape)\n",
    "print(y.shape)"
   ]
  },
  {
   "cell_type": "code",
   "execution_count": null,
   "metadata": {
    "colab": {},
    "colab_type": "code",
    "id": "oOzBZkaXfrnd",
    "scrolled": true
   },
   "outputs": [],
   "source": [
    "# plot data in 2 dimensions using PCA\n",
    "pca = PCA(n_components=2)\n",
    "x_pca = pca.fit_transform(X)\n",
    "sns.scatterplot(x_pca[:,0], x_pca[:,1], hue=y, legend='full', palette=palette)"
   ]
  },
  {
   "cell_type": "markdown",
   "metadata": {
    "colab_type": "text",
    "id": "oNF9FTFYfrni"
   },
   "source": [
    "Find the best hyperparameters such that the output of t-SNE is similar to the output of PCA. Please make sure that your results are stable. Try running t-SNE a few times until you get the same results.\n",
    "\n",
    "You can use [this link](https://distill.pub/2016/misread-tsne/) for help!"
   ]
  },
  {
   "cell_type": "code",
   "execution_count": null,
   "metadata": {
    "colab": {},
    "colab_type": "code",
    "id": "EoUsJV99frnj"
   },
   "outputs": [],
   "source": [
    "tsne = TSNE(perplexity=100, learning_rate=30)  # TODO: set hyperparameters\n",
    "\n",
    "X_embedded = tsne.fit_transform(X)\n",
    "\n",
    "sns.scatterplot(X_embedded[:,0], X_embedded[:,1], hue=y, legend='full', palette=palette)"
   ]
  },
  {
   "cell_type": "markdown",
   "metadata": {
    "colab_type": "text",
    "id": "_YbMHsbafrno"
   },
   "source": [
    "Are the lines perfectly straight? Can you explain why? "
   ]
  },
  {
   "cell_type": "markdown",
   "metadata": {
    "colab_type": "text",
    "id": "GZ5VxOGcfrnp"
   },
   "source": [
    "--> \n",
    "   Write Your Answer Here \n",
    "<--"
   ]
  }
 ],
 "metadata": {
  "colab": {
   "collapsed_sections": [],
   "name": "HW4_Practical.ipynb",
   "provenance": [],
   "toc_visible": true
  },
  "kernelspec": {
   "display_name": "Python 3",
   "language": "python",
   "name": "python3"
  },
  "language_info": {
   "codemirror_mode": {
    "name": "ipython",
    "version": 3
   },
   "file_extension": ".py",
   "mimetype": "text/x-python",
   "name": "python",
   "nbconvert_exporter": "python",
   "pygments_lexer": "ipython3",
   "version": "3.7.5rc1"
  }
 },
 "nbformat": 4,
 "nbformat_minor": 1
}
